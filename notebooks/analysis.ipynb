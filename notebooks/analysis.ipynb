{
 "cells": [
  {
   "cell_type": "code",
   "execution_count": 11,
   "id": "5821af62-39e1-4702-9030-d35a6fab0848",
   "metadata": {},
   "outputs": [],
   "source": [
    "import ase.io\n",
    "import pandas as pd\n",
    "import ampopt\n",
    "from ampopt.study import get_study\n",
    "from ampopt.utils import format_params\n",
    "from optuna import visualization as viz\n",
    "import matplotlib.pyplot as plt"
   ]
  },
  {
   "cell_type": "markdown",
   "id": "c8f8a3fa-b6cb-4acc-8445-604e8d5a36f0",
   "metadata": {},
   "source": [
    "## Potential Energy Histograms"
   ]
  },
  {
   "cell_type": "code",
   "execution_count": 2,
   "id": "a6d46b42-a058-45e5-8332-94fb7819536f",
   "metadata": {},
   "outputs": [
    {
     "data": {
      "text/plain": [
       "<AxesSubplot: ylabel='Frequency'>"
      ]
     },
     "execution_count": 2,
     "metadata": {},
     "output_type": "execute_result"
    },
    {
     "data": {
      "image/png": "[encoded data removed]",
      "text/plain": [
       "<Figure size 640x480 with 1 Axes>"
      ]
     },
     "metadata": {},
     "output_type": "display_data"
    }
   ],
   "source": [
    "small_data = ase.io.Trajectory(\"../data/oc20_3k_train.traj\")\n",
    "pd.DataFrame([d.get_potential_energy() for d in small_data]).plot(kind='hist', bins=20)"
   ]
  },
  {
   "cell_type": "code",
   "execution_count": 5,
   "id": "16498c7d-3cc9-4a01-ae01-41f90e3869c3",
   "metadata": {},
   "outputs": [
    {
     "data": {
      "text/plain": [
       "<AxesSubplot:ylabel='Frequency'>"
      ]
     },
     "execution_count": 5,
     "metadata": {},
     "output_type": "execute_result"
    },
    {
     "data": {
      "image/png": "[encoded data removed]",
      "text/plain": [
       "<Figure size 432x288 with 1 Axes>"
      ]
     },
     "metadata": {
      "needs_background": "light"
     },
     "output_type": "display_data"
    }
   ],
   "source": [
    "train_data = ase.io.read(\"../data/oc20_50k_train.extxyz\", \":\")\n",
    "pd.DataFrame([d.get_potential_energy() for d in train_data[::5]]).plot(kind='hist', bins=50)"
   ]
  },
  {
   "cell_type": "markdown",
   "id": "280028b8-e8c4-4cb8-8385-d23d8fe01fe6",
   "metadata": {},
   "source": [
    "Steps to create `oc20_50k_alex.extxyz`:\n",
    "\n",
    "1. Download 200K split of S2EF task https://github.com/Open-Catalyst-Project/ocp/blob/main/DATASET.md\n",
    "2. Decompress: `tar -xf s2ef_train_200K.tar`\n",
    "3. Decompress individual files: `xz -d s2ef_train_200K/s2ef_train_200K/*.extxyz.xz`\n",
    "4. Combine the first 10 files: `cd s2ef_train_200K/s2ef_train_200K` then\n",
    "    ```python\n",
    "    import ase.io\n",
    "    from tqdm import tqdm\n",
    "    atoms_lists = [ase.io.read(f\"{i}.extxyz\", \":\") for i in tqdm(range(10))]\n",
    "    atoms = [a for al in atoms_lists for a in al]\n",
    "    ase.io.write(\"oc20_50k_alex.extxyz\", tqdm(atoms))\n",
    "    ```"
   ]
  },
  {
   "cell_type": "code",
   "execution_count": 3,
   "id": "88dda7d0-450b-460a-a2a7-6806497d590f",
   "metadata": {},
   "outputs": [
    {
     "data": {
      "text/plain": [
       "<AxesSubplot:ylabel='Frequency'>"
      ]
     },
     "execution_count": 3,
     "metadata": {},
     "output_type": "execute_result"
    },
    {
     "data": {
      "image/png": "[encoded data removed]",
      "text/plain": [
       "<Figure size 432x288 with 1 Axes>"
      ]
     },
     "metadata": {
      "needs_background": "light"
     },
     "output_type": "display_data"
    }
   ],
   "source": [
    "alex_data = ase.io.read(\"../data/oc20_50k_alex.extxyz\", \":\")\n",
    "\n",
    "pd.DataFrame([d.get_potential_energy() for d in alex_data]).plot(kind='hist', bins=20)"
   ]
  },
  {
   "cell_type": "markdown",
   "id": "4c176cc3-2cb2-4e4a-93d3-50312757d533",
   "metadata": {},
   "source": [
    "## Sampling and Pruning"
   ]
  },
  {
   "cell_type": "code",
   "execution_count": 3,
   "id": "866d31cf-7931-4159-b167-ce72fa0a1448",
   "metadata": {},
   "outputs": [
    {
     "name": "stdout",
     "output_type": "stream",
     "text": [
      "Running hyperparam tuning with:\n",
      " - study_name: cmaes-oc20-3k\n",
      " - dataset: ../data/oc20_3k_train.lmdb\n",
      " - n_trials: 20\n",
      " - sampler: CmaEs\n",
      " - pruner: None\n",
      " - num epochs: 500\n"
     ]
    },
    {
     "name": "stderr",
     "output_type": "stream",
     "text": [
      "\u001b[32m[I 2022-10-09 04:13:18,967]\u001b[0m A new study created in RDB with name: cmaes-oc20-3k\u001b[0m\n",
      "loading from C:\\Users\\ryanc\\Desktop\\Student Files\\VIP\\Alex-Repo\\bdqm-hyperparam-tuning\\data\\oc20_3k_train.lmdb:  13%|▏|"
     ]
    },
    {
     "name": "stdout",
     "output_type": "stream",
     "text": [
      " - params:\n",
      "   - dropout_rate: 0.0\n",
      "   - gamma: 1.0\n",
      "CmaEsSampler\n",
      "<optuna.pruners._nop.NopPruner object at 0x000002BD56968670>\n",
      "Results saved to ./checkpoints\\2022-10-09-04-13-19-71c9df02-67ae-4816-b075-2a5c19e76661\n"
     ]
    },
    {
     "name": "stderr",
     "output_type": "stream",
     "text": [
      "loading from C:\\Users\\ryanc\\Desktop\\Student Files\\VIP\\Alex-Repo\\bdqm-hyperparam-tuning\\data\\oc20_3k_train.lmdb: 100%|█|\n"
     ]
    },
    {
     "name": "stdout",
     "output_type": "stream",
     "text": [
      "Loading dataset: 3000 images\n",
      "Use Xavier initialization\n",
      "Loading model: 7401 parameters\n",
      "Loading skorch trainer\n"
     ]
    },
    {
     "name": "stderr",
     "output_type": "stream",
     "text": [
      "\u001b[32m[I 2022-10-09 04:18:13,388]\u001b[0m Trial 0 finished with value: 95.91544157146478 and parameters: {'num_layers': 17, 'num_nodes': 20, 'lr': 0.0038288599225124328}. Best is trial 0 with value: 95.9154.\u001b[0m\n"
     ]
    },
    {
     "name": "stdout",
     "output_type": "stream",
     "text": [
      "Training completed in 292.18550658226013s\n",
      "Results saved to ./checkpoints\\2022-10-09-04-18-13-18bea672-fa5b-40e7-9534-682fa658cfe9\n"
     ]
    },
    {
     "name": "stderr",
     "output_type": "stream",
     "text": [
      "loading from C:\\Users\\ryanc\\Desktop\\Student Files\\VIP\\Alex-Repo\\bdqm-hyperparam-tuning\\data\\oc20_3k_train.lmdb: 100%|█|\n"
     ]
    },
    {
     "name": "stdout",
     "output_type": "stream",
     "text": [
      "Loading dataset: 3000 images\n",
      "Use Xavier initialization\n",
      "Loading model: 2355 parameters\n",
      "Loading skorch trainer\n"
     ]
    },
    {
     "name": "stderr",
     "output_type": "stream",
     "text": [
      "\u001b[32m[I 2022-10-09 04:21:44,564]\u001b[0m Trial 1 finished with value: 105.02974357161779 and parameters: {'num_layers': 16, 'num_nodes': 11, 'lr': 0.00025662965320428203}. Best is trial 0 with value: 95.9154.\u001b[0m\n",
      "loading from C:\\Users\\ryanc\\Desktop\\Student Files\\VIP\\Alex-Repo\\bdqm-hyperparam-tuning\\data\\oc20_3k_train.lmdb:   0%| |"
     ]
    },
    {
     "name": "stdout",
     "output_type": "stream",
     "text": [
      "Training completed in 209.9199619293213s\n",
      "Results saved to ./checkpoints\\2022-10-09-04-21-44-601061b7-2001-420f-9a39-7fd6c0bf9734\n"
     ]
    },
    {
     "name": "stderr",
     "output_type": "stream",
     "text": [
      "loading from C:\\Users\\ryanc\\Desktop\\Student Files\\VIP\\Alex-Repo\\bdqm-hyperparam-tuning\\data\\oc20_3k_train.lmdb: 100%|█|\n"
     ]
    },
    {
     "name": "stdout",
     "output_type": "stream",
     "text": [
      "Loading dataset: 3000 images\n",
      "Use Xavier initialization\n",
      "Loading model: 7833 parameters\n",
      "Loading skorch trainer\n"
     ]
    },
    {
     "name": "stderr",
     "output_type": "stream",
     "text": [
      "\u001b[32m[I 2022-10-09 04:26:53,647]\u001b[0m Trial 2 finished with value: 98.5947482442858 and parameters: {'num_layers': 15, 'num_nodes': 22, 'lr': 8.047858475668461e-05}. Best is trial 0 with value: 95.9154.\u001b[0m\n",
      "loading from C:\\Users\\ryanc\\Desktop\\Student Files\\VIP\\Alex-Repo\\bdqm-hyperparam-tuning\\data\\oc20_3k_train.lmdb:   0%| |"
     ]
    },
    {
     "name": "stdout",
     "output_type": "stream",
     "text": [
      "Training completed in 308.07035875320435s\n",
      "Results saved to ./checkpoints\\2022-10-09-04-26-53-adf22200-1086-4fb9-ac5b-1bf1786638bd\n"
     ]
    },
    {
     "name": "stderr",
     "output_type": "stream",
     "text": [
      "loading from C:\\Users\\ryanc\\Desktop\\Student Files\\VIP\\Alex-Repo\\bdqm-hyperparam-tuning\\data\\oc20_3k_train.lmdb: 100%|█|\n"
     ]
    },
    {
     "name": "stdout",
     "output_type": "stream",
     "text": [
      "Loading dataset: 3000 images\n",
      "Use Xavier initialization\n",
      "Loading model: 1881 parameters\n",
      "Loading skorch trainer\n"
     ]
    },
    {
     "name": "stderr",
     "output_type": "stream",
     "text": [
      "\u001b[32m[I 2022-10-09 04:30:19,144]\u001b[0m Trial 3 finished with value: 99.26364447709355 and parameters: {'num_layers': 15, 'num_nodes': 10, 'lr': 0.004876954525857502}. Best is trial 0 with value: 95.9154.\u001b[0m\n",
      "loading from C:\\Users\\ryanc\\Desktop\\Student Files\\VIP\\Alex-Repo\\bdqm-hyperparam-tuning\\data\\oc20_3k_train.lmdb:   0%| |"
     ]
    },
    {
     "name": "stdout",
     "output_type": "stream",
     "text": [
      "Training completed in 204.35402631759644s\n",
      "Results saved to ./checkpoints\\2022-10-09-04-30-19-7d6a69d0-3b1a-4e24-bd46-a4ae3db4a88a\n"
     ]
    },
    {
     "name": "stderr",
     "output_type": "stream",
     "text": [
      "loading from C:\\Users\\ryanc\\Desktop\\Student Files\\VIP\\Alex-Repo\\bdqm-hyperparam-tuning\\data\\oc20_3k_train.lmdb: 100%|█|\n"
     ]
    },
    {
     "name": "stdout",
     "output_type": "stream",
     "text": [
      "Loading dataset: 3000 images\n",
      "Use Xavier initialization\n",
      "Loading model: 3543 parameters\n",
      "Loading skorch trainer\n"
     ]
    },
    {
     "name": "stderr",
     "output_type": "stream",
     "text": [
      "\u001b[32m[I 2022-10-09 04:33:19,018]\u001b[0m Trial 4 finished with value: 11687.066627966386 and parameters: {'num_layers': 6, 'num_nodes': 23, 'lr': 0.09771489812238231}. Best is trial 0 with value: 95.9154.\u001b[0m\n"
     ]
    },
    {
     "name": "stdout",
     "output_type": "stream",
     "text": [
      "Training completed in 178.96576595306396s\n",
      "Results saved to ./checkpoints\\2022-10-09-04-33-19-4aa79d12-d713-4b7d-b41e-282604e9f009\n"
     ]
    },
    {
     "name": "stderr",
     "output_type": "stream",
     "text": [
      "loading from C:\\Users\\ryanc\\Desktop\\Student Files\\VIP\\Alex-Repo\\bdqm-hyperparam-tuning\\data\\oc20_3k_train.lmdb: 100%|█|\n"
     ]
    },
    {
     "name": "stdout",
     "output_type": "stream",
     "text": [
      "Loading dataset: 3000 images\n",
      "Use Xavier initialization\n",
      "Loading model: 5713 parameters\n",
      "Loading skorch trainer\n"
     ]
    },
    {
     "name": "stderr",
     "output_type": "stream",
     "text": [
      "\u001b[32m[I 2022-10-09 04:38:20,908]\u001b[0m Trial 5 finished with value: 457.7037491066584 and parameters: {'num_layers': 20, 'num_nodes': 16, 'lr': 0.03264371425900009}. Best is trial 0 with value: 95.9154.\u001b[0m\n",
      "loading from C:\\Users\\ryanc\\Desktop\\Student Files\\VIP\\Alex-Repo\\bdqm-hyperparam-tuning\\data\\oc20_3k_train.lmdb:   0%| |"
     ]
    },
    {
     "name": "stdout",
     "output_type": "stream",
     "text": [
      "Training completed in 300.87257146835327s\n",
      "Results saved to ./checkpoints\\2022-10-09-04-38-20-ea46cfc6-e450-44ef-afb4-0f910ddd7795\n"
     ]
    },
    {
     "name": "stderr",
     "output_type": "stream",
     "text": [
      "loading from C:\\Users\\ryanc\\Desktop\\Student Files\\VIP\\Alex-Repo\\bdqm-hyperparam-tuning\\data\\oc20_3k_train.lmdb: 100%|█|\n"
     ]
    },
    {
     "name": "stdout",
     "output_type": "stream",
     "text": [
      "Loading dataset: 3000 images\n",
      "Use Xavier initialization\n",
      "Loading model: 2905 parameters\n",
      "Loading skorch trainer\n"
     ]
    },
    {
     "name": "stderr",
     "output_type": "stream",
     "text": [
      "\u001b[32m[I 2022-10-09 04:42:10,842]\u001b[0m Trial 6 finished with value: 111.4207938213506 and parameters: {'num_layers': 17, 'num_nodes': 12, 'lr': 0.00966299593198119}. Best is trial 0 with value: 95.9154.\u001b[0m\n",
      "loading from C:\\Users\\ryanc\\Desktop\\Student Files\\VIP\\Alex-Repo\\bdqm-hyperparam-tuning\\data\\oc20_3k_train.lmdb:   0%| |"
     ]
    },
    {
     "name": "stdout",
     "output_type": "stream",
     "text": [
      "Training completed in 228.89500427246094s\n",
      "Results saved to ./checkpoints\\2022-10-09-04-42-10-7c195236-114a-4350-948f-0c2833bd5f05\n"
     ]
    },
    {
     "name": "stderr",
     "output_type": "stream",
     "text": [
      "loading from C:\\Users\\ryanc\\Desktop\\Student Files\\VIP\\Alex-Repo\\bdqm-hyperparam-tuning\\data\\oc20_3k_train.lmdb: 100%|█|\n"
     ]
    },
    {
     "name": "stdout",
     "output_type": "stream",
     "text": [
      "Loading dataset: 3000 images\n",
      "Use Xavier initialization\n",
      "Loading model: 2671 parameters\n",
      "Loading skorch trainer\n"
     ]
    },
    {
     "name": "stderr",
     "output_type": "stream",
     "text": [
      "\u001b[32m[I 2022-10-09 04:45:37,743]\u001b[0m Trial 7 finished with value: 125.71905474999231 and parameters: {'num_layers': 10, 'num_nodes': 15, 'lr': 0.01363326381805546}. Best is trial 0 with value: 95.9154.\u001b[0m\n",
      "loading from C:\\Users\\ryanc\\Desktop\\Student Files\\VIP\\Alex-Repo\\bdqm-hyperparam-tuning\\data\\oc20_3k_train.lmdb:   0%| |"
     ]
    },
    {
     "name": "stdout",
     "output_type": "stream",
     "text": [
      "Training completed in 205.6368510723114s\n",
      "Results saved to ./checkpoints\\2022-10-09-04-45-37-4040b71a-62ba-48ee-bf87-1408b7726bc6\n"
     ]
    },
    {
     "name": "stderr",
     "output_type": "stream",
     "text": [
      "loading from C:\\Users\\ryanc\\Desktop\\Student Files\\VIP\\Alex-Repo\\bdqm-hyperparam-tuning\\data\\oc20_3k_train.lmdb: 100%|█|\n"
     ]
    },
    {
     "name": "stdout",
     "output_type": "stream",
     "text": [
      "Loading dataset: 3000 images\n",
      "Use Xavier initialization\n",
      "Loading model: 4375 parameters\n",
      "Loading skorch trainer\n"
     ]
    },
    {
     "name": "stderr",
     "output_type": "stream",
     "text": [
      "\u001b[32m[I 2022-10-09 04:49:58,386]\u001b[0m Trial 8 finished with value: 422.6840457788132 and parameters: {'num_layers': 12, 'num_nodes': 18, 'lr': 0.020668106628912834}. Best is trial 0 with value: 95.9154.\u001b[0m\n",
      "loading from C:\\Users\\ryanc\\Desktop\\Student Files\\VIP\\Alex-Repo\\bdqm-hyperparam-tuning\\data\\oc20_3k_train.lmdb:   0%| |"
     ]
    },
    {
     "name": "stdout",
     "output_type": "stream",
     "text": [
      "Training completed in 259.42934250831604s\n",
      "Results saved to ./checkpoints\\2022-10-09-04-49-58-f483079b-cdcf-4fb5-81f9-a7fca1809532\n"
     ]
    },
    {
     "name": "stderr",
     "output_type": "stream",
     "text": [
      "loading from C:\\Users\\ryanc\\Desktop\\Student Files\\VIP\\Alex-Repo\\bdqm-hyperparam-tuning\\data\\oc20_3k_train.lmdb: 100%|█|\n"
     ]
    },
    {
     "name": "stdout",
     "output_type": "stream",
     "text": [
      "Loading dataset: 3000 images\n",
      "Use Xavier initialization\n",
      "Loading model: 13201 parameters\n",
      "Loading skorch trainer\n"
     ]
    },
    {
     "name": "stderr",
     "output_type": "stream",
     "text": [
      "\u001b[32m[I 2022-10-09 04:56:52,866]\u001b[0m Trial 9 finished with value: 99.99325819659522 and parameters: {'num_layers': 20, 'num_nodes': 25, 'lr': 0.0005163823015777613}. Best is trial 0 with value: 95.9154.\u001b[0m\n",
      "loading from C:\\Users\\ryanc\\Desktop\\Student Files\\VIP\\Alex-Repo\\bdqm-hyperparam-tuning\\data\\oc20_3k_train.lmdb:   0%| |"
     ]
    },
    {
     "name": "stdout",
     "output_type": "stream",
     "text": [
      "Training completed in 413.397581577301s\n",
      "Results saved to ./checkpoints\\2022-10-09-04-56-52-6e7c7b54-16fd-47df-8714-678bdc64be03\n"
     ]
    },
    {
     "name": "stderr",
     "output_type": "stream",
     "text": [
      "loading from C:\\Users\\ryanc\\Desktop\\Student Files\\VIP\\Alex-Repo\\bdqm-hyperparam-tuning\\data\\oc20_3k_train.lmdb: 100%|█|\n"
     ]
    },
    {
     "name": "stdout",
     "output_type": "stream",
     "text": [
      "Loading dataset: 3000 images\n",
      "Use Xavier initialization\n",
      "Loading model: 6259 parameters\n",
      "Loading skorch trainer\n"
     ]
    },
    {
     "name": "stderr",
     "output_type": "stream",
     "text": [
      "\u001b[32m[I 2022-10-09 05:01:22,091]\u001b[0m Trial 10 finished with value: 100.17402769253282 and parameters: {'num_layers': 13, 'num_nodes': 21, 'lr': 0.00058316262343444}. Best is trial 0 with value: 95.9154.\u001b[0m\n",
      "loading from C:\\Users\\ryanc\\Desktop\\Student Files\\VIP\\Alex-Repo\\bdqm-hyperparam-tuning\\data\\oc20_3k_train.lmdb:   0%| |"
     ]
    },
    {
     "name": "stdout",
     "output_type": "stream",
     "text": [
      "Training completed in 268.1697700023651s\n",
      "Results saved to ./checkpoints\\2022-10-09-05-01-22-fc711ef8-b478-4e13-ad45-18ec5a70d4b6\n"
     ]
    },
    {
     "name": "stderr",
     "output_type": "stream",
     "text": [
      "loading from C:\\Users\\ryanc\\Desktop\\Student Files\\VIP\\Alex-Repo\\bdqm-hyperparam-tuning\\data\\oc20_3k_train.lmdb: 100%|█|\n"
     ]
    },
    {
     "name": "stdout",
     "output_type": "stream",
     "text": [
      "Loading dataset: 3000 images\n",
      "Use Xavier initialization\n",
      "Loading model: 6259 parameters\n",
      "Loading skorch trainer\n"
     ]
    },
    {
     "name": "stderr",
     "output_type": "stream",
     "text": [
      "\u001b[32m[I 2022-10-09 05:05:56,726]\u001b[0m Trial 11 finished with value: 92.0892053105986 and parameters: {'num_layers': 13, 'num_nodes': 21, 'lr': 0.007633787350909542}. Best is trial 11 with value: 92.0892.\u001b[0m\n",
      "loading from C:\\Users\\ryanc\\Desktop\\Student Files\\VIP\\Alex-Repo\\bdqm-hyperparam-tuning\\data\\oc20_3k_train.lmdb:   0%| |"
     ]
    },
    {
     "name": "stdout",
     "output_type": "stream",
     "text": [
      "Training completed in 273.5450048446655s\n",
      "Results saved to ./checkpoints\\2022-10-09-05-05-56-f4f6305d-7def-460a-b84f-10a800aab204\n"
     ]
    },
    {
     "name": "stderr",
     "output_type": "stream",
     "text": [
      "loading from C:\\Users\\ryanc\\Desktop\\Student Files\\VIP\\Alex-Repo\\bdqm-hyperparam-tuning\\data\\oc20_3k_train.lmdb: 100%|█|\n"
     ]
    },
    {
     "name": "stdout",
     "output_type": "stream",
     "text": [
      "Loading dataset: 3000 images\n",
      "Use Xavier initialization\n",
      "Loading model: 6721 parameters\n",
      "Loading skorch trainer\n"
     ]
    },
    {
     "name": "stderr",
     "output_type": "stream",
     "text": [
      "\u001b[32m[I 2022-10-09 05:11:13,830]\u001b[0m Trial 12 finished with value: 100.68161408567033 and parameters: {'num_layers': 14, 'num_nodes': 21, 'lr': 0.000551644436453891}. Best is trial 11 with value: 92.0892.\u001b[0m\n",
      "loading from C:\\Users\\ryanc\\Desktop\\Student Files\\VIP\\Alex-Repo\\bdqm-hyperparam-tuning\\data\\oc20_3k_train.lmdb:   0%| |"
     ]
    },
    {
     "name": "stdout",
     "output_type": "stream",
     "text": [
      "Training completed in 316.14381885528564s\n",
      "Results saved to ./checkpoints\\2022-10-09-05-11-13-b38dea09-dc5f-4846-9abc-5f9936221cf6\n"
     ]
    },
    {
     "name": "stderr",
     "output_type": "stream",
     "text": [
      "loading from C:\\Users\\ryanc\\Desktop\\Student Files\\VIP\\Alex-Repo\\bdqm-hyperparam-tuning\\data\\oc20_3k_train.lmdb: 100%|█|\n"
     ]
    },
    {
     "name": "stdout",
     "output_type": "stream",
     "text": [
      "Loading dataset: 3000 images\n",
      "Use Xavier initialization\n",
      "Loading model: 4881 parameters\n",
      "Loading skorch trainer\n"
     ]
    },
    {
     "name": "stderr",
     "output_type": "stream",
     "text": [
      "\u001b[32m[I 2022-10-09 05:15:06,685]\u001b[0m Trial 13 finished with value: 162.34861825122945 and parameters: {'num_layers': 11, 'num_nodes': 20, 'lr': 0.021339025895857313}. Best is trial 11 with value: 92.0892.\u001b[0m\n",
      "loading from C:\\Users\\ryanc\\Desktop\\Student Files\\VIP\\Alex-Repo\\bdqm-hyperparam-tuning\\data\\oc20_3k_train.lmdb:   0%| |"
     ]
    },
    {
     "name": "stdout",
     "output_type": "stream",
     "text": [
      "Training completed in 231.48630118370056s\n",
      "Results saved to ./checkpoints\\2022-10-09-05-15-06-e901e154-4129-4c9c-8391-d48cbf0d7fc3\n"
     ]
    },
    {
     "name": "stderr",
     "output_type": "stream",
     "text": [
      "loading from C:\\Users\\ryanc\\Desktop\\Student Files\\VIP\\Alex-Repo\\bdqm-hyperparam-tuning\\data\\oc20_3k_train.lmdb: 100%|█|\n"
     ]
    },
    {
     "name": "stdout",
     "output_type": "stream",
     "text": [
      "Loading dataset: 3000 images\n",
      "Use Xavier initialization\n",
      "Loading model: 7183 parameters\n",
      "Loading skorch trainer\n"
     ]
    },
    {
     "name": "stderr",
     "output_type": "stream",
     "text": [
      "\u001b[32m[I 2022-10-09 05:19:46,479]\u001b[0m Trial 14 finished with value: 90.61929541583814 and parameters: {'num_layers': 15, 'num_nodes': 21, 'lr': 0.0029398642877842282}. Best is trial 14 with value: 90.6193.\u001b[0m\n",
      "loading from C:\\Users\\ryanc\\Desktop\\Student Files\\VIP\\Alex-Repo\\bdqm-hyperparam-tuning\\data\\oc20_3k_train.lmdb:   0%| |"
     ]
    },
    {
     "name": "stdout",
     "output_type": "stream",
     "text": [
      "Training completed in 278.744615316391s\n",
      "Results saved to ./checkpoints\\2022-10-09-05-19-46-3d475d56-8f83-4685-9e54-1c641ea44395\n"
     ]
    },
    {
     "name": "stderr",
     "output_type": "stream",
     "text": [
      "loading from C:\\Users\\ryanc\\Desktop\\Student Files\\VIP\\Alex-Repo\\bdqm-hyperparam-tuning\\data\\oc20_3k_train.lmdb: 100%|█|\n"
     ]
    },
    {
     "name": "stdout",
     "output_type": "stream",
     "text": [
      "Loading dataset: 3000 images\n",
      "Use Xavier initialization\n",
      "Loading model: 4717 parameters\n",
      "Loading skorch trainer\n"
     ]
    },
    {
     "name": "stderr",
     "output_type": "stream",
     "text": [
      "\u001b[32m[I 2022-10-09 05:24:05,751]\u001b[0m Trial 15 finished with value: 196.22257438860134 and parameters: {'num_layers': 13, 'num_nodes': 18, 'lr': 0.010349493257282027}. Best is trial 14 with value: 90.6193.\u001b[0m\n",
      "loading from C:\\Users\\ryanc\\Desktop\\Student Files\\VIP\\Alex-Repo\\bdqm-hyperparam-tuning\\data\\oc20_3k_train.lmdb:   0%| |"
     ]
    },
    {
     "name": "stdout",
     "output_type": "stream",
     "text": [
      "Training completed in 258.0835692882538s\n",
      "Results saved to ./checkpoints\\2022-10-09-05-24-05-d614051e-2edc-4221-bf41-83c9ce3b6155\n"
     ]
    },
    {
     "name": "stderr",
     "output_type": "stream",
     "text": [
      "loading from C:\\Users\\ryanc\\Desktop\\Student Files\\VIP\\Alex-Repo\\bdqm-hyperparam-tuning\\data\\oc20_3k_train.lmdb: 100%|█|\n"
     ]
    },
    {
     "name": "stdout",
     "output_type": "stream",
     "text": [
      "Loading dataset: 3000 images\n",
      "Use Xavier initialization\n",
      "Loading model: 7959 parameters\n",
      "Loading skorch trainer\n"
     ]
    },
    {
     "name": "stderr",
     "output_type": "stream",
     "text": [
      "\u001b[32m[I 2022-10-09 05:28:27,074]\u001b[0m Trial 16 finished with value: 99.26129485045149 and parameters: {'num_layers': 14, 'num_nodes': 23, 'lr': 0.0002961641473962588}. Best is trial 14 with value: 90.6193.\u001b[0m\n",
      "loading from C:\\Users\\ryanc\\Desktop\\Student Files\\VIP\\Alex-Repo\\bdqm-hyperparam-tuning\\data\\oc20_3k_train.lmdb:   0%| |"
     ]
    },
    {
     "name": "stdout",
     "output_type": "stream",
     "text": [
      "Training completed in 260.35447239875793s\n",
      "Results saved to ./checkpoints\\2022-10-09-05-28-27-d396ac6a-2d44-4208-beb8-782193f9d78e\n"
     ]
    },
    {
     "name": "stderr",
     "output_type": "stream",
     "text": [
      "loading from C:\\Users\\ryanc\\Desktop\\Student Files\\VIP\\Alex-Repo\\bdqm-hyperparam-tuning\\data\\oc20_3k_train.lmdb: 100%|█|\n"
     ]
    },
    {
     "name": "stdout",
     "output_type": "stream",
     "text": [
      "Loading dataset: 3000 images\n",
      "Use Xavier initialization\n",
      "Loading model: 5059 parameters\n",
      "Loading skorch trainer\n"
     ]
    },
    {
     "name": "stderr",
     "output_type": "stream",
     "text": [
      "\u001b[32m[I 2022-10-09 05:32:37,462]\u001b[0m Trial 17 finished with value: 95.55837464325846 and parameters: {'num_layers': 14, 'num_nodes': 18, 'lr': 0.0022738391550007502}. Best is trial 14 with value: 90.6193.\u001b[0m\n",
      "loading from C:\\Users\\ryanc\\Desktop\\Student Files\\VIP\\Alex-Repo\\bdqm-hyperparam-tuning\\data\\oc20_3k_train.lmdb:   0%| |"
     ]
    },
    {
     "name": "stdout",
     "output_type": "stream",
     "text": [
      "Training completed in 249.17164063453674s\n",
      "Results saved to ./checkpoints\\2022-10-09-05-32-37-a5b53aef-7bd2-4a6f-b4ed-c2eb975f475c\n"
     ]
    },
    {
     "name": "stderr",
     "output_type": "stream",
     "text": [
      "loading from C:\\Users\\ryanc\\Desktop\\Student Files\\VIP\\Alex-Repo\\bdqm-hyperparam-tuning\\data\\oc20_3k_train.lmdb: 100%|█|\n"
     ]
    },
    {
     "name": "stdout",
     "output_type": "stream",
     "text": [
      "Loading dataset: 3000 images\n",
      "Use Xavier initialization\n",
      "Loading model: 5301 parameters\n",
      "Loading skorch trainer\n"
     ]
    },
    {
     "name": "stderr",
     "output_type": "stream",
     "text": [
      "\u001b[32m[I 2022-10-09 05:36:26,266]\u001b[0m Trial 18 finished with value: 163.68351767200005 and parameters: {'num_layers': 12, 'num_nodes': 20, 'lr': 0.02133883043129694}. Best is trial 14 with value: 90.6193.\u001b[0m\n",
      "loading from C:\\Users\\ryanc\\Desktop\\Student Files\\VIP\\Alex-Repo\\bdqm-hyperparam-tuning\\data\\oc20_3k_train.lmdb:   0%| |"
     ]
    },
    {
     "name": "stdout",
     "output_type": "stream",
     "text": [
      "Training completed in 227.81604313850403s\n",
      "Results saved to ./checkpoints\\2022-10-09-05-36-26-881e835b-c52e-4bc7-99cb-bf8c32b63323\n"
     ]
    },
    {
     "name": "stderr",
     "output_type": "stream",
     "text": [
      "loading from C:\\Users\\ryanc\\Desktop\\Student Files\\VIP\\Alex-Repo\\bdqm-hyperparam-tuning\\data\\oc20_3k_train.lmdb: 100%|█|\n"
     ]
    },
    {
     "name": "stdout",
     "output_type": "stream",
     "text": [
      "Loading dataset: 3000 images\n",
      "Use Xavier initialization\n",
      "Loading model: 5797 parameters\n",
      "Loading skorch trainer\n"
     ]
    },
    {
     "name": "stderr",
     "output_type": "stream",
     "text": [
      "\u001b[32m[I 2022-10-09 05:40:12,358]\u001b[0m Trial 19 finished with value: 110.49488360247393 and parameters: {'num_layers': 12, 'num_nodes': 21, 'lr': 0.00173827586677576}. Best is trial 14 with value: 90.6193.\u001b[0m\n",
      "\u001b[32m[I 2022-10-09 05:40:12,439]\u001b[0m Using an existing study with name 'cmaes-oc20-3k' instead of creating a new one.\u001b[0m\n"
     ]
    },
    {
     "name": "stdout",
     "output_type": "stream",
     "text": [
      "Training completed in 225.2071042060852s\n",
      "Running hyperparam tuning with:\n",
      " - study_name: cmaes-oc20-3k\n",
      " - dataset: ../data/oc20_3k_train.lmdb\n",
      " - n_trials: 20\n",
      " - sampler: CmaEs\n",
      " - pruner: None\n",
      " - num epochs: 500\n",
      " - params:\n",
      "   - dropout_rate: 0.0\n",
      "   - gamma: 1.0\n",
      "CmaEsSampler\n",
      "<optuna.pruners._nop.NopPruner object at 0x000002BD56968460>\n"
     ]
    },
    {
     "name": "stderr",
     "output_type": "stream",
     "text": [
      "loading from C:\\Users\\ryanc\\Desktop\\Student Files\\VIP\\Alex-Repo\\bdqm-hyperparam-tuning\\data\\oc20_3k_train.lmdb:  13%|▏|"
     ]
    },
    {
     "name": "stdout",
     "output_type": "stream",
     "text": [
      "Results saved to ./checkpoints\\2022-10-09-05-40-12-9bc76f57-9fb7-4e44-a8a3-5050eef0a2a5\n"
     ]
    },
    {
     "name": "stderr",
     "output_type": "stream",
     "text": [
      "loading from C:\\Users\\ryanc\\Desktop\\Student Files\\VIP\\Alex-Repo\\bdqm-hyperparam-tuning\\data\\oc20_3k_train.lmdb: 100%|█|\n"
     ]
    },
    {
     "name": "stdout",
     "output_type": "stream",
     "text": [
      "Loading dataset: 3000 images\n",
      "Use Xavier initialization\n",
      "Loading model: 5207 parameters\n",
      "Loading skorch trainer\n"
     ]
    },
    {
     "name": "stderr",
     "output_type": "stream",
     "text": [
      "\u001b[32m[I 2022-10-09 05:44:05,395]\u001b[0m Trial 20 finished with value: 102.23870901060774 and parameters: {'num_layers': 13, 'num_nodes': 19, 'lr': 0.00014501749481869147}. Best is trial 14 with value: 90.6193.\u001b[0m\n",
      "loading from C:\\Users\\ryanc\\Desktop\\Student Files\\VIP\\Alex-Repo\\bdqm-hyperparam-tuning\\data\\oc20_3k_train.lmdb:   0%| |"
     ]
    },
    {
     "name": "stdout",
     "output_type": "stream",
     "text": [
      "Training completed in 232.04010677337646s\n",
      "Results saved to ./checkpoints\\2022-10-09-05-44-05-de732308-aa84-43ba-be89-86a326d1afad\n"
     ]
    },
    {
     "name": "stderr",
     "output_type": "stream",
     "text": [
      "loading from C:\\Users\\ryanc\\Desktop\\Student Files\\VIP\\Alex-Repo\\bdqm-hyperparam-tuning\\data\\oc20_3k_train.lmdb: 100%|█|\n"
     ]
    },
    {
     "name": "stdout",
     "output_type": "stream",
     "text": [
      "Loading dataset: 3000 images\n",
      "Use Xavier initialization\n",
      "Loading model: 8511 parameters\n",
      "Loading skorch trainer\n"
     ]
    },
    {
     "name": "stderr",
     "output_type": "stream",
     "text": [
      "\u001b[32m[I 2022-10-09 05:48:35,373]\u001b[0m Trial 21 finished with value: 96.90467156124306 and parameters: {'num_layers': 15, 'num_nodes': 23, 'lr': 0.005111347248083355}. Best is trial 14 with value: 90.6193.\u001b[0m\n",
      "loading from C:\\Users\\ryanc\\Desktop\\Student Files\\VIP\\Alex-Repo\\bdqm-hyperparam-tuning\\data\\oc20_3k_train.lmdb:   0%| |"
     ]
    },
    {
     "name": "stdout",
     "output_type": "stream",
     "text": [
      "Training completed in 269.0449993610382s\n",
      "Results saved to ./checkpoints\\2022-10-09-05-48-35-0d6dad1e-9038-4dcd-a849-302b8c0c6257\n"
     ]
    },
    {
     "name": "stderr",
     "output_type": "stream",
     "text": [
      "loading from C:\\Users\\ryanc\\Desktop\\Student Files\\VIP\\Alex-Repo\\bdqm-hyperparam-tuning\\data\\oc20_3k_train.lmdb: 100%|█|\n"
     ]
    },
    {
     "name": "stdout",
     "output_type": "stream",
     "text": [
      "Loading dataset: 3000 images\n",
      "Use Xavier initialization\n",
      "Loading model: 5797 parameters\n",
      "Loading skorch trainer\n"
     ]
    },
    {
     "name": "stderr",
     "output_type": "stream",
     "text": [
      "\u001b[32m[I 2022-10-09 05:52:21,043]\u001b[0m Trial 22 finished with value: 102.32731770797854 and parameters: {'num_layers': 12, 'num_nodes': 21, 'lr': 0.0034778688328826}. Best is trial 14 with value: 90.6193.\u001b[0m\n",
      "loading from C:\\Users\\ryanc\\Desktop\\Student Files\\VIP\\Alex-Repo\\bdqm-hyperparam-tuning\\data\\oc20_3k_train.lmdb:   0%| |"
     ]
    },
    {
     "name": "stdout",
     "output_type": "stream",
     "text": [
      "Training completed in 224.73967337608337s\n",
      "Results saved to ./checkpoints\\2022-10-09-05-52-21-58600182-7a8b-40ed-81b1-4c8d57193256\n"
     ]
    },
    {
     "name": "stderr",
     "output_type": "stream",
     "text": [
      "loading from C:\\Users\\ryanc\\Desktop\\Student Files\\VIP\\Alex-Repo\\bdqm-hyperparam-tuning\\data\\oc20_3k_train.lmdb: 100%|█|\n"
     ]
    },
    {
     "name": "stdout",
     "output_type": "stream",
     "text": [
      "Loading dataset: 3000 images\n",
      "Use Xavier initialization\n",
      "Loading model: 8617 parameters\n",
      "Loading skorch trainer\n"
     ]
    },
    {
     "name": "stderr",
     "output_type": "stream",
     "text": [
      "\u001b[32m[I 2022-10-09 05:56:35,815]\u001b[0m Trial 23 finished with value: 88.47002220189749 and parameters: {'num_layers': 14, 'num_nodes': 24, 'lr': 0.004797187690838467}. Best is trial 23 with value: 88.47.\u001b[0m\n",
      "loading from C:\\Users\\ryanc\\Desktop\\Student Files\\VIP\\Alex-Repo\\bdqm-hyperparam-tuning\\data\\oc20_3k_train.lmdb:   0%| |"
     ]
    },
    {
     "name": "stdout",
     "output_type": "stream",
     "text": [
      "Training completed in 253.79469633102417s\n",
      "Results saved to ./checkpoints\\2022-10-09-05-56-35-aad60601-6d6f-4bcf-9bfa-fb962e062ce2\n"
     ]
    },
    {
     "name": "stderr",
     "output_type": "stream",
     "text": [
      "loading from C:\\Users\\ryanc\\Desktop\\Student Files\\VIP\\Alex-Repo\\bdqm-hyperparam-tuning\\data\\oc20_3k_train.lmdb: 100%|█|\n"
     ]
    },
    {
     "name": "stdout",
     "output_type": "stream",
     "text": [
      "Loading dataset: 3000 images\n",
      "Use Xavier initialization\n",
      "Loading model: 7327 parameters\n",
      "Loading skorch trainer\n"
     ]
    },
    {
     "name": "stderr",
     "output_type": "stream",
     "text": [
      "\u001b[32m[I 2022-10-09 06:00:52,020]\u001b[0m Trial 24 finished with value: 117.71988680279533 and parameters: {'num_layers': 14, 'num_nodes': 22, 'lr': 0.010038221566526609}. Best is trial 23 with value: 88.47.\u001b[0m\n",
      "loading from C:\\Users\\ryanc\\Desktop\\Student Files\\VIP\\Alex-Repo\\bdqm-hyperparam-tuning\\data\\oc20_3k_train.lmdb:   0%| |"
     ]
    },
    {
     "name": "stdout",
     "output_type": "stream",
     "text": [
      "Training completed in 255.13905715942383s\n",
      "Results saved to ./checkpoints\\2022-10-09-06-00-52-fc0358b5-8d6a-4420-8030-bdf2d1d31fd7\n"
     ]
    },
    {
     "name": "stderr",
     "output_type": "stream",
     "text": [
      "loading from C:\\Users\\ryanc\\Desktop\\Student Files\\VIP\\Alex-Repo\\bdqm-hyperparam-tuning\\data\\oc20_3k_train.lmdb: 100%|█|\n"
     ]
    },
    {
     "name": "stdout",
     "output_type": "stream",
     "text": [
      "Loading dataset: 3000 images\n",
      "Use Xavier initialization\n",
      "Loading model: 4863 parameters\n",
      "Loading skorch trainer\n"
     ]
    },
    {
     "name": "stderr",
     "output_type": "stream",
     "text": [
      "\u001b[32m[I 2022-10-09 06:05:02,642]\u001b[0m Trial 25 finished with value: 97.64616489718527 and parameters: {'num_layers': 15, 'num_nodes': 17, 'lr': 0.0005331219811992422}. Best is trial 23 with value: 88.47.\u001b[0m\n",
      "loading from C:\\Users\\ryanc\\Desktop\\Student Files\\VIP\\Alex-Repo\\bdqm-hyperparam-tuning\\data\\oc20_3k_train.lmdb:   0%| |"
     ]
    },
    {
     "name": "stdout",
     "output_type": "stream",
     "text": [
      "Training completed in 249.71695852279663s\n",
      "Results saved to ./checkpoints\\2022-10-09-06-05-02-e05304d4-0b23-46ee-baab-9a1b2442bb0a\n"
     ]
    },
    {
     "name": "stderr",
     "output_type": "stream",
     "text": [
      "loading from C:\\Users\\ryanc\\Desktop\\Student Files\\VIP\\Alex-Repo\\bdqm-hyperparam-tuning\\data\\oc20_3k_train.lmdb: 100%|█|\n"
     ]
    },
    {
     "name": "stdout",
     "output_type": "stream",
     "text": [
      "Loading dataset: 3000 images\n",
      "Use Xavier initialization\n",
      "Loading model: 10601 parameters\n",
      "Loading skorch trainer\n"
     ]
    },
    {
     "name": "stderr",
     "output_type": "stream",
     "text": [
      "\u001b[32m[I 2022-10-09 06:10:21,999]\u001b[0m Trial 26 finished with value: 182.73661092554565 and parameters: {'num_layers': 16, 'num_nodes': 25, 'lr': 0.007635397237095638}. Best is trial 23 with value: 88.47.\u001b[0m\n",
      "loading from C:\\Users\\ryanc\\Desktop\\Student Files\\VIP\\Alex-Repo\\bdqm-hyperparam-tuning\\data\\oc20_3k_train.lmdb:   0%| |"
     ]
    },
    {
     "name": "stdout",
     "output_type": "stream",
     "text": [
      "Training completed in 318.45405173301697s\n",
      "Results saved to ./checkpoints\\2022-10-09-06-10-22-b732b2e4-4a5c-486e-b4c8-75def106819f\n"
     ]
    },
    {
     "name": "stderr",
     "output_type": "stream",
     "text": [
      "loading from C:\\Users\\ryanc\\Desktop\\Student Files\\VIP\\Alex-Repo\\bdqm-hyperparam-tuning\\data\\oc20_3k_train.lmdb: 100%|█|\n"
     ]
    },
    {
     "name": "stdout",
     "output_type": "stream",
     "text": [
      "Loading dataset: 3000 images\n",
      "Use Xavier initialization\n",
      "Loading model: 6855 parameters\n",
      "Loading skorch trainer\n"
     ]
    },
    {
     "name": "stderr",
     "output_type": "stream",
     "text": [
      "\u001b[32m[I 2022-10-09 06:14:12,054]\u001b[0m Trial 27 finished with value: 1756.9509300402133 and parameters: {'num_layers': 12, 'num_nodes': 23, 'lr': 0.08623203120446059}. Best is trial 23 with value: 88.47.\u001b[0m\n",
      "loading from C:\\Users\\ryanc\\Desktop\\Student Files\\VIP\\Alex-Repo\\bdqm-hyperparam-tuning\\data\\oc20_3k_train.lmdb:   0%| |"
     ]
    },
    {
     "name": "stdout",
     "output_type": "stream",
     "text": [
      "Training completed in 229.06928944587708s\n",
      "Results saved to ./checkpoints\\2022-10-09-06-14-12-cdc1b903-f223-4c48-9955-48b4588394bd\n"
     ]
    },
    {
     "name": "stderr",
     "output_type": "stream",
     "text": [
      "loading from C:\\Users\\ryanc\\Desktop\\Student Files\\VIP\\Alex-Repo\\bdqm-hyperparam-tuning\\data\\oc20_3k_train.lmdb: 100%|█|\n"
     ]
    },
    {
     "name": "stdout",
     "output_type": "stream",
     "text": [
      "Loading dataset: 3000 images\n",
      "Use Xavier initialization\n",
      "Loading model: 6821 parameters\n",
      "Loading skorch trainer\n"
     ]
    },
    {
     "name": "stderr",
     "output_type": "stream",
     "text": [
      "\u001b[32m[I 2022-10-09 06:18:07,920]\u001b[0m Trial 28 finished with value: 102.47734925473073 and parameters: {'num_layers': 13, 'num_nodes': 22, 'lr': 0.0011832371618691756}. Best is trial 23 with value: 88.47.\u001b[0m\n",
      "loading from C:\\Users\\ryanc\\Desktop\\Student Files\\VIP\\Alex-Repo\\bdqm-hyperparam-tuning\\data\\oc20_3k_train.lmdb:   0%| |"
     ]
    },
    {
     "name": "stdout",
     "output_type": "stream",
     "text": [
      "Training completed in 234.86506485939026s\n",
      "Results saved to ./checkpoints\\2022-10-09-06-18-07-c1896fe7-95a2-4e5a-8de1-887ba780ab71\n"
     ]
    },
    {
     "name": "stderr",
     "output_type": "stream",
     "text": [
      "loading from C:\\Users\\ryanc\\Desktop\\Student Files\\VIP\\Alex-Repo\\bdqm-hyperparam-tuning\\data\\oc20_3k_train.lmdb: 100%|█|\n"
     ]
    },
    {
     "name": "stdout",
     "output_type": "stream",
     "text": [
      "Loading dataset: 3000 images\n",
      "Use Xavier initialization\n",
      "Loading model: 4881 parameters\n",
      "Loading skorch trainer\n"
     ]
    },
    {
     "name": "stderr",
     "output_type": "stream",
     "text": [
      "\u001b[32m[I 2022-10-09 06:21:45,204]\u001b[0m Trial 29 finished with value: 113.58175656397574 and parameters: {'num_layers': 11, 'num_nodes': 20, 'lr': 6.427669936070867e-05}. Best is trial 23 with value: 88.47.\u001b[0m\n",
      "loading from C:\\Users\\ryanc\\Desktop\\Student Files\\VIP\\Alex-Repo\\bdqm-hyperparam-tuning\\data\\oc20_3k_train.lmdb:   0%| |"
     ]
    },
    {
     "name": "stdout",
     "output_type": "stream",
     "text": [
      "Training completed in 216.3491621017456s\n",
      "Results saved to ./checkpoints\\2022-10-09-06-21-45-c986aa02-c8a8-4452-ac94-33ad0755a3e1\n"
     ]
    },
    {
     "name": "stderr",
     "output_type": "stream",
     "text": [
      "loading from C:\\Users\\ryanc\\Desktop\\Student Files\\VIP\\Alex-Repo\\bdqm-hyperparam-tuning\\data\\oc20_3k_train.lmdb: 100%|█|\n"
     ]
    },
    {
     "name": "stdout",
     "output_type": "stream",
     "text": [
      "Loading dataset: 3000 images\n",
      "Use Xavier initialization\n",
      "Loading model: 6721 parameters\n",
      "Loading skorch trainer\n"
     ]
    },
    {
     "name": "stderr",
     "output_type": "stream",
     "text": [
      "\u001b[32m[I 2022-10-09 06:26:20,710]\u001b[0m Trial 30 finished with value: 92.69433892071653 and parameters: {'num_layers': 14, 'num_nodes': 21, 'lr': 0.002284952604276312}. Best is trial 23 with value: 88.47.\u001b[0m\n",
      "loading from C:\\Users\\ryanc\\Desktop\\Student Files\\VIP\\Alex-Repo\\bdqm-hyperparam-tuning\\data\\oc20_3k_train.lmdb:   0%| |"
     ]
    },
    {
     "name": "stdout",
     "output_type": "stream",
     "text": [
      "Training completed in 274.35774660110474s\n",
      "Results saved to ./checkpoints\\2022-10-09-06-26-20-cee51b4f-5dc1-4c19-a447-499039e305e6\n"
     ]
    },
    {
     "name": "stderr",
     "output_type": "stream",
     "text": [
      "loading from C:\\Users\\ryanc\\Desktop\\Student Files\\VIP\\Alex-Repo\\bdqm-hyperparam-tuning\\data\\oc20_3k_train.lmdb: 100%|█|\n"
     ]
    },
    {
     "name": "stdout",
     "output_type": "stream",
     "text": [
      "Loading dataset: 3000 images\n",
      "Use Xavier initialization\n",
      "Loading model: 3809 parameters\n",
      "Loading skorch trainer\n"
     ]
    },
    {
     "name": "stderr",
     "output_type": "stream",
     "text": [
      "\u001b[32m[I 2022-10-09 06:29:55,040]\u001b[0m Trial 31 finished with value: 111.32415945268876 and parameters: {'num_layers': 13, 'num_nodes': 16, 'lr': 0.0004989179684951439}. Best is trial 23 with value: 88.47.\u001b[0m\n"
     ]
    },
    {
     "name": "stdout",
     "output_type": "stream",
     "text": [
      "Training completed in 213.04033946990967s\n"
     ]
    },
    {
     "name": "stderr",
     "output_type": "stream",
     "text": [
      "loading from C:\\Users\\ryanc\\Desktop\\Student Files\\VIP\\Alex-Repo\\bdqm-hyperparam-tuning\\data\\oc20_3k_train.lmdb:   6%| |"
     ]
    },
    {
     "name": "stdout",
     "output_type": "stream",
     "text": [
      "Results saved to ./checkpoints\\2022-10-09-06-29-55-a2f27e41-f9f6-4211-941e-895d3ca2d8a6\n"
     ]
    },
    {
     "name": "stderr",
     "output_type": "stream",
     "text": [
      "loading from C:\\Users\\ryanc\\Desktop\\Student Files\\VIP\\Alex-Repo\\bdqm-hyperparam-tuning\\data\\oc20_3k_train.lmdb: 100%|█|\n"
     ]
    },
    {
     "name": "stdout",
     "output_type": "stream",
     "text": [
      "Loading dataset: 3000 images\n",
      "Use Xavier initialization\n",
      "Loading model: 5401 parameters\n",
      "Loading skorch trainer\n"
     ]
    },
    {
     "name": "stderr",
     "output_type": "stream",
     "text": [
      "\u001b[32m[I 2022-10-09 06:35:32,620]\u001b[0m Trial 32 finished with value: 101.70491867425348 and parameters: {'num_layers': 15, 'num_nodes': 18, 'lr': 0.00043478311804506125}. Best is trial 23 with value: 88.47.\u001b[0m\n",
      "loading from C:\\Users\\ryanc\\Desktop\\Student Files\\VIP\\Alex-Repo\\bdqm-hyperparam-tuning\\data\\oc20_3k_train.lmdb:   0%| |"
     ]
    },
    {
     "name": "stdout",
     "output_type": "stream",
     "text": [
      "Training completed in 336.1920952796936s\n",
      "Results saved to ./checkpoints\\2022-10-09-06-35-32-1dda21c3-a379-498e-bd3d-b48881e7e071\n"
     ]
    },
    {
     "name": "stderr",
     "output_type": "stream",
     "text": [
      "loading from C:\\Users\\ryanc\\Desktop\\Student Files\\VIP\\Alex-Repo\\bdqm-hyperparam-tuning\\data\\oc20_3k_train.lmdb: 100%|█|\n"
     ]
    },
    {
     "name": "stdout",
     "output_type": "stream",
     "text": [
      "Loading dataset: 3000 images\n",
      "Use Xavier initialization\n",
      "Loading model: 6259 parameters\n",
      "Loading skorch trainer\n"
     ]
    },
    {
     "name": "stderr",
     "output_type": "stream",
     "text": [
      "\u001b[32m[I 2022-10-09 06:39:58,641]\u001b[0m Trial 33 finished with value: 100.38274696626972 and parameters: {'num_layers': 13, 'num_nodes': 21, 'lr': 0.005948400221053006}. Best is trial 23 with value: 88.47.\u001b[0m\n",
      "loading from C:\\Users\\ryanc\\Desktop\\Student Files\\VIP\\Alex-Repo\\bdqm-hyperparam-tuning\\data\\oc20_3k_train.lmdb:   0%| |"
     ]
    },
    {
     "name": "stdout",
     "output_type": "stream",
     "text": [
      "Training completed in 265.053836107254s\n",
      "Results saved to ./checkpoints\\2022-10-09-06-39-58-4d48d463-ae15-407a-b624-72d1a992bd94\n"
     ]
    },
    {
     "name": "stderr",
     "output_type": "stream",
     "text": [
      "loading from C:\\Users\\ryanc\\Desktop\\Student Files\\VIP\\Alex-Repo\\bdqm-hyperparam-tuning\\data\\oc20_3k_train.lmdb: 100%|█|\n"
     ]
    },
    {
     "name": "stdout",
     "output_type": "stream",
     "text": [
      "Loading dataset: 3000 images\n",
      "Use Xavier initialization\n",
      "Loading model: 6721 parameters\n",
      "Loading skorch trainer\n"
     ]
    },
    {
     "name": "stderr",
     "output_type": "stream",
     "text": [
      "\u001b[32m[I 2022-10-09 06:44:27,555]\u001b[0m Trial 34 finished with value: 88.40076070620822 and parameters: {'num_layers': 14, 'num_nodes': 21, 'lr': 0.0041344362277965785}. Best is trial 34 with value: 88.4008.\u001b[0m\n",
      "loading from C:\\Users\\ryanc\\Desktop\\Student Files\\VIP\\Alex-Repo\\bdqm-hyperparam-tuning\\data\\oc20_3k_train.lmdb:   0%| |"
     ]
    },
    {
     "name": "stdout",
     "output_type": "stream",
     "text": [
      "Training completed in 267.84919357299805s\n",
      "Results saved to ./checkpoints\\2022-10-09-06-44-27-2c248509-8e6a-40d4-a843-3df7487994c7\n"
     ]
    },
    {
     "name": "stderr",
     "output_type": "stream",
     "text": [
      "loading from C:\\Users\\ryanc\\Desktop\\Student Files\\VIP\\Alex-Repo\\bdqm-hyperparam-tuning\\data\\oc20_3k_train.lmdb: 100%|█|\n"
     ]
    },
    {
     "name": "stdout",
     "output_type": "stream",
     "text": [
      "Loading dataset: 3000 images\n",
      "Use Xavier initialization\n",
      "Loading model: 6259 parameters\n",
      "Loading skorch trainer\n"
     ]
    },
    {
     "name": "stderr",
     "output_type": "stream",
     "text": [
      "\u001b[32m[I 2022-10-09 06:48:29,305]\u001b[0m Trial 35 finished with value: 94.29157835894573 and parameters: {'num_layers': 13, 'num_nodes': 21, 'lr': 0.0036927602142480267}. Best is trial 34 with value: 88.4008.\u001b[0m\n",
      "loading from C:\\Users\\ryanc\\Desktop\\Student Files\\VIP\\Alex-Repo\\bdqm-hyperparam-tuning\\data\\oc20_3k_train.lmdb:   0%| |"
     ]
    },
    {
     "name": "stdout",
     "output_type": "stream",
     "text": [
      "Training completed in 240.73407196998596s\n",
      "Results saved to ./checkpoints\\2022-10-09-06-48-29-079c81c1-338a-483b-aa63-45ef9ccc8932\n"
     ]
    },
    {
     "name": "stderr",
     "output_type": "stream",
     "text": [
      "loading from C:\\Users\\ryanc\\Desktop\\Student Files\\VIP\\Alex-Repo\\bdqm-hyperparam-tuning\\data\\oc20_3k_train.lmdb: 100%|█|\n"
     ]
    },
    {
     "name": "stdout",
     "output_type": "stream",
     "text": [
      "Loading dataset: 3000 images\n",
      "Use Xavier initialization\n",
      "Loading model: 4717 parameters\n",
      "Loading skorch trainer\n"
     ]
    },
    {
     "name": "stderr",
     "output_type": "stream",
     "text": [
      "\u001b[32m[I 2022-10-09 06:52:19,200]\u001b[0m Trial 36 finished with value: 94.27165514496926 and parameters: {'num_layers': 13, 'num_nodes': 18, 'lr': 0.0028964329312229494}. Best is trial 34 with value: 88.4008.\u001b[0m\n"
     ]
    },
    {
     "name": "stdout",
     "output_type": "stream",
     "text": [
      "Training completed in 228.9164388179779s\n",
      "Results saved to ./checkpoints\\2022-10-09-06-52-19-f40b180a-9f57-4ef3-8e0d-1adad01b4c4d\n"
     ]
    },
    {
     "name": "stderr",
     "output_type": "stream",
     "text": [
      "loading from C:\\Users\\ryanc\\Desktop\\Student Files\\VIP\\Alex-Repo\\bdqm-hyperparam-tuning\\data\\oc20_3k_train.lmdb: 100%|█|\n"
     ]
    },
    {
     "name": "stdout",
     "output_type": "stream",
     "text": [
      "Loading dataset: 3000 images\n",
      "Use Xavier initialization\n",
      "Loading model: 5721 parameters\n",
      "Loading skorch trainer\n"
     ]
    },
    {
     "name": "stderr",
     "output_type": "stream",
     "text": [
      "\u001b[32m[I 2022-10-09 06:56:12,832]\u001b[0m Trial 37 finished with value: 96.46572162019966 and parameters: {'num_layers': 13, 'num_nodes': 20, 'lr': 0.0003653314454733583}. Best is trial 34 with value: 88.4008.\u001b[0m\n",
      "loading from C:\\Users\\ryanc\\Desktop\\Student Files\\VIP\\Alex-Repo\\bdqm-hyperparam-tuning\\data\\oc20_3k_train.lmdb:   0%| |"
     ]
    },
    {
     "name": "stdout",
     "output_type": "stream",
     "text": [
      "Training completed in 232.58504009246826s\n",
      "Results saved to ./checkpoints\\2022-10-09-06-56-12-8d57d7a1-0b07-45b8-89c8-51596efe2e45\n"
     ]
    },
    {
     "name": "stderr",
     "output_type": "stream",
     "text": [
      "loading from C:\\Users\\ryanc\\Desktop\\Student Files\\VIP\\Alex-Repo\\bdqm-hyperparam-tuning\\data\\oc20_3k_train.lmdb: 100%|█|\n"
     ]
    },
    {
     "name": "stdout",
     "output_type": "stream",
     "text": [
      "Loading dataset: 3000 images\n",
      "Use Xavier initialization\n",
      "Loading model: 5809 parameters\n",
      "Loading skorch trainer\n"
     ]
    },
    {
     "name": "stderr",
     "output_type": "stream",
     "text": [
      "\u001b[32m[I 2022-10-09 06:59:45,986]\u001b[0m Trial 38 finished with value: 102.49043440240827 and parameters: {'num_layers': 11, 'num_nodes': 22, 'lr': 0.0019186945788364}. Best is trial 34 with value: 88.4008.\u001b[0m\n",
      "loading from C:\\Users\\ryanc\\Desktop\\Student Files\\VIP\\Alex-Repo\\bdqm-hyperparam-tuning\\data\\oc20_3k_train.lmdb:   0%| |"
     ]
    },
    {
     "name": "stdout",
     "output_type": "stream",
     "text": [
      "Training completed in 212.21283173561096s\n",
      "Results saved to ./checkpoints\\2022-10-09-06-59-46-e7e1dcaf-ac8e-40cc-8ec4-b57d45f94c5f\n"
     ]
    },
    {
     "name": "stderr",
     "output_type": "stream",
     "text": [
      "loading from C:\\Users\\ryanc\\Desktop\\Student Files\\VIP\\Alex-Repo\\bdqm-hyperparam-tuning\\data\\oc20_3k_train.lmdb: 100%|█|\n"
     ]
    },
    {
     "name": "stdout",
     "output_type": "stream",
     "text": [
      "Loading dataset: 3000 images\n",
      "Use Xavier initialization\n",
      "Loading model: 5587 parameters\n",
      "Loading skorch trainer\n"
     ]
    },
    {
     "name": "stderr",
     "output_type": "stream",
     "text": [
      "\u001b[32m[I 2022-10-09 07:03:50,036]\u001b[0m Trial 39 finished with value: 98.6317505616968 and parameters: {'num_layers': 14, 'num_nodes': 19, 'lr': 0.0011645612061514231}. Best is trial 34 with value: 88.4008.\u001b[0m\n",
      "\u001b[32m[I 2022-10-09 07:03:50,099]\u001b[0m Using an existing study with name 'cmaes-oc20-3k' instead of creating a new one.\u001b[0m\n"
     ]
    },
    {
     "name": "stdout",
     "output_type": "stream",
     "text": [
      "Training completed in 243.1765365600586s\n",
      "Running hyperparam tuning with:\n",
      " - study_name: cmaes-oc20-3k\n",
      " - dataset: ../data/oc20_3k_train.lmdb\n",
      " - n_trials: 20\n",
      " - sampler: CmaEs\n",
      " - pruner: None\n",
      " - num epochs: 500\n",
      " - params:\n",
      "   - dropout_rate: 0.0\n",
      "   - gamma: 1.0\n",
      "CmaEsSampler\n",
      "<optuna.pruners._nop.NopPruner object at 0x000002BD04B4EAC0>\n"
     ]
    },
    {
     "name": "stderr",
     "output_type": "stream",
     "text": [
      "loading from C:\\Users\\ryanc\\Desktop\\Student Files\\VIP\\Alex-Repo\\bdqm-hyperparam-tuning\\data\\oc20_3k_train.lmdb:  27%|▎|"
     ]
    },
    {
     "name": "stdout",
     "output_type": "stream",
     "text": [
      "Results saved to ./checkpoints\\2022-10-09-07-03-50-62578e88-bdea-4b40-b1f5-1b335b688eb6\n"
     ]
    },
    {
     "name": "stderr",
     "output_type": "stream",
     "text": [
      "loading from C:\\Users\\ryanc\\Desktop\\Student Files\\VIP\\Alex-Repo\\bdqm-hyperparam-tuning\\data\\oc20_3k_train.lmdb: 100%|█|\n"
     ]
    },
    {
     "name": "stdout",
     "output_type": "stream",
     "text": [
      "Loading dataset: 3000 images\n",
      "Use Xavier initialization\n",
      "Loading model: 4447 parameters\n",
      "Loading skorch trainer\n"
     ]
    },
    {
     "name": "stderr",
     "output_type": "stream",
     "text": [
      "\u001b[32m[I 2022-10-09 07:07:19,677]\u001b[0m Trial 40 finished with value: 99.17679943306415 and parameters: {'num_layers': 11, 'num_nodes': 19, 'lr': 0.00145153263478017}. Best is trial 34 with value: 88.4008.\u001b[0m\n",
      "loading from C:\\Users\\ryanc\\Desktop\\Student Files\\VIP\\Alex-Repo\\bdqm-hyperparam-tuning\\data\\oc20_3k_train.lmdb:   0%| |"
     ]
    },
    {
     "name": "stdout",
     "output_type": "stream",
     "text": [
      "Training completed in 208.60303044319153s\n",
      "Results saved to ./checkpoints\\2022-10-09-07-07-19-0859cba5-f939-478f-a2ca-b22b99231d16\n"
     ]
    },
    {
     "name": "stderr",
     "output_type": "stream",
     "text": [
      "loading from C:\\Users\\ryanc\\Desktop\\Student Files\\VIP\\Alex-Repo\\bdqm-hyperparam-tuning\\data\\oc20_3k_train.lmdb: 100%|█|\n"
     ]
    },
    {
     "name": "stdout",
     "output_type": "stream",
     "text": [
      "Loading dataset: 3000 images\n",
      "Use Xavier initialization\n",
      "Loading model: 6141 parameters\n",
      "Loading skorch trainer\n"
     ]
    },
    {
     "name": "stderr",
     "output_type": "stream",
     "text": [
      "\u001b[32m[I 2022-10-09 07:11:26,085]\u001b[0m Trial 41 finished with value: 88.88747818889611 and parameters: {'num_layers': 14, 'num_nodes': 20, 'lr': 0.004326289126564055}. Best is trial 34 with value: 88.4008.\u001b[0m\n",
      "loading from C:\\Users\\ryanc\\Desktop\\Student Files\\VIP\\Alex-Repo\\bdqm-hyperparam-tuning\\data\\oc20_3k_train.lmdb:   0%| |"
     ]
    },
    {
     "name": "stdout",
     "output_type": "stream",
     "text": [
      "Training completed in 245.53562378883362s\n",
      "Results saved to ./checkpoints\\2022-10-09-07-11-26-9321d194-b02e-4ce8-9859-281192bbbed4\n"
     ]
    },
    {
     "name": "stderr",
     "output_type": "stream",
     "text": [
      "loading from C:\\Users\\ryanc\\Desktop\\Student Files\\VIP\\Alex-Repo\\bdqm-hyperparam-tuning\\data\\oc20_3k_train.lmdb: 100%|█|\n"
     ]
    },
    {
     "name": "stdout",
     "output_type": "stream",
     "text": [
      "Loading dataset: 3000 images\n",
      "Use Xavier initialization\n",
      "Loading model: 5721 parameters\n",
      "Loading skorch trainer\n"
     ]
    },
    {
     "name": "stderr",
     "output_type": "stream",
     "text": [
      "\u001b[32m[I 2022-10-09 07:15:28,213]\u001b[0m Trial 42 finished with value: 96.9683760183597 and parameters: {'num_layers': 13, 'num_nodes': 20, 'lr': 0.014035230424520295}. Best is trial 34 with value: 88.4008.\u001b[0m\n",
      "loading from C:\\Users\\ryanc\\Desktop\\Student Files\\VIP\\Alex-Repo\\bdqm-hyperparam-tuning\\data\\oc20_3k_train.lmdb:   0%| |"
     ]
    },
    {
     "name": "stdout",
     "output_type": "stream",
     "text": [
      "Training completed in 241.17711234092712s\n",
      "Results saved to ./checkpoints\\2022-10-09-07-15-28-fed591cb-639a-4a27-b760-52aef9c7a594\n"
     ]
    },
    {
     "name": "stderr",
     "output_type": "stream",
     "text": [
      "loading from C:\\Users\\ryanc\\Desktop\\Student Files\\VIP\\Alex-Repo\\bdqm-hyperparam-tuning\\data\\oc20_3k_train.lmdb: 100%|█|\n"
     ]
    },
    {
     "name": "stdout",
     "output_type": "stream",
     "text": [
      "Loading dataset: 3000 images\n",
      "Use Xavier initialization\n",
      "Loading model: 5967 parameters\n",
      "Loading skorch trainer\n"
     ]
    },
    {
     "name": "stderr",
     "output_type": "stream",
     "text": [
      "\u001b[32m[I 2022-10-09 07:19:45,385]\u001b[0m Trial 43 finished with value: 96.84657419762397 and parameters: {'num_layers': 15, 'num_nodes': 19, 'lr': 0.0007838098432523899}. Best is trial 34 with value: 88.4008.\u001b[0m\n",
      "loading from C:\\Users\\ryanc\\Desktop\\Student Files\\VIP\\Alex-Repo\\bdqm-hyperparam-tuning\\data\\oc20_3k_train.lmdb:   0%| |"
     ]
    },
    {
     "name": "stdout",
     "output_type": "stream",
     "text": [
      "Training completed in 256.1642711162567s\n",
      "Results saved to ./checkpoints\\2022-10-09-07-19-45-4aa08a31-9696-4dc9-b781-2767dafc59fb\n"
     ]
    },
    {
     "name": "stderr",
     "output_type": "stream",
     "text": [
      "loading from C:\\Users\\ryanc\\Desktop\\Student Files\\VIP\\Alex-Repo\\bdqm-hyperparam-tuning\\data\\oc20_3k_train.lmdb: 100%|█|\n"
     ]
    },
    {
     "name": "stdout",
     "output_type": "stream",
     "text": [
      "Loading dataset: 3000 images\n",
      "Use Xavier initialization\n",
      "Loading model: 5721 parameters\n",
      "Loading skorch trainer\n"
     ]
    },
    {
     "name": "stderr",
     "output_type": "stream",
     "text": [
      "\u001b[32m[I 2022-10-09 07:23:39,633]\u001b[0m Trial 44 finished with value: 95.27906253647292 and parameters: {'num_layers': 13, 'num_nodes': 20, 'lr': 0.0027328583687739176}. Best is trial 34 with value: 88.4008.\u001b[0m\n",
      "loading from C:\\Users\\ryanc\\Desktop\\Student Files\\VIP\\Alex-Repo\\bdqm-hyperparam-tuning\\data\\oc20_3k_train.lmdb:   0%| |"
     ]
    },
    {
     "name": "stdout",
     "output_type": "stream",
     "text": [
      "Training completed in 233.21452569961548s\n",
      "Results saved to ./checkpoints\\2022-10-09-07-23-39-a35949a2-ce85-4d4e-94eb-17b0b70b49af\n"
     ]
    },
    {
     "name": "stderr",
     "output_type": "stream",
     "text": [
      "loading from C:\\Users\\ryanc\\Desktop\\Student Files\\VIP\\Alex-Repo\\bdqm-hyperparam-tuning\\data\\oc20_3k_train.lmdb: 100%|█|\n"
     ]
    },
    {
     "name": "stdout",
     "output_type": "stream",
     "text": [
      "Loading dataset: 3000 images\n",
      "Use Xavier initialization\n",
      "Loading model: 7833 parameters\n",
      "Loading skorch trainer\n"
     ]
    },
    {
     "name": "stderr",
     "output_type": "stream",
     "text": [
      "\u001b[32m[I 2022-10-09 07:28:17,239]\u001b[0m Trial 45 finished with value: 97.90914795539614 and parameters: {'num_layers': 15, 'num_nodes': 22, 'lr': 0.004203932867195633}. Best is trial 34 with value: 88.4008.\u001b[0m\n",
      "loading from C:\\Users\\ryanc\\Desktop\\Student Files\\VIP\\Alex-Repo\\bdqm-hyperparam-tuning\\data\\oc20_3k_train.lmdb:   0%| |"
     ]
    },
    {
     "name": "stdout",
     "output_type": "stream",
     "text": [
      "Training completed in 276.69821071624756s\n",
      "Results saved to ./checkpoints\\2022-10-09-07-28-17-33166023-63f8-424a-bffd-4b61a5ac01c0\n"
     ]
    },
    {
     "name": "stderr",
     "output_type": "stream",
     "text": [
      "loading from C:\\Users\\ryanc\\Desktop\\Student Files\\VIP\\Alex-Repo\\bdqm-hyperparam-tuning\\data\\oc20_3k_train.lmdb: 100%|█|\n"
     ]
    },
    {
     "name": "stdout",
     "output_type": "stream",
     "text": [
      "Loading dataset: 3000 images\n",
      "Use Xavier initialization\n",
      "Loading model: 5207 parameters\n",
      "Loading skorch trainer\n"
     ]
    },
    {
     "name": "stderr",
     "output_type": "stream",
     "text": [
      "\u001b[32m[I 2022-10-09 07:32:37,121]\u001b[0m Trial 46 finished with value: 90.0844364646879 and parameters: {'num_layers': 13, 'num_nodes': 19, 'lr': 0.0023240221281863485}. Best is trial 34 with value: 88.4008.\u001b[0m\n",
      "loading from C:\\Users\\ryanc\\Desktop\\Student Files\\VIP\\Alex-Repo\\bdqm-hyperparam-tuning\\data\\oc20_3k_train.lmdb:   0%| |"
     ]
    },
    {
     "name": "stdout",
     "output_type": "stream",
     "text": [
      "Training completed in 258.58838152885437s\n",
      "Results saved to ./checkpoints\\2022-10-09-07-32-37-69b812c0-a247-4098-9ec8-72d3557ee153\n"
     ]
    },
    {
     "name": "stderr",
     "output_type": "stream",
     "text": [
      "loading from C:\\Users\\ryanc\\Desktop\\Student Files\\VIP\\Alex-Repo\\bdqm-hyperparam-tuning\\data\\oc20_3k_train.lmdb: 100%|█|\n"
     ]
    },
    {
     "name": "stdout",
     "output_type": "stream",
     "text": [
      "Loading dataset: 3000 images\n",
      "Use Xavier initialization\n",
      "Loading model: 6259 parameters\n",
      "Loading skorch trainer\n"
     ]
    },
    {
     "name": "stderr",
     "output_type": "stream",
     "text": [
      "\u001b[32m[I 2022-10-09 07:36:41,160]\u001b[0m Trial 47 finished with value: 91.55977218080041 and parameters: {'num_layers': 13, 'num_nodes': 21, 'lr': 0.002969178157639539}. Best is trial 34 with value: 88.4008.\u001b[0m\n",
      "loading from C:\\Users\\ryanc\\Desktop\\Student Files\\VIP\\Alex-Repo\\bdqm-hyperparam-tuning\\data\\oc20_3k_train.lmdb:   0%| |"
     ]
    },
    {
     "name": "stdout",
     "output_type": "stream",
     "text": [
      "Training completed in 242.98802852630615s\n",
      "Results saved to ./checkpoints\\2022-10-09-07-36-41-54d40223-80ae-46d9-9ae3-784eb995128b\n"
     ]
    },
    {
     "name": "stderr",
     "output_type": "stream",
     "text": [
      "loading from C:\\Users\\ryanc\\Desktop\\Student Files\\VIP\\Alex-Repo\\bdqm-hyperparam-tuning\\data\\oc20_3k_train.lmdb: 100%|█|\n"
     ]
    },
    {
     "name": "stdout",
     "output_type": "stream",
     "text": [
      "Loading dataset: 3000 images\n",
      "Use Xavier initialization\n",
      "Loading model: 6259 parameters\n",
      "Loading skorch trainer\n"
     ]
    },
    {
     "name": "stderr",
     "output_type": "stream",
     "text": [
      "\u001b[32m[I 2022-10-09 07:40:40,099]\u001b[0m Trial 48 finished with value: 96.48317728638861 and parameters: {'num_layers': 13, 'num_nodes': 21, 'lr': 0.0008591177229450776}. Best is trial 34 with value: 88.4008.\u001b[0m\n",
      "loading from C:\\Users\\ryanc\\Desktop\\Student Files\\VIP\\Alex-Repo\\bdqm-hyperparam-tuning\\data\\oc20_3k_train.lmdb:   0%| |"
     ]
    },
    {
     "name": "stdout",
     "output_type": "stream",
     "text": [
      "Training completed in 237.97202444076538s\n",
      "Results saved to ./checkpoints\\2022-10-09-07-40-40-a39dc335-d954-4b24-b291-d76bb8885fd9\n"
     ]
    },
    {
     "name": "stderr",
     "output_type": "stream",
     "text": [
      "loading from C:\\Users\\ryanc\\Desktop\\Student Files\\VIP\\Alex-Repo\\bdqm-hyperparam-tuning\\data\\oc20_3k_train.lmdb: 100%|█|\n"
     ]
    },
    {
     "name": "stdout",
     "output_type": "stream",
     "text": [
      "Loading dataset: 3000 images\n",
      "Use Xavier initialization\n",
      "Loading model: 5401 parameters\n",
      "Loading skorch trainer\n"
     ]
    },
    {
     "name": "stderr",
     "output_type": "stream",
     "text": [
      "\u001b[32m[I 2022-10-09 07:45:00,985]\u001b[0m Trial 49 finished with value: 173.86688889653738 and parameters: {'num_layers': 15, 'num_nodes': 18, 'lr': 0.01776712183594395}. Best is trial 34 with value: 88.4008.\u001b[0m\n",
      "loading from C:\\Users\\ryanc\\Desktop\\Student Files\\VIP\\Alex-Repo\\bdqm-hyperparam-tuning\\data\\oc20_3k_train.lmdb:   0%| |"
     ]
    },
    {
     "name": "stdout",
     "output_type": "stream",
     "text": [
      "Training completed in 259.88581705093384s\n",
      "Results saved to ./checkpoints\\2022-10-09-07-45-01-69357d57-16cb-4c57-a7f7-264bca566197\n"
     ]
    },
    {
     "name": "stderr",
     "output_type": "stream",
     "text": [
      "loading from C:\\Users\\ryanc\\Desktop\\Student Files\\VIP\\Alex-Repo\\bdqm-hyperparam-tuning\\data\\oc20_3k_train.lmdb: 100%|█|\n"
     ]
    },
    {
     "name": "stdout",
     "output_type": "stream",
     "text": [
      "Loading dataset: 3000 images\n",
      "Use Xavier initialization\n",
      "Loading model: 5587 parameters\n",
      "Loading skorch trainer\n"
     ]
    },
    {
     "name": "stderr",
     "output_type": "stream",
     "text": [
      "\u001b[32m[I 2022-10-09 07:49:08,109]\u001b[0m Trial 50 finished with value: 99.51589474274779 and parameters: {'num_layers': 14, 'num_nodes': 19, 'lr': 0.004253278677668384}. Best is trial 34 with value: 88.4008.\u001b[0m\n",
      "loading from C:\\Users\\ryanc\\Desktop\\Student Files\\VIP\\Alex-Repo\\bdqm-hyperparam-tuning\\data\\oc20_3k_train.lmdb:   0%| |"
     ]
    },
    {
     "name": "stdout",
     "output_type": "stream",
     "text": [
      "Training completed in 246.1460018157959s\n",
      "Results saved to ./checkpoints\\2022-10-09-07-49-08-1d9c7b3c-f824-4eb6-b0eb-993887242faa\n"
     ]
    },
    {
     "name": "stderr",
     "output_type": "stream",
     "text": [
      "loading from C:\\Users\\ryanc\\Desktop\\Student Files\\VIP\\Alex-Repo\\bdqm-hyperparam-tuning\\data\\oc20_3k_train.lmdb: 100%|█|\n"
     ]
    },
    {
     "name": "stdout",
     "output_type": "stream",
     "text": [
      "Loading dataset: 3000 images\n",
      "Use Xavier initialization\n",
      "Loading model: 5207 parameters\n",
      "Loading skorch trainer\n"
     ]
    },
    {
     "name": "stderr",
     "output_type": "stream",
     "text": [
      "\u001b[32m[I 2022-10-09 07:53:00,066]\u001b[0m Trial 51 finished with value: 96.06934216793668 and parameters: {'num_layers': 13, 'num_nodes': 19, 'lr': 0.0013265541763434053}. Best is trial 34 with value: 88.4008.\u001b[0m\n",
      "loading from C:\\Users\\ryanc\\Desktop\\Student Files\\VIP\\Alex-Repo\\bdqm-hyperparam-tuning\\data\\oc20_3k_train.lmdb:   0%| |"
     ]
    },
    {
     "name": "stdout",
     "output_type": "stream",
     "text": [
      "Training completed in 231.03753113746643s\n",
      "Results saved to ./checkpoints\\2022-10-09-07-53-00-501dfdd3-c688-476d-b3c0-333ea7316946\n"
     ]
    },
    {
     "name": "stderr",
     "output_type": "stream",
     "text": [
      "loading from C:\\Users\\ryanc\\Desktop\\Student Files\\VIP\\Alex-Repo\\bdqm-hyperparam-tuning\\data\\oc20_3k_train.lmdb: 100%|█|\n"
     ]
    },
    {
     "name": "stdout",
     "output_type": "stream",
     "text": [
      "Loading dataset: 3000 images\n",
      "Use Xavier initialization\n",
      "Loading model: 5721 parameters\n",
      "Loading skorch trainer\n"
     ]
    },
    {
     "name": "stderr",
     "output_type": "stream",
     "text": [
      "\u001b[32m[I 2022-10-09 07:56:54,938]\u001b[0m Trial 52 finished with value: 97.44022396714003 and parameters: {'num_layers': 13, 'num_nodes': 20, 'lr': 0.0051072810820255434}. Best is trial 34 with value: 88.4008.\u001b[0m\n",
      "loading from C:\\Users\\ryanc\\Desktop\\Student Files\\VIP\\Alex-Repo\\bdqm-hyperparam-tuning\\data\\oc20_3k_train.lmdb:   0%| |"
     ]
    },
    {
     "name": "stdout",
     "output_type": "stream",
     "text": [
      "Training completed in 233.90201234817505s\n",
      "Results saved to ./checkpoints\\2022-10-09-07-56-54-a9a8afae-38df-407a-b68a-37fcca783f73\n"
     ]
    },
    {
     "name": "stderr",
     "output_type": "stream",
     "text": [
      "loading from C:\\Users\\ryanc\\Desktop\\Student Files\\VIP\\Alex-Repo\\bdqm-hyperparam-tuning\\data\\oc20_3k_train.lmdb: 100%|█|\n"
     ]
    },
    {
     "name": "stdout",
     "output_type": "stream",
     "text": [
      "Loading dataset: 3000 images\n",
      "Use Xavier initialization\n",
      "Loading model: 5721 parameters\n",
      "Loading skorch trainer\n"
     ]
    },
    {
     "name": "stderr",
     "output_type": "stream",
     "text": [
      "\u001b[32m[I 2022-10-09 08:00:51,920]\u001b[0m Trial 53 finished with value: 90.05903748166871 and parameters: {'num_layers': 13, 'num_nodes': 20, 'lr': 0.0026984381100487484}. Best is trial 34 with value: 88.4008.\u001b[0m\n"
     ]
    },
    {
     "name": "stdout",
     "output_type": "stream",
     "text": [
      "Training completed in 236.08959650993347s\n",
      "Results saved to ./checkpoints\\2022-10-09-08-00-51-4133c290-7c87-4ed9-a2db-2f6f2d18428d\n"
     ]
    },
    {
     "name": "stderr",
     "output_type": "stream",
     "text": [
      "loading from C:\\Users\\ryanc\\Desktop\\Student Files\\VIP\\Alex-Repo\\bdqm-hyperparam-tuning\\data\\oc20_3k_train.lmdb: 100%|█|\n"
     ]
    },
    {
     "name": "stdout",
     "output_type": "stream",
     "text": [
      "Loading dataset: 3000 images\n",
      "Use Xavier initialization\n",
      "Loading model: 5587 parameters\n",
      "Loading skorch trainer\n"
     ]
    },
    {
     "name": "stderr",
     "output_type": "stream",
     "text": [
      "\u001b[32m[I 2022-10-09 08:04:55,484]\u001b[0m Trial 54 finished with value: 104.4590793636087 and parameters: {'num_layers': 14, 'num_nodes': 19, 'lr': 0.0029322660658709673}. Best is trial 34 with value: 88.4008.\u001b[0m\n",
      "loading from C:\\Users\\ryanc\\Desktop\\Student Files\\VIP\\Alex-Repo\\bdqm-hyperparam-tuning\\data\\oc20_3k_train.lmdb:   0%| |"
     ]
    },
    {
     "name": "stdout",
     "output_type": "stream",
     "text": [
      "Training completed in 242.4890434741974s\n",
      "Results saved to ./checkpoints\\2022-10-09-08-04-55-4800e019-0438-4340-b371-0488fc04a186\n"
     ]
    },
    {
     "name": "stderr",
     "output_type": "stream",
     "text": [
      "loading from C:\\Users\\ryanc\\Desktop\\Student Files\\VIP\\Alex-Repo\\bdqm-hyperparam-tuning\\data\\oc20_3k_train.lmdb: 100%|█|\n"
     ]
    },
    {
     "name": "stdout",
     "output_type": "stream",
     "text": [
      "Loading dataset: 3000 images\n",
      "Use Xavier initialization\n",
      "Loading model: 5721 parameters\n",
      "Loading skorch trainer\n"
     ]
    },
    {
     "name": "stderr",
     "output_type": "stream",
     "text": [
      "\u001b[32m[I 2022-10-09 08:08:49,409]\u001b[0m Trial 55 finished with value: 107.39964733454593 and parameters: {'num_layers': 13, 'num_nodes': 20, 'lr': 0.00784694920342534}. Best is trial 34 with value: 88.4008.\u001b[0m\n",
      "loading from C:\\Users\\ryanc\\Desktop\\Student Files\\VIP\\Alex-Repo\\bdqm-hyperparam-tuning\\data\\oc20_3k_train.lmdb:   0%| |"
     ]
    },
    {
     "name": "stdout",
     "output_type": "stream",
     "text": [
      "Training completed in 232.9948272705078s\n",
      "Results saved to ./checkpoints\\2022-10-09-08-08-49-43837ee4-5f12-408a-b020-0f4d44bef9f6\n"
     ]
    },
    {
     "name": "stderr",
     "output_type": "stream",
     "text": [
      "loading from C:\\Users\\ryanc\\Desktop\\Student Files\\VIP\\Alex-Repo\\bdqm-hyperparam-tuning\\data\\oc20_3k_train.lmdb: 100%|█|\n"
     ]
    },
    {
     "name": "stdout",
     "output_type": "stream",
     "text": [
      "Loading dataset: 3000 images\n",
      "Use Xavier initialization\n",
      "Loading model: 5301 parameters\n",
      "Loading skorch trainer\n"
     ]
    },
    {
     "name": "stderr",
     "output_type": "stream",
     "text": [
      "\u001b[32m[I 2022-10-09 08:12:29,274]\u001b[0m Trial 56 finished with value: 92.92156297920316 and parameters: {'num_layers': 12, 'num_nodes': 20, 'lr': 0.003679969784949844}. Best is trial 34 with value: 88.4008.\u001b[0m\n",
      "loading from C:\\Users\\ryanc\\Desktop\\Student Files\\VIP\\Alex-Repo\\bdqm-hyperparam-tuning\\data\\oc20_3k_train.lmdb:   0%| |"
     ]
    },
    {
     "name": "stdout",
     "output_type": "stream",
     "text": [
      "Training completed in 219.03912568092346s\n",
      "Results saved to ./checkpoints\\2022-10-09-08-12-29-d8c01d77-c770-4ce1-acba-0665d66b668e\n"
     ]
    },
    {
     "name": "stderr",
     "output_type": "stream",
     "text": [
      "loading from C:\\Users\\ryanc\\Desktop\\Student Files\\VIP\\Alex-Repo\\bdqm-hyperparam-tuning\\data\\oc20_3k_train.lmdb: 100%|█|\n"
     ]
    },
    {
     "name": "stdout",
     "output_type": "stream",
     "text": [
      "Loading dataset: 3000 images\n",
      "Use Xavier initialization\n",
      "Loading model: 5721 parameters\n",
      "Loading skorch trainer\n"
     ]
    },
    {
     "name": "stderr",
     "output_type": "stream",
     "text": [
      "\u001b[32m[I 2022-10-09 08:16:23,226]\u001b[0m Trial 57 finished with value: 98.64805076470111 and parameters: {'num_layers': 13, 'num_nodes': 20, 'lr': 0.0009182851049314779}. Best is trial 34 with value: 88.4008.\u001b[0m\n",
      "loading from C:\\Users\\ryanc\\Desktop\\Student Files\\VIP\\Alex-Repo\\bdqm-hyperparam-tuning\\data\\oc20_3k_train.lmdb:   0%| |"
     ]
    },
    {
     "name": "stdout",
     "output_type": "stream",
     "text": [
      "Training completed in 233.02209854125977s\n",
      "Results saved to ./checkpoints\\2022-10-09-08-16-23-fc44bf6e-ea56-4f57-be94-574d496bcfa1\n"
     ]
    },
    {
     "name": "stderr",
     "output_type": "stream",
     "text": [
      "loading from C:\\Users\\ryanc\\Desktop\\Student Files\\VIP\\Alex-Repo\\bdqm-hyperparam-tuning\\data\\oc20_3k_train.lmdb: 100%|█|\n"
     ]
    },
    {
     "name": "stdout",
     "output_type": "stream",
     "text": [
      "Loading dataset: 3000 images\n",
      "Use Xavier initialization\n",
      "Loading model: 6721 parameters\n",
      "Loading skorch trainer\n"
     ]
    },
    {
     "name": "stderr",
     "output_type": "stream",
     "text": [
      "\u001b[32m[I 2022-10-09 08:20:33,544]\u001b[0m Trial 58 finished with value: 90.32238887710788 and parameters: {'num_layers': 14, 'num_nodes': 21, 'lr': 0.004161956507135766}. Best is trial 34 with value: 88.4008.\u001b[0m\n",
      "loading from C:\\Users\\ryanc\\Desktop\\Student Files\\VIP\\Alex-Repo\\bdqm-hyperparam-tuning\\data\\oc20_3k_train.lmdb:   0%| |"
     ]
    },
    {
     "name": "stdout",
     "output_type": "stream",
     "text": [
      "Training completed in 249.4095962047577s\n",
      "Results saved to ./checkpoints\\2022-10-09-08-20-33-3ae92982-9048-4e36-9019-561083d79a58\n"
     ]
    },
    {
     "name": "stderr",
     "output_type": "stream",
     "text": [
      "loading from C:\\Users\\ryanc\\Desktop\\Student Files\\VIP\\Alex-Repo\\bdqm-hyperparam-tuning\\data\\oc20_3k_train.lmdb: 100%|█|\n"
     ]
    },
    {
     "name": "stdout",
     "output_type": "stream",
     "text": [
      "Loading dataset: 3000 images\n",
      "Use Xavier initialization\n",
      "Loading model: 6141 parameters\n",
      "Loading skorch trainer\n"
     ]
    },
    {
     "name": "stderr",
     "output_type": "stream",
     "text": [
      "\u001b[32m[I 2022-10-09 08:24:40,965]\u001b[0m Trial 59 finished with value: 92.01307009717713 and parameters: {'num_layers': 14, 'num_nodes': 20, 'lr': 0.002344034243396452}. Best is trial 34 with value: 88.4008.\u001b[0m\n",
      "\u001b[32m[I 2022-10-09 08:24:41,062]\u001b[0m A new study created in RDB with name: tpe-oc20-3k\u001b[0m\n"
     ]
    },
    {
     "name": "stdout",
     "output_type": "stream",
     "text": [
      "Training completed in 246.4065384864807s\n",
      "Running hyperparam tuning with:\n",
      " - study_name: tpe-oc20-3k\n",
      " - dataset: ../data/oc20_3k_train.lmdb\n",
      " - n_trials: 20\n",
      " - sampler: TPE\n",
      " - pruner: None\n",
      " - num epochs: 500\n",
      " - params:\n",
      "   - dropout_rate: 0.0\n",
      "   - gamma: 1.0\n",
      "TPESampler\n",
      "<optuna.pruners._nop.NopPruner object at 0x000002BD0482EEB0>\n"
     ]
    },
    {
     "name": "stderr",
     "output_type": "stream",
     "text": [
      "loading from C:\\Users\\ryanc\\Desktop\\Student Files\\VIP\\Alex-Repo\\bdqm-hyperparam-tuning\\data\\oc20_3k_train.lmdb:  12%| |"
     ]
    },
    {
     "name": "stdout",
     "output_type": "stream",
     "text": [
      "Results saved to ./checkpoints\\2022-10-09-08-24-41-ef8af159-a7fc-4f1e-a358-500d75017b1b\n"
     ]
    },
    {
     "name": "stderr",
     "output_type": "stream",
     "text": [
      "loading from C:\\Users\\ryanc\\Desktop\\Student Files\\VIP\\Alex-Repo\\bdqm-hyperparam-tuning\\data\\oc20_3k_train.lmdb: 100%|█|\n"
     ]
    },
    {
     "name": "stdout",
     "output_type": "stream",
     "text": [
      "Loading dataset: 3000 images\n",
      "Use Xavier initialization\n",
      "Loading model: 8607 parameters\n",
      "Loading skorch trainer\n"
     ]
    },
    {
     "name": "stderr",
     "output_type": "stream",
     "text": [
      "\u001b[32m[I 2022-10-09 08:28:58,003]\u001b[0m Trial 0 finished with value: 3876.2681682823677 and parameters: {'num_layers': 12, 'num_nodes': 26, 'lr': 0.0407658128792427}. Best is trial 0 with value: 3876.27.\u001b[0m\n",
      "loading from C:\\Users\\ryanc\\Desktop\\Student Files\\VIP\\Alex-Repo\\bdqm-hyperparam-tuning\\data\\oc20_3k_train.lmdb:   0%| |"
     ]
    },
    {
     "name": "stdout",
     "output_type": "stream",
     "text": [
      "Training completed in 256.04214572906494s\n",
      "Results saved to ./checkpoints\\2022-10-09-08-28-58-05791ad1-cefe-407e-9881-924468d684d0\n"
     ]
    },
    {
     "name": "stderr",
     "output_type": "stream",
     "text": [
      "loading from C:\\Users\\ryanc\\Desktop\\Student Files\\VIP\\Alex-Repo\\bdqm-hyperparam-tuning\\data\\oc20_3k_train.lmdb: 100%|█|\n"
     ]
    },
    {
     "name": "stdout",
     "output_type": "stream",
     "text": [
      "Loading dataset: 3000 images\n",
      "Use Xavier initialization\n",
      "Loading model: 2619 parameters\n",
      "Loading skorch trainer\n"
     ]
    },
    {
     "name": "stderr",
     "output_type": "stream",
     "text": [
      "\u001b[32m[I 2022-10-09 08:31:59,459]\u001b[0m Trial 1 finished with value: 94.69829499817608 and parameters: {'num_layers': 18, 'num_nodes': 11, 'lr': 0.003075255159664143}. Best is trial 1 with value: 94.6983.\u001b[0m\n",
      "loading from C:\\Users\\ryanc\\Desktop\\Student Files\\VIP\\Alex-Repo\\bdqm-hyperparam-tuning\\data\\oc20_3k_train.lmdb:   0%| |"
     ]
    },
    {
     "name": "stdout",
     "output_type": "stream",
     "text": [
      "Training completed in 180.59268403053284s\n",
      "Results saved to ./checkpoints\\2022-10-09-08-31-59-4fba41a2-13a5-421f-96f1-b752a445ee55\n"
     ]
    },
    {
     "name": "stderr",
     "output_type": "stream",
     "text": [
      "loading from C:\\Users\\ryanc\\Desktop\\Student Files\\VIP\\Alex-Repo\\bdqm-hyperparam-tuning\\data\\oc20_3k_train.lmdb: 100%|█|\n"
     ]
    },
    {
     "name": "stdout",
     "output_type": "stream",
     "text": [
      "Loading dataset: 3000 images\n",
      "Use Xavier initialization\n",
      "Loading model: 2593 parameters\n",
      "Loading skorch trainer\n"
     ]
    },
    {
     "name": "stderr",
     "output_type": "stream",
     "text": [
      "\u001b[32m[I 2022-10-09 08:35:03,504]\u001b[0m Trial 2 finished with value: 126.40594063442045 and parameters: {'num_layers': 15, 'num_nodes': 12, 'lr': 2.7687663803560067e-05}. Best is trial 1 with value: 94.6983.\u001b[0m\n",
      "loading from C:\\Users\\ryanc\\Desktop\\Student Files\\VIP\\Alex-Repo\\bdqm-hyperparam-tuning\\data\\oc20_3k_train.lmdb:   0%| |"
     ]
    },
    {
     "name": "stdout",
     "output_type": "stream",
     "text": [
      "Training completed in 183.1796498298645s\n",
      "Results saved to ./checkpoints\\2022-10-09-08-35-03-7a0ccf65-d1cd-490f-9b35-6ccbae86c262\n"
     ]
    },
    {
     "name": "stderr",
     "output_type": "stream",
     "text": [
      "loading from C:\\Users\\ryanc\\Desktop\\Student Files\\VIP\\Alex-Repo\\bdqm-hyperparam-tuning\\data\\oc20_3k_train.lmdb: 100%|█|\n"
     ]
    },
    {
     "name": "stdout",
     "output_type": "stream",
     "text": [
      "Loading dataset: 3000 images\n",
      "Use Xavier initialization\n",
      "Loading model: 1551 parameters\n",
      "Loading skorch trainer\n"
     ]
    },
    {
     "name": "stderr",
     "output_type": "stream",
     "text": [
      "\u001b[32m[I 2022-10-09 08:37:35,234]\u001b[0m Trial 3 finished with value: 123.03050413225921 and parameters: {'num_layers': 12, 'num_nodes': 10, 'lr': 8.247089620453082e-05}. Best is trial 1 with value: 94.6983.\u001b[0m\n",
      "loading from C:\\Users\\ryanc\\Desktop\\Student Files\\VIP\\Alex-Repo\\bdqm-hyperparam-tuning\\data\\oc20_3k_train.lmdb:   0%| |"
     ]
    },
    {
     "name": "stdout",
     "output_type": "stream",
     "text": [
      "Training completed in 150.86553192138672s\n",
      "Results saved to ./checkpoints\\2022-10-09-08-37-35-4a8d889d-917e-4a01-bf62-f68934ffdd7a\n"
     ]
    },
    {
     "name": "stderr",
     "output_type": "stream",
     "text": [
      "loading from C:\\Users\\ryanc\\Desktop\\Student Files\\VIP\\Alex-Repo\\bdqm-hyperparam-tuning\\data\\oc20_3k_train.lmdb: 100%|█|\n"
     ]
    },
    {
     "name": "stdout",
     "output_type": "stream",
     "text": [
      "Loading dataset: 3000 images\n",
      "Use Xavier initialization\n",
      "Loading model: 12819 parameters\n",
      "Loading skorch trainer\n"
     ]
    },
    {
     "name": "stderr",
     "output_type": "stream",
     "text": [
      "\u001b[32m[I 2022-10-09 08:43:24,427]\u001b[0m Trial 4 finished with value: 499.0557209541434 and parameters: {'num_layers': 18, 'num_nodes': 26, 'lr': 0.04024970508680724}. Best is trial 1 with value: 94.6983.\u001b[0m\n",
      "loading from C:\\Users\\ryanc\\Desktop\\Student Files\\VIP\\Alex-Repo\\bdqm-hyperparam-tuning\\data\\oc20_3k_train.lmdb:   0%| |"
     ]
    },
    {
     "name": "stdout",
     "output_type": "stream",
     "text": [
      "Training completed in 348.27212262153625s\n",
      "Results saved to ./checkpoints\\2022-10-09-08-43-24-d193f99c-92df-443a-8f8f-dff8aa08853c\n"
     ]
    },
    {
     "name": "stderr",
     "output_type": "stream",
     "text": [
      "loading from C:\\Users\\ryanc\\Desktop\\Student Files\\VIP\\Alex-Repo\\bdqm-hyperparam-tuning\\data\\oc20_3k_train.lmdb: 100%|█|\n"
     ]
    },
    {
     "name": "stdout",
     "output_type": "stream",
     "text": [
      "Loading dataset: 3000 images\n",
      "Use Xavier initialization\n",
      "Loading model: 2281 parameters\n",
      "Loading skorch trainer\n"
     ]
    },
    {
     "name": "stderr",
     "output_type": "stream",
     "text": [
      "\u001b[32m[I 2022-10-09 08:46:04,294]\u001b[0m Trial 5 finished with value: 95.92084863383563 and parameters: {'num_layers': 13, 'num_nodes': 12, 'lr': 0.018452828359187358}. Best is trial 1 with value: 94.6983.\u001b[0m\n",
      "loading from C:\\Users\\ryanc\\Desktop\\Student Files\\VIP\\Alex-Repo\\bdqm-hyperparam-tuning\\data\\oc20_3k_train.lmdb:   0%| |"
     ]
    },
    {
     "name": "stdout",
     "output_type": "stream",
     "text": [
      "Training completed in 158.89776253700256s\n",
      "Results saved to ./checkpoints\\2022-10-09-08-46-04-c599c6f8-ca59-4837-ba15-f71c34e091e4\n"
     ]
    },
    {
     "name": "stderr",
     "output_type": "stream",
     "text": [
      "loading from C:\\Users\\ryanc\\Desktop\\Student Files\\VIP\\Alex-Repo\\bdqm-hyperparam-tuning\\data\\oc20_3k_train.lmdb: 100%|█|\n"
     ]
    },
    {
     "name": "stdout",
     "output_type": "stream",
     "text": [
      "Loading dataset: 3000 images\n",
      "Use Xavier initialization\n",
      "Loading model: 2223 parameters\n",
      "Loading skorch trainer\n"
     ]
    },
    {
     "name": "stderr",
     "output_type": "stream",
     "text": [
      "\u001b[32m[I 2022-10-09 08:48:40,744]\u001b[0m Trial 6 finished with value: 97.04108459763992 and parameters: {'num_layers': 15, 'num_nodes': 11, 'lr': 0.0006007963201518962}. Best is trial 1 with value: 94.6983.\u001b[0m\n",
      "loading from C:\\Users\\ryanc\\Desktop\\Student Files\\VIP\\Alex-Repo\\bdqm-hyperparam-tuning\\data\\oc20_3k_train.lmdb:  12%| |"
     ]
    },
    {
     "name": "stdout",
     "output_type": "stream",
     "text": [
      "Training completed in 155.62099838256836s\n",
      "Results saved to ./checkpoints\\2022-10-09-08-48-40-65c7e9d2-4219-4500-951f-d307d46a1f1d\n"
     ]
    },
    {
     "name": "stderr",
     "output_type": "stream",
     "text": [
      "loading from C:\\Users\\ryanc\\Desktop\\Student Files\\VIP\\Alex-Repo\\bdqm-hyperparam-tuning\\data\\oc20_3k_train.lmdb: 100%|█|\n"
     ]
    },
    {
     "name": "stdout",
     "output_type": "stream",
     "text": [
      "Loading dataset: 3000 images\n",
      "Use Xavier initialization\n",
      "Loading model: 7723 parameters\n",
      "Loading skorch trainer\n"
     ]
    },
    {
     "name": "stderr",
     "output_type": "stream",
     "text": [
      "\u001b[32m[I 2022-10-09 08:52:33,263]\u001b[0m Trial 7 finished with value: 115.94861388449225 and parameters: {'num_layers': 10, 'num_nodes': 27, 'lr': 1.9573869481123792e-05}. Best is trial 1 with value: 94.6983.\u001b[0m\n",
      "loading from C:\\Users\\ryanc\\Desktop\\Student Files\\VIP\\Alex-Repo\\bdqm-hyperparam-tuning\\data\\oc20_3k_train.lmdb:   0%| |"
     ]
    },
    {
     "name": "stdout",
     "output_type": "stream",
     "text": [
      "Training completed in 231.56848239898682s\n",
      "Results saved to ./checkpoints\\2022-10-09-08-52-33-540f9380-701e-4006-bd50-ed025b2f3eea\n"
     ]
    },
    {
     "name": "stderr",
     "output_type": "stream",
     "text": [
      "loading from C:\\Users\\ryanc\\Desktop\\Student Files\\VIP\\Alex-Repo\\bdqm-hyperparam-tuning\\data\\oc20_3k_train.lmdb: 100%|█|\n"
     ]
    },
    {
     "name": "stdout",
     "output_type": "stream",
     "text": [
      "Loading dataset: 3000 images\n",
      "Use Xavier initialization\n",
      "Loading model: 11415 parameters\n",
      "Loading skorch trainer\n"
     ]
    },
    {
     "name": "stderr",
     "output_type": "stream",
     "text": [
      "\u001b[32m[I 2022-10-09 08:57:41,279]\u001b[0m Trial 8 finished with value: 92.68150857646668 and parameters: {'num_layers': 16, 'num_nodes': 26, 'lr': 0.00048584879889691833}. Best is trial 8 with value: 92.6815.\u001b[0m\n",
      "loading from C:\\Users\\ryanc\\Desktop\\Student Files\\VIP\\Alex-Repo\\bdqm-hyperparam-tuning\\data\\oc20_3k_train.lmdb:   0%| |"
     ]
    },
    {
     "name": "stdout",
     "output_type": "stream",
     "text": [
      "Training completed in 307.1669979095459s\n",
      "Results saved to ./checkpoints\\2022-10-09-08-57-41-c33947b5-c858-4cad-81fe-77a90ad9366d\n"
     ]
    },
    {
     "name": "stderr",
     "output_type": "stream",
     "text": [
      "loading from C:\\Users\\ryanc\\Desktop\\Student Files\\VIP\\Alex-Repo\\bdqm-hyperparam-tuning\\data\\oc20_3k_train.lmdb: 100%|█|\n"
     ]
    },
    {
     "name": "stdout",
     "output_type": "stream",
     "text": [
      "Loading dataset: 3000 images\n",
      "Use Xavier initialization\n",
      "Loading model: 2993 parameters\n",
      "Loading skorch trainer\n"
     ]
    },
    {
     "name": "stderr",
     "output_type": "stream",
     "text": [
      "\u001b[32m[I 2022-10-09 09:00:25,955]\u001b[0m Trial 9 finished with value: 98.40470092302242 and parameters: {'num_layers': 10, 'num_nodes': 16, 'lr': 0.0004477398762101818}. Best is trial 8 with value: 92.6815.\u001b[0m\n",
      "loading from C:\\Users\\ryanc\\Desktop\\Student Files\\VIP\\Alex-Repo\\bdqm-hyperparam-tuning\\data\\oc20_3k_train.lmdb:   0%| |"
     ]
    },
    {
     "name": "stdout",
     "output_type": "stream",
     "text": [
      "Training completed in 163.72047209739685s\n",
      "Results saved to ./checkpoints\\2022-10-09-09-00-25-8887b78a-8d66-4020-889e-184923ff6568\n"
     ]
    },
    {
     "name": "stderr",
     "output_type": "stream",
     "text": [
      "loading from C:\\Users\\ryanc\\Desktop\\Student Files\\VIP\\Alex-Repo\\bdqm-hyperparam-tuning\\data\\oc20_3k_train.lmdb: 100%|█|\n"
     ]
    },
    {
     "name": "stdout",
     "output_type": "stream",
     "text": [
      "Loading dataset: 3000 images\n",
      "Use Xavier initialization\n",
      "Loading model: 3173 parameters\n",
      "Loading skorch trainer\n"
     ]
    },
    {
     "name": "stderr",
     "output_type": "stream",
     "text": [
      "\u001b[32m[I 2022-10-09 09:03:27,529]\u001b[0m Trial 10 finished with value: 204.78199419198384 and parameters: {'num_layers': 16, 'num_nodes': 13, 'lr': 0.02137750211180829}. Best is trial 8 with value: 92.6815.\u001b[0m\n",
      "loading from C:\\Users\\ryanc\\Desktop\\Student Files\\VIP\\Alex-Repo\\bdqm-hyperparam-tuning\\data\\oc20_3k_train.lmdb:   0%| |"
     ]
    },
    {
     "name": "stdout",
     "output_type": "stream",
     "text": [
      "Training completed in 180.73120975494385s\n",
      "Results saved to ./checkpoints\\2022-10-09-09-03-27-f2d317ee-9bf1-4740-b236-d4bd8b55c7df\n"
     ]
    },
    {
     "name": "stderr",
     "output_type": "stream",
     "text": [
      "loading from C:\\Users\\ryanc\\Desktop\\Student Files\\VIP\\Alex-Repo\\bdqm-hyperparam-tuning\\data\\oc20_3k_train.lmdb: 100%|█|\n"
     ]
    },
    {
     "name": "stdout",
     "output_type": "stream",
     "text": [
      "Loading dataset: 3000 images\n",
      "Use Xavier initialization\n",
      "Loading model: 2431 parameters\n",
      "Loading skorch trainer\n"
     ]
    },
    {
     "name": "stderr",
     "output_type": "stream",
     "text": [
      "\u001b[32m[I 2022-10-09 09:06:34,963]\u001b[0m Trial 11 finished with value: 101.667982821803 and parameters: {'num_layers': 20, 'num_nodes': 10, 'lr': 0.00037738468036931}. Best is trial 8 with value: 92.6815.\u001b[0m\n",
      "loading from C:\\Users\\ryanc\\Desktop\\Student Files\\VIP\\Alex-Repo\\bdqm-hyperparam-tuning\\data\\oc20_3k_train.lmdb:   0%| |"
     ]
    },
    {
     "name": "stdout",
     "output_type": "stream",
     "text": [
      "Training completed in 186.51004362106323s\n",
      "Results saved to ./checkpoints\\2022-10-09-09-06-35-6a74cf90-4edc-4186-93e2-e0f31e9a9be2\n"
     ]
    },
    {
     "name": "stderr",
     "output_type": "stream",
     "text": [
      "loading from C:\\Users\\ryanc\\Desktop\\Student Files\\VIP\\Alex-Repo\\bdqm-hyperparam-tuning\\data\\oc20_3k_train.lmdb: 100%|█|\n"
     ]
    },
    {
     "name": "stdout",
     "output_type": "stream",
     "text": [
      "Loading dataset: 3000 images\n",
      "Use Xavier initialization\n",
      "Loading model: 5401 parameters\n",
      "Loading skorch trainer\n"
     ]
    },
    {
     "name": "stderr",
     "output_type": "stream",
     "text": [
      "\u001b[32m[I 2022-10-09 09:10:51,349]\u001b[0m Trial 12 finished with value: 96.37992366096721 and parameters: {'num_layers': 15, 'num_nodes': 18, 'lr': 0.0007504361509497701}. Best is trial 8 with value: 92.6815.\u001b[0m\n",
      "loading from C:\\Users\\ryanc\\Desktop\\Student Files\\VIP\\Alex-Repo\\bdqm-hyperparam-tuning\\data\\oc20_3k_train.lmdb:   0%| |"
     ]
    },
    {
     "name": "stdout",
     "output_type": "stream",
     "text": [
      "Training completed in 255.43053460121155s\n",
      "Results saved to ./checkpoints\\2022-10-09-09-10-51-c11927c6-8770-4a0d-a2cd-868973474dee\n"
     ]
    },
    {
     "name": "stderr",
     "output_type": "stream",
     "text": [
      "loading from C:\\Users\\ryanc\\Desktop\\Student Files\\VIP\\Alex-Repo\\bdqm-hyperparam-tuning\\data\\oc20_3k_train.lmdb: 100%|█|\n"
     ]
    },
    {
     "name": "stdout",
     "output_type": "stream",
     "text": [
      "Loading dataset: 3000 images\n",
      "Use Xavier initialization\n",
      "Loading model: 14527 parameters\n",
      "Loading skorch trainer\n"
     ]
    },
    {
     "name": "stderr",
     "output_type": "stream",
     "text": [
      "\u001b[32m[I 2022-10-09 09:17:03,238]\u001b[0m Trial 13 finished with value: 339.50769218257034 and parameters: {'num_layers': 19, 'num_nodes': 27, 'lr': 0.02611811185303006}. Best is trial 8 with value: 92.6815.\u001b[0m\n",
      "loading from C:\\Users\\ryanc\\Desktop\\Student Files\\VIP\\Alex-Repo\\bdqm-hyperparam-tuning\\data\\oc20_3k_train.lmdb:   0%| |"
     ]
    },
    {
     "name": "stdout",
     "output_type": "stream",
     "text": [
      "Training completed in 371.0158612728119s\n",
      "Results saved to ./checkpoints\\2022-10-09-09-17-03-ce67b2af-afde-4cbf-a07c-054283ea5515\n"
     ]
    },
    {
     "name": "stderr",
     "output_type": "stream",
     "text": [
      "loading from C:\\Users\\ryanc\\Desktop\\Student Files\\VIP\\Alex-Repo\\bdqm-hyperparam-tuning\\data\\oc20_3k_train.lmdb: 100%|█|\n"
     ]
    },
    {
     "name": "stdout",
     "output_type": "stream",
     "text": [
      "Loading dataset: 3000 images\n",
      "Use Xavier initialization\n",
      "Loading model: 3279 parameters\n",
      "Loading skorch trainer\n"
     ]
    },
    {
     "name": "stderr",
     "output_type": "stream",
     "text": [
      "\u001b[32m[I 2022-10-09 09:19:35,941]\u001b[0m Trial 14 finished with value: 3791.877007568224 and parameters: {'num_layers': 6, 'num_nodes': 22, 'lr': 0.05594361611199479}. Best is trial 8 with value: 92.6815.\u001b[0m\n",
      "loading from C:\\Users\\ryanc\\Desktop\\Student Files\\VIP\\Alex-Repo\\bdqm-hyperparam-tuning\\data\\oc20_3k_train.lmdb:   0%| |"
     ]
    },
    {
     "name": "stdout",
     "output_type": "stream",
     "text": [
      "Training completed in 151.7539975643158s\n",
      "Results saved to ./checkpoints\\2022-10-09-09-19-35-66874fe1-1320-458b-be13-9a33aac3989a\n"
     ]
    },
    {
     "name": "stderr",
     "output_type": "stream",
     "text": [
      "loading from C:\\Users\\ryanc\\Desktop\\Student Files\\VIP\\Alex-Repo\\bdqm-hyperparam-tuning\\data\\oc20_3k_train.lmdb: 100%|█|\n"
     ]
    },
    {
     "name": "stdout",
     "output_type": "stream",
     "text": [
      "Loading dataset: 3000 images\n",
      "Use Xavier initialization\n",
      "Loading model: 5017 parameters\n",
      "Loading skorch trainer\n"
     ]
    },
    {
     "name": "stderr",
     "output_type": "stream",
     "text": [
      "\u001b[32m[I 2022-10-09 09:22:37,308]\u001b[0m Trial 15 finished with value: 107.83606001161203 and parameters: {'num_layers': 8, 'num_nodes': 24, 'lr': 0.0005958357953039198}. Best is trial 8 with value: 92.6815.\u001b[0m\n",
      "loading from C:\\Users\\ryanc\\Desktop\\Student Files\\VIP\\Alex-Repo\\bdqm-hyperparam-tuning\\data\\oc20_3k_train.lmdb:   0%| |"
     ]
    },
    {
     "name": "stdout",
     "output_type": "stream",
     "text": [
      "Training completed in 180.42602062225342s\n",
      "Results saved to ./checkpoints\\2022-10-09-09-22-37-986a0559-8977-4cae-b87d-a0376f9da7dc\n"
     ]
    },
    {
     "name": "stderr",
     "output_type": "stream",
     "text": [
      "loading from C:\\Users\\ryanc\\Desktop\\Student Files\\VIP\\Alex-Repo\\bdqm-hyperparam-tuning\\data\\oc20_3k_train.lmdb: 100%|█|\n"
     ]
    },
    {
     "name": "stdout",
     "output_type": "stream",
     "text": [
      "Loading dataset: 3000 images\n",
      "Use Xavier initialization\n",
      "Loading model: 5617 parameters\n",
      "Loading skorch trainer\n"
     ]
    },
    {
     "name": "stderr",
     "output_type": "stream",
     "text": [
      "\u001b[32m[I 2022-10-09 09:25:48,085]\u001b[0m Trial 16 finished with value: 98.2166703741222 and parameters: {'num_layers': 9, 'num_nodes': 24, 'lr': 0.002915342143033736}. Best is trial 8 with value: 92.6815.\u001b[0m\n",
      "loading from C:\\Users\\ryanc\\Desktop\\Student Files\\VIP\\Alex-Repo\\bdqm-hyperparam-tuning\\data\\oc20_3k_train.lmdb:   0%| |"
     ]
    },
    {
     "name": "stdout",
     "output_type": "stream",
     "text": [
      "Training completed in 189.90402603149414s\n",
      "Results saved to ./checkpoints\\2022-10-09-09-25-48-d51e7b36-8dce-480a-885f-6259d2620ccd\n"
     ]
    },
    {
     "name": "stderr",
     "output_type": "stream",
     "text": [
      "loading from C:\\Users\\ryanc\\Desktop\\Student Files\\VIP\\Alex-Repo\\bdqm-hyperparam-tuning\\data\\oc20_3k_train.lmdb: 100%|█|\n"
     ]
    },
    {
     "name": "stdout",
     "output_type": "stream",
     "text": [
      "Loading dataset: 3000 images\n",
      "Use Xavier initialization\n",
      "Loading model: 12321 parameters\n",
      "Loading skorch trainer\n"
     ]
    },
    {
     "name": "stderr",
     "output_type": "stream",
     "text": [
      "\u001b[32m[I 2022-10-09 09:30:51,411]\u001b[0m Trial 17 finished with value: 109.8325622163698 and parameters: {'num_layers': 15, 'num_nodes': 28, 'lr': 0.004185399880317287}. Best is trial 8 with value: 92.6815.\u001b[0m\n",
      "loading from C:\\Users\\ryanc\\Desktop\\Student Files\\VIP\\Alex-Repo\\bdqm-hyperparam-tuning\\data\\oc20_3k_train.lmdb:   0%| |"
     ]
    },
    {
     "name": "stdout",
     "output_type": "stream",
     "text": [
      "Training completed in 302.31123518943787s\n",
      "Results saved to ./checkpoints\\2022-10-09-09-30-51-8656daf0-6298-47cc-8ee6-7713a209b52e\n"
     ]
    },
    {
     "name": "stderr",
     "output_type": "stream",
     "text": [
      "loading from C:\\Users\\ryanc\\Desktop\\Student Files\\VIP\\Alex-Repo\\bdqm-hyperparam-tuning\\data\\oc20_3k_train.lmdb: 100%|█|\n"
     ]
    },
    {
     "name": "stdout",
     "output_type": "stream",
     "text": [
      "Loading dataset: 3000 images\n",
      "Use Xavier initialization\n",
      "Loading model: 1331 parameters\n",
      "Loading skorch trainer\n"
     ]
    },
    {
     "name": "stderr",
     "output_type": "stream",
     "text": [
      "\u001b[32m[I 2022-10-09 09:33:18,980]\u001b[0m Trial 18 finished with value: 147.37858791235737 and parameters: {'num_layers': 10, 'num_nodes': 10, 'lr': 0.0006383515318846973}. Best is trial 8 with value: 92.6815.\u001b[0m\n",
      "loading from C:\\Users\\ryanc\\Desktop\\Student Files\\VIP\\Alex-Repo\\bdqm-hyperparam-tuning\\data\\oc20_3k_train.lmdb:   0%| |"
     ]
    },
    {
     "name": "stdout",
     "output_type": "stream",
     "text": [
      "Training completed in 146.6649260520935s\n",
      "Results saved to ./checkpoints\\2022-10-09-09-33-19-4da04181-008b-43c1-8607-cc6c797be05d\n"
     ]
    },
    {
     "name": "stderr",
     "output_type": "stream",
     "text": [
      "loading from C:\\Users\\ryanc\\Desktop\\Student Files\\VIP\\Alex-Repo\\bdqm-hyperparam-tuning\\data\\oc20_3k_train.lmdb: 100%|█|\n"
     ]
    },
    {
     "name": "stdout",
     "output_type": "stream",
     "text": [
      "Loading dataset: 3000 images\n",
      "Use Xavier initialization\n",
      "Loading model: 6087 parameters\n",
      "Loading skorch trainer\n"
     ]
    },
    {
     "name": "stderr",
     "output_type": "stream",
     "text": [
      "\u001b[32m[I 2022-10-09 09:38:18,389]\u001b[0m Trial 19 finished with value: 105.24908899169668 and parameters: {'num_layers': 19, 'num_nodes': 17, 'lr': 0.00010422830875337387}. Best is trial 8 with value: 92.6815.\u001b[0m\n",
      "\u001b[32m[I 2022-10-09 09:38:18,450]\u001b[0m Using an existing study with name 'tpe-oc20-3k' instead of creating a new one.\u001b[0m\n"
     ]
    },
    {
     "name": "stdout",
     "output_type": "stream",
     "text": [
      "Training completed in 298.51158261299133s\n",
      "Running hyperparam tuning with:\n",
      " - study_name: tpe-oc20-3k\n",
      " - dataset: ../data/oc20_3k_train.lmdb\n",
      " - n_trials: 20\n",
      " - sampler: TPE\n",
      " - pruner: None\n",
      " - num epochs: 500\n",
      " - params:\n",
      "   - dropout_rate: 0.0\n",
      "   - gamma: 1.0\n",
      "TPESampler\n",
      "<optuna.pruners._nop.NopPruner object at 0x000002BD0482E190>\n",
      "Results saved to ./checkpoints\\2022-10-09-09-38-18-269ffa2a-e0e9-42f0-8739-eacdd6f4fb31\n"
     ]
    },
    {
     "name": "stderr",
     "output_type": "stream",
     "text": [
      "loading from C:\\Users\\ryanc\\Desktop\\Student Files\\VIP\\Alex-Repo\\bdqm-hyperparam-tuning\\data\\oc20_3k_train.lmdb: 100%|█|\n"
     ]
    },
    {
     "name": "stdout",
     "output_type": "stream",
     "text": [
      "Loading dataset: 3000 images\n",
      "Use Xavier initialization\n",
      "Loading model: 6303 parameters\n",
      "Loading skorch trainer\n"
     ]
    },
    {
     "name": "stderr",
     "output_type": "stream",
     "text": [
      "\u001b[32m[I 2022-10-09 09:42:06,866]\u001b[0m Trial 20 finished with value: 122.57793923635441 and parameters: {'num_layers': 11, 'num_nodes': 23, 'lr': 1.1269643562481303e-05}. Best is trial 8 with value: 92.6815.\u001b[0m\n",
      "loading from C:\\Users\\ryanc\\Desktop\\Student Files\\VIP\\Alex-Repo\\bdqm-hyperparam-tuning\\data\\oc20_3k_train.lmdb:   0%| |"
     ]
    },
    {
     "name": "stdout",
     "output_type": "stream",
     "text": [
      "Training completed in 227.53529167175293s\n",
      "Results saved to ./checkpoints\\2022-10-09-09-42-06-36026c83-f863-4866-ad8a-2b7ca9545ac2\n"
     ]
    },
    {
     "name": "stderr",
     "output_type": "stream",
     "text": [
      "loading from C:\\Users\\ryanc\\Desktop\\Student Files\\VIP\\Alex-Repo\\bdqm-hyperparam-tuning\\data\\oc20_3k_train.lmdb: 100%|█|\n"
     ]
    },
    {
     "name": "stdout",
     "output_type": "stream",
     "text": [
      "Loading dataset: 3000 images\n",
      "Use Xavier initialization\n",
      "Loading model: 2355 parameters\n",
      "Loading skorch trainer\n"
     ]
    },
    {
     "name": "stderr",
     "output_type": "stream",
     "text": [
      "\u001b[32m[I 2022-10-09 09:44:53,208]\u001b[0m Trial 21 finished with value: 104.21425462467947 and parameters: {'num_layers': 16, 'num_nodes': 11, 'lr': 0.0002075521974554094}. Best is trial 8 with value: 92.6815.\u001b[0m\n",
      "loading from C:\\Users\\ryanc\\Desktop\\Student Files\\VIP\\Alex-Repo\\bdqm-hyperparam-tuning\\data\\oc20_3k_train.lmdb:   0%| |"
     ]
    },
    {
     "name": "stdout",
     "output_type": "stream",
     "text": [
      "Training completed in 165.46100163459778s\n",
      "Results saved to ./checkpoints\\2022-10-09-09-44-53-6d8d3764-eb3c-4d42-a3de-929ce3551a0c\n"
     ]
    },
    {
     "name": "stderr",
     "output_type": "stream",
     "text": [
      "loading from C:\\Users\\ryanc\\Desktop\\Student Files\\VIP\\Alex-Repo\\bdqm-hyperparam-tuning\\data\\oc20_3k_train.lmdb: 100%|█|\n"
     ]
    },
    {
     "name": "stdout",
     "output_type": "stream",
     "text": [
      "Loading dataset: 3000 images\n",
      "Use Xavier initialization\n",
      "Loading model: 4699 parameters\n",
      "Loading skorch trainer\n"
     ]
    },
    {
     "name": "stderr",
     "output_type": "stream",
     "text": [
      "\u001b[32m[I 2022-10-09 09:47:43,097]\u001b[0m Trial 22 finished with value: 101.68882560099928 and parameters: {'num_layers': 6, 'num_nodes': 27, 'lr': 0.0003164472548548311}. Best is trial 8 with value: 92.6815.\u001b[0m\n",
      "loading from C:\\Users\\ryanc\\Desktop\\Student Files\\VIP\\Alex-Repo\\bdqm-hyperparam-tuning\\data\\oc20_3k_train.lmdb:   0%| |"
     ]
    },
    {
     "name": "stdout",
     "output_type": "stream",
     "text": [
      "Training completed in 169.02852773666382s\n",
      "Results saved to ./checkpoints\\2022-10-09-09-47-43-2c8efa12-7698-491a-b1e3-287a829f9c81\n"
     ]
    },
    {
     "name": "stderr",
     "output_type": "stream",
     "text": [
      "loading from C:\\Users\\ryanc\\Desktop\\Student Files\\VIP\\Alex-Repo\\bdqm-hyperparam-tuning\\data\\oc20_3k_train.lmdb: 100%|█|\n"
     ]
    },
    {
     "name": "stdout",
     "output_type": "stream",
     "text": [
      "Loading dataset: 3000 images\n",
      "Use Xavier initialization\n",
      "Loading model: 6217 parameters\n",
      "Loading skorch trainer\n"
     ]
    },
    {
     "name": "stderr",
     "output_type": "stream",
     "text": [
      "\u001b[32m[I 2022-10-09 09:51:08,534]\u001b[0m Trial 23 finished with value: 587.617183483169 and parameters: {'num_layers': 10, 'num_nodes': 24, 'lr': 0.05711386516476498}. Best is trial 8 with value: 92.6815.\u001b[0m\n",
      "loading from C:\\Users\\ryanc\\Desktop\\Student Files\\VIP\\Alex-Repo\\bdqm-hyperparam-tuning\\data\\oc20_3k_train.lmdb:   0%| |"
     ]
    },
    {
     "name": "stdout",
     "output_type": "stream",
     "text": [
      "Training completed in 204.55865907669067s\n",
      "Results saved to ./checkpoints\\2022-10-09-09-51-08-f48d0f46-12f2-4de3-8dfd-01efdf845ade\n"
     ]
    },
    {
     "name": "stderr",
     "output_type": "stream",
     "text": [
      "loading from C:\\Users\\ryanc\\Desktop\\Student Files\\VIP\\Alex-Repo\\bdqm-hyperparam-tuning\\data\\oc20_3k_train.lmdb: 100%|█|\n"
     ]
    },
    {
     "name": "stdout",
     "output_type": "stream",
     "text": [
      "Loading dataset: 3000 images\n",
      "Use Xavier initialization\n",
      "Loading model: 3333 parameters\n",
      "Loading skorch trainer\n"
     ]
    },
    {
     "name": "stderr",
     "output_type": "stream",
     "text": [
      "\u001b[32m[I 2022-10-09 09:54:26,636]\u001b[0m Trial 24 finished with value: 807.136789550585 and parameters: {'num_layers': 10, 'num_nodes': 17, 'lr': 0.024826501650310435}. Best is trial 8 with value: 92.6815.\u001b[0m\n",
      "loading from C:\\Users\\ryanc\\Desktop\\Student Files\\VIP\\Alex-Repo\\bdqm-hyperparam-tuning\\data\\oc20_3k_train.lmdb:   0%| |"
     ]
    },
    {
     "name": "stdout",
     "output_type": "stream",
     "text": [
      "Training completed in 197.11396765708923s\n",
      "Results saved to ./checkpoints\\2022-10-09-09-54-26-d9f68ba6-f9b1-4293-a5f0-10df17d369c9\n"
     ]
    },
    {
     "name": "stderr",
     "output_type": "stream",
     "text": [
      "loading from C:\\Users\\ryanc\\Desktop\\Student Files\\VIP\\Alex-Repo\\bdqm-hyperparam-tuning\\data\\oc20_3k_train.lmdb: 100%|█|\n"
     ]
    },
    {
     "name": "stdout",
     "output_type": "stream",
     "text": [
      "Loading dataset: 3000 images\n",
      "Use Xavier initialization\n",
      "Loading model: 2367 parameters\n",
      "Loading skorch trainer\n"
     ]
    },
    {
     "name": "stderr",
     "output_type": "stream",
     "text": [
      "\u001b[32m[I 2022-10-09 09:57:02,459]\u001b[0m Trial 25 finished with value: 2003.8567416311357 and parameters: {'num_layers': 10, 'num_nodes': 14, 'lr': 0.06628794311130277}. Best is trial 8 with value: 92.6815.\u001b[0m\n",
      "loading from C:\\Users\\ryanc\\Desktop\\Student Files\\VIP\\Alex-Repo\\bdqm-hyperparam-tuning\\data\\oc20_3k_train.lmdb:   0%| |"
     ]
    },
    {
     "name": "stdout",
     "output_type": "stream",
     "text": [
      "Training completed in 154.60697603225708s\n",
      "Results saved to ./checkpoints\\2022-10-09-09-57-02-01733d4b-0aa0-4eab-aefd-c156efa2c592\n"
     ]
    },
    {
     "name": "stderr",
     "output_type": "stream",
     "text": [
      "loading from C:\\Users\\ryanc\\Desktop\\Student Files\\VIP\\Alex-Repo\\bdqm-hyperparam-tuning\\data\\oc20_3k_train.lmdb: 100%|█|\n"
     ]
    },
    {
     "name": "stdout",
     "output_type": "stream",
     "text": [
      "Loading dataset: 3000 images\n",
      "Use Xavier initialization\n",
      "Loading model: 8001 parameters\n",
      "Loading skorch trainer\n"
     ]
    },
    {
     "name": "stderr",
     "output_type": "stream",
     "text": [
      "\u001b[32m[I 2022-10-09 10:01:15,436]\u001b[0m Trial 26 finished with value: 99.98676326974096 and parameters: {'num_layers': 12, 'num_nodes': 25, 'lr': 0.0032992815749670295}. Best is trial 8 with value: 92.6815.\u001b[0m\n",
      "loading from C:\\Users\\ryanc\\Desktop\\Student Files\\VIP\\Alex-Repo\\bdqm-hyperparam-tuning\\data\\oc20_3k_train.lmdb:   0%| |"
     ]
    },
    {
     "name": "stdout",
     "output_type": "stream",
     "text": [
      "Training completed in 252.12179684638977s\n",
      "Results saved to ./checkpoints\\2022-10-09-10-01-15-29bfa5ec-74f1-4b25-ab12-03b6ccce2cf6\n"
     ]
    },
    {
     "name": "stderr",
     "output_type": "stream",
     "text": [
      "loading from C:\\Users\\ryanc\\Desktop\\Student Files\\VIP\\Alex-Repo\\bdqm-hyperparam-tuning\\data\\oc20_3k_train.lmdb: 100%|█|\n"
     ]
    },
    {
     "name": "stdout",
     "output_type": "stream",
     "text": [
      "Loading dataset: 3000 images\n",
      "Use Xavier initialization\n",
      "Loading model: 2191 parameters\n",
      "Loading skorch trainer\n"
     ]
    },
    {
     "name": "stderr",
     "output_type": "stream",
     "text": [
      "\u001b[32m[I 2022-10-09 10:03:46,037]\u001b[0m Trial 27 finished with value: 110.35634459678874 and parameters: {'num_layers': 8, 'num_nodes': 15, 'lr': 0.0001272532615830872}. Best is trial 8 with value: 92.6815.\u001b[0m\n",
      "loading from C:\\Users\\ryanc\\Desktop\\Student Files\\VIP\\Alex-Repo\\bdqm-hyperparam-tuning\\data\\oc20_3k_train.lmdb:   0%| |"
     ]
    },
    {
     "name": "stdout",
     "output_type": "stream",
     "text": [
      "Training completed in 149.71030521392822s\n",
      "Results saved to ./checkpoints\\2022-10-09-10-03-46-cf5931e5-84a4-46aa-abe4-3c294f1f1feb\n"
     ]
    },
    {
     "name": "stderr",
     "output_type": "stream",
     "text": [
      "loading from C:\\Users\\ryanc\\Desktop\\Student Files\\VIP\\Alex-Repo\\bdqm-hyperparam-tuning\\data\\oc20_3k_train.lmdb: 100%|█|\n"
     ]
    },
    {
     "name": "stdout",
     "output_type": "stream",
     "text": [
      "Loading dataset: 3000 images\n",
      "Use Xavier initialization\n",
      "Loading model: 9309 parameters\n",
      "Loading skorch trainer\n"
     ]
    },
    {
     "name": "stderr",
     "output_type": "stream",
     "text": [
      "\u001b[32m[I 2022-10-09 10:08:14,140]\u001b[0m Trial 28 finished with value: 116.43473292225455 and parameters: {'num_layers': 13, 'num_nodes': 26, 'lr': 1.65053181733717e-05}. Best is trial 8 with value: 92.6815.\u001b[0m\n",
      "loading from C:\\Users\\ryanc\\Desktop\\Student Files\\VIP\\Alex-Repo\\bdqm-hyperparam-tuning\\data\\oc20_3k_train.lmdb:   0%| |"
     ]
    },
    {
     "name": "stdout",
     "output_type": "stream",
     "text": [
      "Training completed in 267.27104806900024s\n",
      "Results saved to ./checkpoints\\2022-10-09-10-08-14-06d42f13-0cee-4c9b-953a-32a726aa2b2e\n"
     ]
    },
    {
     "name": "stderr",
     "output_type": "stream",
     "text": [
      "loading from C:\\Users\\ryanc\\Desktop\\Student Files\\VIP\\Alex-Repo\\bdqm-hyperparam-tuning\\data\\oc20_3k_train.lmdb: 100%|█|\n"
     ]
    },
    {
     "name": "stdout",
     "output_type": "stream",
     "text": [
      "Loading dataset: 3000 images\n",
      "Use Xavier initialization\n",
      "Loading model: 2721 parameters\n",
      "Loading skorch trainer\n"
     ]
    },
    {
     "name": "stderr",
     "output_type": "stream",
     "text": [
      "\u001b[32m[I 2022-10-09 10:10:46,608]\u001b[0m Trial 29 finished with value: 96.3050159079005 and parameters: {'num_layers': 9, 'num_nodes': 16, 'lr': 0.006096906251298304}. Best is trial 8 with value: 92.6815.\u001b[0m\n",
      "loading from C:\\Users\\ryanc\\Desktop\\Student Files\\VIP\\Alex-Repo\\bdqm-hyperparam-tuning\\data\\oc20_3k_train.lmdb:   0%| |"
     ]
    },
    {
     "name": "stdout",
     "output_type": "stream",
     "text": [
      "Training completed in 151.53212189674377s\n",
      "Results saved to ./checkpoints\\2022-10-09-10-10-46-a98e01fe-42bd-49a2-bfa2-653c48a958e6\n"
     ]
    },
    {
     "name": "stderr",
     "output_type": "stream",
     "text": [
      "loading from C:\\Users\\ryanc\\Desktop\\Student Files\\VIP\\Alex-Repo\\bdqm-hyperparam-tuning\\data\\oc20_3k_train.lmdb: 100%|█|\n"
     ]
    },
    {
     "name": "stdout",
     "output_type": "stream",
     "text": [
      "Loading dataset: 3000 images\n",
      "Use Xavier initialization\n",
      "Loading model: 6259 parameters\n",
      "Loading skorch trainer\n"
     ]
    },
    {
     "name": "stderr",
     "output_type": "stream",
     "text": [
      "\u001b[32m[I 2022-10-09 10:14:44,300]\u001b[0m Trial 30 finished with value: 114.32211936102777 and parameters: {'num_layers': 13, 'num_nodes': 21, 'lr': 0.00022700482801161522}. Best is trial 8 with value: 92.6815.\u001b[0m\n",
      "loading from C:\\Users\\ryanc\\Desktop\\Student Files\\VIP\\Alex-Repo\\bdqm-hyperparam-tuning\\data\\oc20_3k_train.lmdb:   0%| |"
     ]
    },
    {
     "name": "stdout",
     "output_type": "stream",
     "text": [
      "Training completed in 236.83908987045288s\n",
      "Results saved to ./checkpoints\\2022-10-09-10-14-44-6e356083-2d3e-4e32-b91b-40cccd12eba3\n"
     ]
    },
    {
     "name": "stderr",
     "output_type": "stream",
     "text": [
      "loading from C:\\Users\\ryanc\\Desktop\\Student Files\\VIP\\Alex-Repo\\bdqm-hyperparam-tuning\\data\\oc20_3k_train.lmdb: 100%|█|\n"
     ]
    },
    {
     "name": "stdout",
     "output_type": "stream",
     "text": [
      "Loading dataset: 3000 images\n",
      "Use Xavier initialization\n",
      "Loading model: 10417 parameters\n",
      "Loading skorch trainer\n"
     ]
    },
    {
     "name": "stderr",
     "output_type": "stream",
     "text": [
      "\u001b[32m[I 2022-10-09 10:19:33,734]\u001b[0m Trial 31 finished with value: 104.63241506319275 and parameters: {'num_layers': 17, 'num_nodes': 24, 'lr': 0.002281268586241605}. Best is trial 8 with value: 92.6815.\u001b[0m\n",
      "loading from C:\\Users\\ryanc\\Desktop\\Student Files\\VIP\\Alex-Repo\\bdqm-hyperparam-tuning\\data\\oc20_3k_train.lmdb:   0%| |"
     ]
    },
    {
     "name": "stdout",
     "output_type": "stream",
     "text": [
      "Training completed in 288.48923444747925s\n",
      "Results saved to ./checkpoints\\2022-10-09-10-19-33-6232fb8b-0f63-40a7-a7c3-36f71846fbe3\n"
     ]
    },
    {
     "name": "stderr",
     "output_type": "stream",
     "text": [
      "loading from C:\\Users\\ryanc\\Desktop\\Student Files\\VIP\\Alex-Repo\\bdqm-hyperparam-tuning\\data\\oc20_3k_train.lmdb: 100%|█|\n"
     ]
    },
    {
     "name": "stdout",
     "output_type": "stream",
     "text": [
      "Loading dataset: 3000 images\n",
      "Use Xavier initialization\n",
      "Loading model: 5303 parameters\n",
      "Loading skorch trainer\n"
     ]
    },
    {
     "name": "stderr",
     "output_type": "stream",
     "text": [
      "\u001b[32m[I 2022-10-09 10:22:58,835]\u001b[0m Trial 32 finished with value: 108.06665795489018 and parameters: {'num_layers': 10, 'num_nodes': 22, 'lr': 5.124352659234483e-05}. Best is trial 8 with value: 92.6815.\u001b[0m\n",
      "loading from C:\\Users\\ryanc\\Desktop\\Student Files\\VIP\\Alex-Repo\\bdqm-hyperparam-tuning\\data\\oc20_3k_train.lmdb:   0%| |"
     ]
    },
    {
     "name": "stdout",
     "output_type": "stream",
     "text": [
      "Training completed in 204.12796020507812s\n",
      "Results saved to ./checkpoints\\2022-10-09-10-22-58-63b3404c-4258-4681-987c-90f7d4aa85cf\n"
     ]
    },
    {
     "name": "stderr",
     "output_type": "stream",
     "text": [
      "loading from C:\\Users\\ryanc\\Desktop\\Student Files\\VIP\\Alex-Repo\\bdqm-hyperparam-tuning\\data\\oc20_3k_train.lmdb: 100%|█|\n"
     ]
    },
    {
     "name": "stdout",
     "output_type": "stream",
     "text": [
      "Loading dataset: 3000 images\n",
      "Use Xavier initialization\n",
      "Loading model: 4411 parameters\n",
      "Loading skorch trainer\n"
     ]
    },
    {
     "name": "stderr",
     "output_type": "stream",
     "text": [
      "\u001b[32m[I 2022-10-09 10:26:11,010]\u001b[0m Trial 33 finished with value: 102.27092389871 and parameters: {'num_layers': 9, 'num_nodes': 21, 'lr': 0.0002470224135625594}. Best is trial 8 with value: 92.6815.\u001b[0m\n",
      "loading from C:\\Users\\ryanc\\Desktop\\Student Files\\VIP\\Alex-Repo\\bdqm-hyperparam-tuning\\data\\oc20_3k_train.lmdb:   0%| |"
     ]
    },
    {
     "name": "stdout",
     "output_type": "stream",
     "text": [
      "Training completed in 191.3210916519165s\n",
      "Results saved to ./checkpoints\\2022-10-09-10-26-11-5b718417-31e7-4c74-8f16-c46e0ba77e01\n"
     ]
    },
    {
     "name": "stderr",
     "output_type": "stream",
     "text": [
      "loading from C:\\Users\\ryanc\\Desktop\\Student Files\\VIP\\Alex-Repo\\bdqm-hyperparam-tuning\\data\\oc20_3k_train.lmdb: 100%|█|\n"
     ]
    },
    {
     "name": "stdout",
     "output_type": "stream",
     "text": [
      "Loading dataset: 3000 images\n",
      "Use Xavier initialization\n",
      "Loading model: 6721 parameters\n",
      "Loading skorch trainer\n"
     ]
    },
    {
     "name": "stderr",
     "output_type": "stream",
     "text": [
      "\u001b[32m[I 2022-10-09 10:30:25,182]\u001b[0m Trial 34 finished with value: 168.46670006144637 and parameters: {'num_layers': 14, 'num_nodes': 21, 'lr': 0.016389803622428808}. Best is trial 8 with value: 92.6815.\u001b[0m\n",
      "loading from C:\\Users\\ryanc\\Desktop\\Student Files\\VIP\\Alex-Repo\\bdqm-hyperparam-tuning\\data\\oc20_3k_train.lmdb:   0%| |"
     ]
    },
    {
     "name": "stdout",
     "output_type": "stream",
     "text": [
      "Training completed in 253.22121787071228s\n",
      "Results saved to ./checkpoints\\2022-10-09-10-30-25-88b0bff6-9ee7-400e-8d97-57d80d9d05a2\n"
     ]
    },
    {
     "name": "stderr",
     "output_type": "stream",
     "text": [
      "loading from C:\\Users\\ryanc\\Desktop\\Student Files\\VIP\\Alex-Repo\\bdqm-hyperparam-tuning\\data\\oc20_3k_train.lmdb: 100%|█|\n"
     ]
    },
    {
     "name": "stdout",
     "output_type": "stream",
     "text": [
      "Loading dataset: 3000 images\n",
      "Use Xavier initialization\n",
      "Loading model: 3265 parameters\n",
      "Loading skorch trainer\n"
     ]
    },
    {
     "name": "stderr",
     "output_type": "stream",
     "text": [
      "\u001b[32m[I 2022-10-09 10:33:21,355]\u001b[0m Trial 35 finished with value: 101.4475385025132 and parameters: {'num_layers': 11, 'num_nodes': 16, 'lr': 0.013247997715334903}. Best is trial 8 with value: 92.6815.\u001b[0m\n",
      "loading from C:\\Users\\ryanc\\Desktop\\Student Files\\VIP\\Alex-Repo\\bdqm-hyperparam-tuning\\data\\oc20_3k_train.lmdb:   0%| |"
     ]
    },
    {
     "name": "stdout",
     "output_type": "stream",
     "text": [
      "Training completed in 175.1574831008911s\n",
      "Results saved to ./checkpoints\\2022-10-09-10-33-21-bcb433f9-e6e7-425f-8a0e-376656386eb1\n"
     ]
    },
    {
     "name": "stderr",
     "output_type": "stream",
     "text": [
      "loading from C:\\Users\\ryanc\\Desktop\\Student Files\\VIP\\Alex-Repo\\bdqm-hyperparam-tuning\\data\\oc20_3k_train.lmdb: 100%|█|\n"
     ]
    },
    {
     "name": "stdout",
     "output_type": "stream",
     "text": [
      "Loading dataset: 3000 images\n",
      "Use Xavier initialization\n",
      "Loading model: 8339 parameters\n",
      "Loading skorch trainer\n"
     ]
    },
    {
     "name": "stderr",
     "output_type": "stream",
     "text": [
      "\u001b[32m[I 2022-10-09 10:38:04,788]\u001b[0m Trial 36 finished with value: 204.5828203087856 and parameters: {'num_layers': 16, 'num_nodes': 22, 'lr': 0.01718896902659659}. Best is trial 8 with value: 92.6815.\u001b[0m\n",
      "loading from C:\\Users\\ryanc\\Desktop\\Student Files\\VIP\\Alex-Repo\\bdqm-hyperparam-tuning\\data\\oc20_3k_train.lmdb:   0%| |"
     ]
    },
    {
     "name": "stdout",
     "output_type": "stream",
     "text": [
      "Training completed in 282.56807947158813s\n",
      "Results saved to ./checkpoints\\2022-10-09-10-38-04-7f7cb3f7-ae82-481f-9bcc-7aef0012f32c\n"
     ]
    },
    {
     "name": "stderr",
     "output_type": "stream",
     "text": [
      "loading from C:\\Users\\ryanc\\Desktop\\Student Files\\VIP\\Alex-Repo\\bdqm-hyperparam-tuning\\data\\oc20_3k_train.lmdb: 100%|█|\n"
     ]
    },
    {
     "name": "stdout",
     "output_type": "stream",
     "text": [
      "Loading dataset: 3000 images\n",
      "Use Xavier initialization\n",
      "Loading model: 6427 parameters\n",
      "Loading skorch trainer\n"
     ]
    },
    {
     "name": "stderr",
     "output_type": "stream",
     "text": [
      "\u001b[32m[I 2022-10-09 10:43:02,262]\u001b[0m Trial 37 finished with value: 93.63924326770274 and parameters: {'num_layers': 18, 'num_nodes': 18, 'lr': 0.0052408166438011545}. Best is trial 8 with value: 92.6815.\u001b[0m\n",
      "loading from C:\\Users\\ryanc\\Desktop\\Student Files\\VIP\\Alex-Repo\\bdqm-hyperparam-tuning\\data\\oc20_3k_train.lmdb:   0%| |"
     ]
    },
    {
     "name": "stdout",
     "output_type": "stream",
     "text": [
      "Training completed in 296.43751430511475s\n",
      "Results saved to ./checkpoints\\2022-10-09-10-43-02-d50293d3-b3aa-43cb-92e8-4bc7cbb6c369\n"
     ]
    },
    {
     "name": "stderr",
     "output_type": "stream",
     "text": [
      "loading from C:\\Users\\ryanc\\Desktop\\Student Files\\VIP\\Alex-Repo\\bdqm-hyperparam-tuning\\data\\oc20_3k_train.lmdb: 100%|█|\n"
     ]
    },
    {
     "name": "stdout",
     "output_type": "stream",
     "text": [
      "Loading dataset: 3000 images\n",
      "Use Xavier initialization\n",
      "Loading model: 1827 parameters\n",
      "Loading skorch trainer\n"
     ]
    },
    {
     "name": "stderr",
     "output_type": "stream",
     "text": [
      "\u001b[32m[I 2022-10-09 10:45:37,759]\u001b[0m Trial 38 finished with value: 107.46721780969318 and parameters: {'num_layers': 12, 'num_nodes': 11, 'lr': 0.00013152322815724064}. Best is trial 8 with value: 92.6815.\u001b[0m\n",
      "loading from C:\\Users\\ryanc\\Desktop\\Student Files\\VIP\\Alex-Repo\\bdqm-hyperparam-tuning\\data\\oc20_3k_train.lmdb:   0%| |"
     ]
    },
    {
     "name": "stdout",
     "output_type": "stream",
     "text": [
      "Training completed in 154.63200044631958s\n",
      "Results saved to ./checkpoints\\2022-10-09-10-45-37-55d04ee8-7b0c-4011-882e-6a207867da7b\n"
     ]
    },
    {
     "name": "stderr",
     "output_type": "stream",
     "text": [
      "loading from C:\\Users\\ryanc\\Desktop\\Student Files\\VIP\\Alex-Repo\\bdqm-hyperparam-tuning\\data\\oc20_3k_train.lmdb: 100%|█|\n"
     ]
    },
    {
     "name": "stdout",
     "output_type": "stream",
     "text": [
      "Loading dataset: 3000 images\n",
      "Use Xavier initialization\n",
      "Loading model: 6855 parameters\n",
      "Loading skorch trainer\n"
     ]
    },
    {
     "name": "stderr",
     "output_type": "stream",
     "text": [
      "\u001b[32m[I 2022-10-09 10:49:27,519]\u001b[0m Trial 39 finished with value: 107.35672891247407 and parameters: {'num_layers': 12, 'num_nodes': 23, 'lr': 6.126838786841628e-05}. Best is trial 8 with value: 92.6815.\u001b[0m\n",
      "\u001b[32m[I 2022-10-09 10:49:27,604]\u001b[0m Using an existing study with name 'tpe-oc20-3k' instead of creating a new one.\u001b[0m\n"
     ]
    },
    {
     "name": "stdout",
     "output_type": "stream",
     "text": [
      "Training completed in 228.8230266571045s\n",
      "Running hyperparam tuning with:\n",
      " - study_name: tpe-oc20-3k\n",
      " - dataset: ../data/oc20_3k_train.lmdb\n",
      " - n_trials: 20\n",
      " - sampler: TPE\n",
      " - pruner: None\n",
      " - num epochs: 500\n",
      " - params:\n",
      "   - dropout_rate: 0.0\n",
      "   - gamma: 1.0\n",
      "TPESampler\n",
      "<optuna.pruners._nop.NopPruner object at 0x000002BD56C62D30>\n"
     ]
    },
    {
     "name": "stderr",
     "output_type": "stream",
     "text": [
      "loading from C:\\Users\\ryanc\\Desktop\\Student Files\\VIP\\Alex-Repo\\bdqm-hyperparam-tuning\\data\\oc20_3k_train.lmdb:  13%|▏|"
     ]
    },
    {
     "name": "stdout",
     "output_type": "stream",
     "text": [
      "Results saved to ./checkpoints\\2022-10-09-10-49-27-5f5b0f47-54d9-40bd-9f07-c8cc485ae289\n"
     ]
    },
    {
     "name": "stderr",
     "output_type": "stream",
     "text": [
      "loading from C:\\Users\\ryanc\\Desktop\\Student Files\\VIP\\Alex-Repo\\bdqm-hyperparam-tuning\\data\\oc20_3k_train.lmdb: 100%|█|\n"
     ]
    },
    {
     "name": "stdout",
     "output_type": "stream",
     "text": [
      "Loading dataset: 3000 images\n",
      "Use Xavier initialization\n",
      "Loading model: 16831 parameters\n",
      "Loading skorch trainer\n"
     ]
    },
    {
     "name": "stderr",
     "output_type": "stream",
     "text": [
      "\u001b[32m[I 2022-10-09 10:55:14,499]\u001b[0m Trial 40 finished with value: 99.9309998945937 and parameters: {'num_layers': 18, 'num_nodes': 30, 'lr': 0.0016727732798759805}. Best is trial 8 with value: 92.6815.\u001b[0m\n",
      "loading from C:\\Users\\ryanc\\Desktop\\Student Files\\VIP\\Alex-Repo\\bdqm-hyperparam-tuning\\data\\oc20_3k_train.lmdb:   0%| |"
     ]
    },
    {
     "name": "stdout",
     "output_type": "stream",
     "text": [
      "Training completed in 345.9780135154724s\n",
      "Results saved to ./checkpoints\\2022-10-09-10-55-14-3d935f49-8f15-4aa3-bbf3-9bc2fe6fa607\n"
     ]
    },
    {
     "name": "stderr",
     "output_type": "stream",
     "text": [
      "loading from C:\\Users\\ryanc\\Desktop\\Student Files\\VIP\\Alex-Repo\\bdqm-hyperparam-tuning\\data\\oc20_3k_train.lmdb: 100%|█|\n"
     ]
    },
    {
     "name": "stdout",
     "output_type": "stream",
     "text": [
      "Loading dataset: 3000 images\n",
      "Use Xavier initialization\n",
      "Loading model: 6727 parameters\n",
      "Loading skorch trainer\n"
     ]
    },
    {
     "name": "stderr",
     "output_type": "stream",
     "text": [
      "\u001b[32m[I 2022-10-09 11:00:06,825]\u001b[0m Trial 41 finished with value: 104.98671005818612 and parameters: {'num_layers': 17, 'num_nodes': 19, 'lr': 0.0061364357221470114}. Best is trial 8 with value: 92.6815.\u001b[0m\n",
      "loading from C:\\Users\\ryanc\\Desktop\\Student Files\\VIP\\Alex-Repo\\bdqm-hyperparam-tuning\\data\\oc20_3k_train.lmdb:   0%| |"
     ]
    },
    {
     "name": "stdout",
     "output_type": "stream",
     "text": [
      "Training completed in 291.31519627571106s\n",
      "Results saved to ./checkpoints\\2022-10-09-11-00-06-3148e4d5-2da5-4c48-9a7c-6ca4ad490da9\n"
     ]
    },
    {
     "name": "stderr",
     "output_type": "stream",
     "text": [
      "loading from C:\\Users\\ryanc\\Desktop\\Student Files\\VIP\\Alex-Repo\\bdqm-hyperparam-tuning\\data\\oc20_3k_train.lmdb: 100%|█|\n"
     ]
    },
    {
     "name": "stdout",
     "output_type": "stream",
     "text": [
      "Loading dataset: 3000 images\n",
      "Use Xavier initialization\n",
      "Loading model: 3901 parameters\n",
      "Loading skorch trainer\n"
     ]
    },
    {
     "name": "stderr",
     "output_type": "stream",
     "text": [
      "\u001b[32m[I 2022-10-09 11:03:28,639]\u001b[0m Trial 42 finished with value: 110.01621008546975 and parameters: {'num_layers': 20, 'num_nodes': 13, 'lr': 0.007841728664048584}. Best is trial 8 with value: 92.6815.\u001b[0m\n",
      "loading from C:\\Users\\ryanc\\Desktop\\Student Files\\VIP\\Alex-Repo\\bdqm-hyperparam-tuning\\data\\oc20_3k_train.lmdb:   0%| |"
     ]
    },
    {
     "name": "stdout",
     "output_type": "stream",
     "text": [
      "Training completed in 200.90704560279846s\n",
      "Results saved to ./checkpoints\\2022-10-09-11-03-28-ea2d0ac0-710d-45dc-bf84-c52af30ee640\n"
     ]
    },
    {
     "name": "stderr",
     "output_type": "stream",
     "text": [
      "loading from C:\\Users\\ryanc\\Desktop\\Student Files\\VIP\\Alex-Repo\\bdqm-hyperparam-tuning\\data\\oc20_3k_train.lmdb: 100%|█|\n"
     ]
    },
    {
     "name": "stdout",
     "output_type": "stream",
     "text": [
      "Loading dataset: 3000 images\n",
      "Use Xavier initialization\n",
      "Loading model: 3537 parameters\n",
      "Loading skorch trainer\n"
     ]
    },
    {
     "name": "stderr",
     "output_type": "stream",
     "text": [
      "\u001b[32m[I 2022-10-09 11:06:42,082]\u001b[0m Trial 43 finished with value: 98.57310245855277 and parameters: {'num_layers': 18, 'num_nodes': 13, 'lr': 0.0014334911892328788}. Best is trial 8 with value: 92.6815.\u001b[0m\n",
      "loading from C:\\Users\\ryanc\\Desktop\\Student Files\\VIP\\Alex-Repo\\bdqm-hyperparam-tuning\\data\\oc20_3k_train.lmdb:   0%| |"
     ]
    },
    {
     "name": "stdout",
     "output_type": "stream",
     "text": [
      "Training completed in 192.48718118667603s\n",
      "Results saved to ./checkpoints\\2022-10-09-11-06-42-ed56cac8-b3ca-4c33-b6c9-cc2f20ed9499\n"
     ]
    },
    {
     "name": "stderr",
     "output_type": "stream",
     "text": [
      "loading from C:\\Users\\ryanc\\Desktop\\Student Files\\VIP\\Alex-Repo\\bdqm-hyperparam-tuning\\data\\oc20_3k_train.lmdb: 100%|█|\n"
     ]
    },
    {
     "name": "stdout",
     "output_type": "stream",
     "text": [
      "Loading dataset: 3000 images\n",
      "Use Xavier initialization\n",
      "Loading model: 6727 parameters\n",
      "Loading skorch trainer\n"
     ]
    },
    {
     "name": "stderr",
     "output_type": "stream",
     "text": [
      "\u001b[32m[I 2022-10-09 11:11:32,079]\u001b[0m Trial 44 finished with value: 95.19722683588253 and parameters: {'num_layers': 17, 'num_nodes': 19, 'lr': 0.007882521863743492}. Best is trial 8 with value: 92.6815.\u001b[0m\n",
      "loading from C:\\Users\\ryanc\\Desktop\\Student Files\\VIP\\Alex-Repo\\bdqm-hyperparam-tuning\\data\\oc20_3k_train.lmdb:   0%| |"
     ]
    },
    {
     "name": "stdout",
     "output_type": "stream",
     "text": [
      "Training completed in 289.1365976333618s\n",
      "Results saved to ./checkpoints\\2022-10-09-11-11-32-1c9b495e-2871-48de-8bb9-7c7d63efaa00\n"
     ]
    },
    {
     "name": "stderr",
     "output_type": "stream",
     "text": [
      "loading from C:\\Users\\ryanc\\Desktop\\Student Files\\VIP\\Alex-Repo\\bdqm-hyperparam-tuning\\data\\oc20_3k_train.lmdb: 100%|█|\n"
     ]
    },
    {
     "name": "stdout",
     "output_type": "stream",
     "text": [
      "Loading dataset: 3000 images\n",
      "Use Xavier initialization\n",
      "Loading model: 6727 parameters\n",
      "Loading skorch trainer\n"
     ]
    },
    {
     "name": "stderr",
     "output_type": "stream",
     "text": [
      "\u001b[32m[I 2022-10-09 11:16:24,814]\u001b[0m Trial 45 finished with value: 98.15645825566571 and parameters: {'num_layers': 17, 'num_nodes': 19, 'lr': 0.00983794768625102}. Best is trial 8 with value: 92.6815.\u001b[0m\n",
      "loading from C:\\Users\\ryanc\\Desktop\\Student Files\\VIP\\Alex-Repo\\bdqm-hyperparam-tuning\\data\\oc20_3k_train.lmdb:   0%| |"
     ]
    },
    {
     "name": "stdout",
     "output_type": "stream",
     "text": [
      "Training completed in 291.7611198425293s\n",
      "Results saved to ./checkpoints\\2022-10-09-11-16-24-7c24c07d-2824-4323-a693-3c34b7378e28\n"
     ]
    },
    {
     "name": "stderr",
     "output_type": "stream",
     "text": [
      "loading from C:\\Users\\ryanc\\Desktop\\Student Files\\VIP\\Alex-Repo\\bdqm-hyperparam-tuning\\data\\oc20_3k_train.lmdb: 100%|█|\n"
     ]
    },
    {
     "name": "stdout",
     "output_type": "stream",
     "text": [
      "Loading dataset: 3000 images\n",
      "Use Xavier initialization\n",
      "Loading model: 3217 parameters\n",
      "Loading skorch trainer\n"
     ]
    },
    {
     "name": "stderr",
     "output_type": "stream",
     "text": [
      "\u001b[32m[I 2022-10-09 11:19:37,373]\u001b[0m Trial 46 finished with value: 112.21269703557331 and parameters: {'num_layers': 19, 'num_nodes': 12, 'lr': 0.0010197633041327564}. Best is trial 8 with value: 92.6815.\u001b[0m\n",
      "loading from C:\\Users\\ryanc\\Desktop\\Student Files\\VIP\\Alex-Repo\\bdqm-hyperparam-tuning\\data\\oc20_3k_train.lmdb:   0%| |"
     ]
    },
    {
     "name": "stdout",
     "output_type": "stream",
     "text": [
      "Training completed in 191.68895936012268s\n",
      "Results saved to ./checkpoints\\2022-10-09-11-19-37-ce483080-c6f8-428f-b282-8c71a1e20caf\n"
     ]
    },
    {
     "name": "stderr",
     "output_type": "stream",
     "text": [
      "loading from C:\\Users\\ryanc\\Desktop\\Student Files\\VIP\\Alex-Repo\\bdqm-hyperparam-tuning\\data\\oc20_3k_train.lmdb: 100%|█|\n"
     ]
    },
    {
     "name": "stdout",
     "output_type": "stream",
     "text": [
      "Loading dataset: 3000 images\n",
      "Use Xavier initialization\n",
      "Loading model: 5587 parameters\n",
      "Loading skorch trainer\n"
     ]
    },
    {
     "name": "stderr",
     "output_type": "stream",
     "text": [
      "\u001b[32m[I 2022-10-09 11:23:50,078]\u001b[0m Trial 47 finished with value: 614.489171080543 and parameters: {'num_layers': 14, 'num_nodes': 19, 'lr': 0.037482144358526946}. Best is trial 8 with value: 92.6815.\u001b[0m\n",
      "loading from C:\\Users\\ryanc\\Desktop\\Student Files\\VIP\\Alex-Repo\\bdqm-hyperparam-tuning\\data\\oc20_3k_train.lmdb:   0%| |"
     ]
    },
    {
     "name": "stdout",
     "output_type": "stream",
     "text": [
      "Training completed in 251.7691707611084s\n",
      "Results saved to ./checkpoints\\2022-10-09-11-23-50-8ab57d9d-cd70-49f3-9493-bd2a9db1d1d3\n"
     ]
    },
    {
     "name": "stderr",
     "output_type": "stream",
     "text": [
      "loading from C:\\Users\\ryanc\\Desktop\\Student Files\\VIP\\Alex-Repo\\bdqm-hyperparam-tuning\\data\\oc20_3k_train.lmdb: 100%|█|\n"
     ]
    },
    {
     "name": "stdout",
     "output_type": "stream",
     "text": [
      "Loading dataset: 3000 images\n",
      "Use Xavier initialization\n",
      "Loading model: 4257 parameters\n",
      "Loading skorch trainer\n"
     ]
    },
    {
     "name": "stderr",
     "output_type": "stream",
     "text": [
      "\u001b[32m[I 2022-10-09 11:27:29,491]\u001b[0m Trial 48 finished with value: 96.80470030913897 and parameters: {'num_layers': 19, 'num_nodes': 14, 'lr': 0.004667711289478544}. Best is trial 8 with value: 92.6815.\u001b[0m\n",
      "loading from C:\\Users\\ryanc\\Desktop\\Student Files\\VIP\\Alex-Repo\\bdqm-hyperparam-tuning\\data\\oc20_3k_train.lmdb:   0%| |"
     ]
    },
    {
     "name": "stdout",
     "output_type": "stream",
     "text": [
      "Training completed in 218.45601296424866s\n",
      "Results saved to ./checkpoints\\2022-10-09-11-27-29-5cec8e68-6304-4484-84d1-97a86fa8c318\n"
     ]
    },
    {
     "name": "stderr",
     "output_type": "stream",
     "text": [
      "loading from C:\\Users\\ryanc\\Desktop\\Student Files\\VIP\\Alex-Repo\\bdqm-hyperparam-tuning\\data\\oc20_3k_train.lmdb: 100%|█|\n"
     ]
    },
    {
     "name": "stdout",
     "output_type": "stream",
     "text": [
      "Loading dataset: 3000 images\n",
      "Use Xavier initialization\n",
      "Loading model: 6427 parameters\n",
      "Loading skorch trainer\n"
     ]
    },
    {
     "name": "stderr",
     "output_type": "stream",
     "text": [
      "\u001b[32m[I 2022-10-09 11:32:29,138]\u001b[0m Trial 49 finished with value: 96.15049618475275 and parameters: {'num_layers': 18, 'num_nodes': 18, 'lr': 0.010503180993160135}. Best is trial 8 with value: 92.6815.\u001b[0m\n",
      "loading from C:\\Users\\ryanc\\Desktop\\Student Files\\VIP\\Alex-Repo\\bdqm-hyperparam-tuning\\data\\oc20_3k_train.lmdb:   0%| |"
     ]
    },
    {
     "name": "stdout",
     "output_type": "stream",
     "text": [
      "Training completed in 298.6876850128174s\n",
      "Results saved to ./checkpoints\\2022-10-09-11-32-29-998a1654-1fd7-4786-955a-4bbf6513578b\n"
     ]
    },
    {
     "name": "stderr",
     "output_type": "stream",
     "text": [
      "loading from C:\\Users\\ryanc\\Desktop\\Student Files\\VIP\\Alex-Repo\\bdqm-hyperparam-tuning\\data\\oc20_3k_train.lmdb: 100%|█|\n"
     ]
    },
    {
     "name": "stdout",
     "output_type": "stream",
     "text": [
      "Loading dataset: 3000 images\n",
      "Use Xavier initialization\n",
      "Loading model: 14971 parameters\n",
      "Loading skorch trainer\n"
     ]
    },
    {
     "name": "stderr",
     "output_type": "stream",
     "text": [
      "\u001b[32m[I 2022-10-09 11:37:48,103]\u001b[0m Trial 50 finished with value: 94.36004206285878 and parameters: {'num_layers': 16, 'num_nodes': 30, 'lr': 0.0010778026695697112}. Best is trial 8 with value: 92.6815.\u001b[0m\n",
      "loading from C:\\Users\\ryanc\\Desktop\\Student Files\\VIP\\Alex-Repo\\bdqm-hyperparam-tuning\\data\\oc20_3k_train.lmdb:   0%| |"
     ]
    },
    {
     "name": "stdout",
     "output_type": "stream",
     "text": [
      "Training completed in 318.0460841655731s\n",
      "Results saved to ./checkpoints\\2022-10-09-11-37-48-7b4f0a2b-b2fa-4c98-9be8-eeb95bc09095\n"
     ]
    },
    {
     "name": "stderr",
     "output_type": "stream",
     "text": [
      "loading from C:\\Users\\ryanc\\Desktop\\Student Files\\VIP\\Alex-Repo\\bdqm-hyperparam-tuning\\data\\oc20_3k_train.lmdb: 100%|█|\n"
     ]
    },
    {
     "name": "stdout",
     "output_type": "stream",
     "text": [
      "Loading dataset: 3000 images\n",
      "Use Xavier initialization\n",
      "Loading model: 14971 parameters\n",
      "Loading skorch trainer\n"
     ]
    },
    {
     "name": "stderr",
     "output_type": "stream",
     "text": [
      "\u001b[32m[I 2022-10-09 11:43:06,939]\u001b[0m Trial 51 finished with value: 95.12915126546561 and parameters: {'num_layers': 16, 'num_nodes': 30, 'lr': 0.001189402206341631}. Best is trial 8 with value: 92.6815.\u001b[0m\n",
      "loading from C:\\Users\\ryanc\\Desktop\\Student Files\\VIP\\Alex-Repo\\bdqm-hyperparam-tuning\\data\\oc20_3k_train.lmdb:   0%| |"
     ]
    },
    {
     "name": "stdout",
     "output_type": "stream",
     "text": [
      "Training completed in 317.7803819179535s\n",
      "Results saved to ./checkpoints\\2022-10-09-11-43-06-5d8a9e48-75fc-424c-a663-9ce9eae2f006\n"
     ]
    },
    {
     "name": "stderr",
     "output_type": "stream",
     "text": [
      "loading from C:\\Users\\ryanc\\Desktop\\Student Files\\VIP\\Alex-Repo\\bdqm-hyperparam-tuning\\data\\oc20_3k_train.lmdb: 100%|█|\n"
     ]
    },
    {
     "name": "stdout",
     "output_type": "stream",
     "text": [
      "Loading dataset: 3000 images\n",
      "Use Xavier initialization\n",
      "Loading model: 14971 parameters\n",
      "Loading skorch trainer\n"
     ]
    },
    {
     "name": "stderr",
     "output_type": "stream",
     "text": [
      "\u001b[32m[I 2022-10-09 11:48:25,493]\u001b[0m Trial 52 finished with value: 90.2923850550318 and parameters: {'num_layers': 16, 'num_nodes': 30, 'lr': 0.001239547636101771}. Best is trial 52 with value: 90.2924.\u001b[0m\n",
      "loading from C:\\Users\\ryanc\\Desktop\\Student Files\\VIP\\Alex-Repo\\bdqm-hyperparam-tuning\\data\\oc20_3k_train.lmdb:   0%| |"
     ]
    },
    {
     "name": "stdout",
     "output_type": "stream",
     "text": [
      "Training completed in 317.4949948787689s\n",
      "Results saved to ./checkpoints\\2022-10-09-11-48-25-596fd687-f023-4f63-af86-7defbc84fa5d\n"
     ]
    },
    {
     "name": "stderr",
     "output_type": "stream",
     "text": [
      "loading from C:\\Users\\ryanc\\Desktop\\Student Files\\VIP\\Alex-Repo\\bdqm-hyperparam-tuning\\data\\oc20_3k_train.lmdb: 100%|█|\n"
     ]
    },
    {
     "name": "stdout",
     "output_type": "stream",
     "text": [
      "Loading dataset: 3000 images\n",
      "Use Xavier initialization\n",
      "Loading model: 14041 parameters\n",
      "Loading skorch trainer\n"
     ]
    },
    {
     "name": "stderr",
     "output_type": "stream",
     "text": [
      "\u001b[32m[I 2022-10-09 11:53:27,902]\u001b[0m Trial 53 finished with value: 98.53659156038509 and parameters: {'num_layers': 15, 'num_nodes': 30, 'lr': 0.0011363460288528167}. Best is trial 52 with value: 90.2924.\u001b[0m\n",
      "loading from C:\\Users\\ryanc\\Desktop\\Student Files\\VIP\\Alex-Repo\\bdqm-hyperparam-tuning\\data\\oc20_3k_train.lmdb:   0%| |"
     ]
    },
    {
     "name": "stdout",
     "output_type": "stream",
     "text": [
      "Training completed in 301.438396692276s\n",
      "Results saved to ./checkpoints\\2022-10-09-11-53-27-26a0649b-b59c-4cb6-af55-1ae746461a03\n"
     ]
    },
    {
     "name": "stderr",
     "output_type": "stream",
     "text": [
      "loading from C:\\Users\\ryanc\\Desktop\\Student Files\\VIP\\Alex-Repo\\bdqm-hyperparam-tuning\\data\\oc20_3k_train.lmdb: 100%|█|\n"
     ]
    },
    {
     "name": "stdout",
     "output_type": "stream",
     "text": [
      "Loading dataset: 3000 images\n",
      "Use Xavier initialization\n",
      "Loading model: 14037 parameters\n",
      "Loading skorch trainer\n"
     ]
    },
    {
     "name": "stderr",
     "output_type": "stream",
     "text": [
      "\u001b[32m[I 2022-10-09 11:58:47,148]\u001b[0m Trial 54 finished with value: 94.22042247287924 and parameters: {'num_layers': 16, 'num_nodes': 29, 'lr': 0.001996717727669117}. Best is trial 52 with value: 90.2924.\u001b[0m\n",
      "loading from C:\\Users\\ryanc\\Desktop\\Student Files\\VIP\\Alex-Repo\\bdqm-hyperparam-tuning\\data\\oc20_3k_train.lmdb:   0%| |"
     ]
    },
    {
     "name": "stdout",
     "output_type": "stream",
     "text": [
      "Training completed in 318.2423973083496s\n",
      "Results saved to ./checkpoints\\2022-10-09-11-58-47-dff24b1c-7b34-4bd6-83d7-b1425e5ee085\n"
     ]
    },
    {
     "name": "stderr",
     "output_type": "stream",
     "text": [
      "loading from C:\\Users\\ryanc\\Desktop\\Student Files\\VIP\\Alex-Repo\\bdqm-hyperparam-tuning\\data\\oc20_3k_train.lmdb: 100%|█|\n"
     ]
    },
    {
     "name": "stdout",
     "output_type": "stream",
     "text": [
      "Loading dataset: 3000 images\n",
      "Use Xavier initialization\n",
      "Loading model: 12297 parameters\n",
      "Loading skorch trainer\n"
     ]
    },
    {
     "name": "stderr",
     "output_type": "stream",
     "text": [
      "\u001b[32m[I 2022-10-09 12:03:37,340]\u001b[0m Trial 55 finished with value: 97.55199250313242 and parameters: {'num_layers': 14, 'num_nodes': 29, 'lr': 0.002076267035075402}. Best is trial 52 with value: 90.2924.\u001b[0m\n",
      "loading from C:\\Users\\ryanc\\Desktop\\Student Files\\VIP\\Alex-Repo\\bdqm-hyperparam-tuning\\data\\oc20_3k_train.lmdb:   0%| |"
     ]
    },
    {
     "name": "stdout",
     "output_type": "stream",
     "text": [
      "Training completed in 289.1387016773224s\n",
      "Results saved to ./checkpoints\\2022-10-09-12-03-37-5c6ce0ce-b83c-43d3-a7c8-aec1aaf45dfe\n"
     ]
    },
    {
     "name": "stderr",
     "output_type": "stream",
     "text": [
      "loading from C:\\Users\\ryanc\\Desktop\\Student Files\\VIP\\Alex-Repo\\bdqm-hyperparam-tuning\\data\\oc20_3k_train.lmdb: 100%|█|\n"
     ]
    },
    {
     "name": "stdout",
     "output_type": "stream",
     "text": [
      "Loading dataset: 3000 images\n",
      "Use Xavier initialization\n",
      "Loading model: 13133 parameters\n",
      "Loading skorch trainer\n"
     ]
    },
    {
     "name": "stderr",
     "output_type": "stream",
     "text": [
      "\u001b[32m[I 2022-10-09 12:08:49,037]\u001b[0m Trial 56 finished with value: 99.85186260496576 and parameters: {'num_layers': 16, 'num_nodes': 28, 'lr': 0.0007687972303234863}. Best is trial 52 with value: 90.2924.\u001b[0m\n",
      "loading from C:\\Users\\ryanc\\Desktop\\Student Files\\VIP\\Alex-Repo\\bdqm-hyperparam-tuning\\data\\oc20_3k_train.lmdb:   0%| |"
     ]
    },
    {
     "name": "stdout",
     "output_type": "stream",
     "text": [
      "Training completed in 310.6792724132538s\n",
      "Results saved to ./checkpoints\\2022-10-09-12-08-49-2514e3ee-e4bf-4ab9-84a0-9d2a4c5b722d\n"
     ]
    },
    {
     "name": "stderr",
     "output_type": "stream",
     "text": [
      "loading from C:\\Users\\ryanc\\Desktop\\Student Files\\VIP\\Alex-Repo\\bdqm-hyperparam-tuning\\data\\oc20_3k_train.lmdb: 100%|█|\n"
     ]
    },
    {
     "name": "stdout",
     "output_type": "stream",
     "text": [
      "Loading dataset: 3000 images\n",
      "Use Xavier initialization\n",
      "Loading model: 15777 parameters\n",
      "Loading skorch trainer\n"
     ]
    },
    {
     "name": "stderr",
     "output_type": "stream",
     "text": [
      "\u001b[32m[I 2022-10-09 12:14:59,034]\u001b[0m Trial 57 finished with value: 96.06447284129978 and parameters: {'num_layers': 18, 'num_nodes': 29, 'lr': 0.00047752898947232294}. Best is trial 52 with value: 90.2924.\u001b[0m\n",
      "loading from C:\\Users\\ryanc\\Desktop\\Student Files\\VIP\\Alex-Repo\\bdqm-hyperparam-tuning\\data\\oc20_3k_train.lmdb:   0%| |"
     ]
    },
    {
     "name": "stdout",
     "output_type": "stream",
     "text": [
      "Training completed in 369.0441460609436s\n",
      "Results saved to ./checkpoints\\2022-10-09-12-14-59-7953abb8-f03b-4690-abc6-8a01a380ddb2\n"
     ]
    },
    {
     "name": "stderr",
     "output_type": "stream",
     "text": [
      "loading from C:\\Users\\ryanc\\Desktop\\Student Files\\VIP\\Alex-Repo\\bdqm-hyperparam-tuning\\data\\oc20_3k_train.lmdb: 100%|█|\n"
     ]
    },
    {
     "name": "stdout",
     "output_type": "stream",
     "text": [
      "Loading dataset: 3000 images\n",
      "Use Xavier initialization\n",
      "Loading model: 12321 parameters\n",
      "Loading skorch trainer\n"
     ]
    },
    {
     "name": "stderr",
     "output_type": "stream",
     "text": [
      "\u001b[32m[I 2022-10-09 12:20:00,663]\u001b[0m Trial 58 finished with value: 102.42020799520986 and parameters: {'num_layers': 15, 'num_nodes': 28, 'lr': 0.003375713489033073}. Best is trial 52 with value: 90.2924.\u001b[0m\n",
      "loading from C:\\Users\\ryanc\\Desktop\\Student Files\\VIP\\Alex-Repo\\bdqm-hyperparam-tuning\\data\\oc20_3k_train.lmdb:   0%| |"
     ]
    },
    {
     "name": "stdout",
     "output_type": "stream",
     "text": [
      "Training completed in 300.5894329547882s\n",
      "Results saved to ./checkpoints\\2022-10-09-12-20-00-81d9572e-1190-471a-bf08-03cce4c72320\n"
     ]
    },
    {
     "name": "stderr",
     "output_type": "stream",
     "text": [
      "loading from C:\\Users\\ryanc\\Desktop\\Student Files\\VIP\\Alex-Repo\\bdqm-hyperparam-tuning\\data\\oc20_3k_train.lmdb: 100%|█|\n"
     ]
    },
    {
     "name": "stdout",
     "output_type": "stream",
     "text": [
      "Loading dataset: 3000 images\n",
      "Use Xavier initialization\n",
      "Loading model: 14907 parameters\n",
      "Loading skorch trainer\n"
     ]
    },
    {
     "name": "stderr",
     "output_type": "stream",
     "text": [
      "\u001b[32m[I 2022-10-09 12:25:40,391]\u001b[0m Trial 59 finished with value: 92.6315518273357 and parameters: {'num_layers': 17, 'num_nodes': 29, 'lr': 0.0023534717454158816}. Best is trial 52 with value: 90.2924.\u001b[0m\n",
      "\u001b[32m[I 2022-10-09 12:25:40,483]\u001b[0m A new study created in RDB with name: random-oc20-3k\u001b[0m\n"
     ]
    },
    {
     "name": "stdout",
     "output_type": "stream",
     "text": [
      "Training completed in 338.75214767456055s\n",
      "Running hyperparam tuning with:\n",
      " - study_name: random-oc20-3k\n",
      " - dataset: ../data/oc20_3k_train.lmdb\n",
      " - n_trials: 20\n",
      " - sampler: Random\n",
      " - pruner: None\n",
      " - num epochs: 500\n",
      " - params:\n",
      "   - dropout_rate: 0.0\n",
      "   - gamma: 1.0\n",
      "RandomSampler\n",
      "<optuna.pruners._nop.NopPruner object at 0x000002BDB2FB9DF0>\n",
      "Results saved to ./checkpoints\\2022-10-09-12-25-40-011bceee-ef4e-4bed-b32c-f2b7f2885131\n"
     ]
    },
    {
     "name": "stderr",
     "output_type": "stream",
     "text": [
      "loading from C:\\Users\\ryanc\\Desktop\\Student Files\\VIP\\Alex-Repo\\bdqm-hyperparam-tuning\\data\\oc20_3k_train.lmdb: 100%|█|\n"
     ]
    },
    {
     "name": "stdout",
     "output_type": "stream",
     "text": [
      "Loading dataset: 3000 images\n",
      "Use Xavier initialization\n",
      "Loading model: 4831 parameters\n",
      "Loading skorch trainer\n"
     ]
    },
    {
     "name": "stderr",
     "output_type": "stream",
     "text": [
      "\u001b[32m[I 2022-10-09 12:29:44,119]\u001b[0m Trial 0 finished with value: 93.61328626409144 and parameters: {'num_layers': 19, 'num_nodes': 15, 'lr': 0.007973419582249792}. Best is trial 0 with value: 93.6133.\u001b[0m\n",
      "loading from C:\\Users\\ryanc\\Desktop\\Student Files\\VIP\\Alex-Repo\\bdqm-hyperparam-tuning\\data\\oc20_3k_train.lmdb:   0%| |"
     ]
    },
    {
     "name": "stdout",
     "output_type": "stream",
     "text": [
      "Training completed in 242.8018639087677s\n",
      "Results saved to ./checkpoints\\2022-10-09-12-29-44-57fd1b0a-413b-4952-ba0b-9e211a86b499\n"
     ]
    },
    {
     "name": "stderr",
     "output_type": "stream",
     "text": [
      "loading from C:\\Users\\ryanc\\Desktop\\Student Files\\VIP\\Alex-Repo\\bdqm-hyperparam-tuning\\data\\oc20_3k_train.lmdb: 100%|█|\n"
     ]
    },
    {
     "name": "stdout",
     "output_type": "stream",
     "text": [
      "Loading dataset: 3000 images\n",
      "Use Xavier initialization\n",
      "Loading model: 6637 parameters\n",
      "Loading skorch trainer\n"
     ]
    },
    {
     "name": "stderr",
     "output_type": "stream",
     "text": [
      "\u001b[32m[I 2022-10-09 12:33:06,066]\u001b[0m Trial 1 finished with value: 757.2290552358409 and parameters: {'num_layers': 8, 'num_nodes': 28, 'lr': 0.018173554126742434}. Best is trial 0 with value: 93.6133.\u001b[0m\n",
      "loading from C:\\Users\\ryanc\\Desktop\\Student Files\\VIP\\Alex-Repo\\bdqm-hyperparam-tuning\\data\\oc20_3k_train.lmdb:   0%| |"
     ]
    },
    {
     "name": "stdout",
     "output_type": "stream",
     "text": [
      "Training completed in 200.9934060573578s\n",
      "Results saved to ./checkpoints\\2022-10-09-12-33-06-9f6033f4-5fe6-4120-a3e7-728dbc13d431\n"
     ]
    },
    {
     "name": "stderr",
     "output_type": "stream",
     "text": [
      "loading from C:\\Users\\ryanc\\Desktop\\Student Files\\VIP\\Alex-Repo\\bdqm-hyperparam-tuning\\data\\oc20_3k_train.lmdb: 100%|█|\n"
     ]
    },
    {
     "name": "stdout",
     "output_type": "stream",
     "text": [
      "Loading dataset: 3000 images\n",
      "Use Xavier initialization\n",
      "Loading model: 17761 parameters\n",
      "Loading skorch trainer\n"
     ]
    },
    {
     "name": "stderr",
     "output_type": "stream",
     "text": [
      "\u001b[32m[I 2022-10-09 12:39:06,604]\u001b[0m Trial 2 finished with value: 102.59258276446505 and parameters: {'num_layers': 19, 'num_nodes': 30, 'lr': 0.00012156768975250623}. Best is trial 0 with value: 93.6133.\u001b[0m\n",
      "loading from C:\\Users\\ryanc\\Desktop\\Student Files\\VIP\\Alex-Repo\\bdqm-hyperparam-tuning\\data\\oc20_3k_train.lmdb:   0%| |"
     ]
    },
    {
     "name": "stdout",
     "output_type": "stream",
     "text": [
      "Training completed in 359.579549074173s\n",
      "Results saved to ./checkpoints\\2022-10-09-12-39-06-a9367f50-e405-418c-ad40-36d2c394b072\n"
     ]
    },
    {
     "name": "stderr",
     "output_type": "stream",
     "text": [
      "loading from C:\\Users\\ryanc\\Desktop\\Student Files\\VIP\\Alex-Repo\\bdqm-hyperparam-tuning\\data\\oc20_3k_train.lmdb: 100%|█|\n"
     ]
    },
    {
     "name": "stdout",
     "output_type": "stream",
     "text": [
      "Loading dataset: 3000 images\n",
      "Use Xavier initialization\n",
      "Loading model: 5825 parameters\n",
      "Loading skorch trainer\n"
     ]
    },
    {
     "name": "stderr",
     "output_type": "stream",
     "text": [
      "\u001b[32m[I 2022-10-09 12:42:08,003]\u001b[0m Trial 3 finished with value: 99.9409528453356 and parameters: {'num_layers': 7, 'num_nodes': 28, 'lr': 0.004429183595120016}. Best is trial 0 with value: 93.6133.\u001b[0m\n",
      "loading from C:\\Users\\ryanc\\Desktop\\Student Files\\VIP\\Alex-Repo\\bdqm-hyperparam-tuning\\data\\oc20_3k_train.lmdb:   0%| |"
     ]
    },
    {
     "name": "stdout",
     "output_type": "stream",
     "text": [
      "Training completed in 180.38496279716492s\n",
      "Results saved to ./checkpoints\\2022-10-09-12-42-08-0a3cec68-9380-4dd4-a6e0-88d767a53e11\n"
     ]
    },
    {
     "name": "stderr",
     "output_type": "stream",
     "text": [
      "loading from C:\\Users\\ryanc\\Desktop\\Student Files\\VIP\\Alex-Repo\\bdqm-hyperparam-tuning\\data\\oc20_3k_train.lmdb: 100%|█|\n"
     ]
    },
    {
     "name": "stdout",
     "output_type": "stream",
     "text": [
      "Loading dataset: 3000 images\n",
      "Use Xavier initialization\n",
      "Loading model: 5301 parameters\n",
      "Loading skorch trainer\n"
     ]
    },
    {
     "name": "stderr",
     "output_type": "stream",
     "text": [
      "\u001b[32m[I 2022-10-09 12:45:55,696]\u001b[0m Trial 4 finished with value: 112.171227875157 and parameters: {'num_layers': 12, 'num_nodes': 20, 'lr': 7.041192129569814e-05}. Best is trial 0 with value: 93.6133.\u001b[0m\n",
      "loading from C:\\Users\\ryanc\\Desktop\\Student Files\\VIP\\Alex-Repo\\bdqm-hyperparam-tuning\\data\\oc20_3k_train.lmdb:  11%| |"
     ]
    },
    {
     "name": "stdout",
     "output_type": "stream",
     "text": [
      "Training completed in 226.83273792266846s\n",
      "Results saved to ./checkpoints\\2022-10-09-12-45-55-abe38b7e-d1c5-4f53-ab6d-fb717a8031bb\n"
     ]
    },
    {
     "name": "stderr",
     "output_type": "stream",
     "text": [
      "loading from C:\\Users\\ryanc\\Desktop\\Student Files\\VIP\\Alex-Repo\\bdqm-hyperparam-tuning\\data\\oc20_3k_train.lmdb: 100%|█|\n"
     ]
    },
    {
     "name": "stdout",
     "output_type": "stream",
     "text": [
      "Loading dataset: 3000 images\n",
      "Use Xavier initialization\n",
      "Loading model: 12819 parameters\n",
      "Loading skorch trainer\n"
     ]
    },
    {
     "name": "stderr",
     "output_type": "stream",
     "text": [
      "\u001b[32m[I 2022-10-09 12:51:44,814]\u001b[0m Trial 5 finished with value: 94.9950629955792 and parameters: {'num_layers': 18, 'num_nodes': 26, 'lr': 0.00458719045730224}. Best is trial 0 with value: 93.6133.\u001b[0m\n",
      "loading from C:\\Users\\ryanc\\Desktop\\Student Files\\VIP\\Alex-Repo\\bdqm-hyperparam-tuning\\data\\oc20_3k_train.lmdb:   0%| |"
     ]
    },
    {
     "name": "stdout",
     "output_type": "stream",
     "text": [
      "Training completed in 348.17751383781433s\n",
      "Results saved to ./checkpoints\\2022-10-09-12-51-44-441f1d15-219f-45cc-8094-7714219bc7bf\n"
     ]
    },
    {
     "name": "stderr",
     "output_type": "stream",
     "text": [
      "loading from C:\\Users\\ryanc\\Desktop\\Student Files\\VIP\\Alex-Repo\\bdqm-hyperparam-tuning\\data\\oc20_3k_train.lmdb: 100%|█|\n"
     ]
    },
    {
     "name": "stdout",
     "output_type": "stream",
     "text": [
      "Loading dataset: 3000 images\n",
      "Use Xavier initialization\n",
      "Loading model: 12117 parameters\n",
      "Loading skorch trainer\n"
     ]
    },
    {
     "name": "stderr",
     "output_type": "stream",
     "text": [
      "\u001b[32m[I 2022-10-09 12:57:22,010]\u001b[0m Trial 6 finished with value: 95.28543932589206 and parameters: {'num_layers': 17, 'num_nodes': 26, 'lr': 0.007797849535278535}. Best is trial 0 with value: 93.6133.\u001b[0m\n",
      "loading from C:\\Users\\ryanc\\Desktop\\Student Files\\VIP\\Alex-Repo\\bdqm-hyperparam-tuning\\data\\oc20_3k_train.lmdb:   0%| |"
     ]
    },
    {
     "name": "stdout",
     "output_type": "stream",
     "text": [
      "Training completed in 336.2820248603821s\n",
      "Results saved to ./checkpoints\\2022-10-09-12-57-22-a8908504-1cad-46f0-ace4-f39b7e8bbc69\n"
     ]
    },
    {
     "name": "stderr",
     "output_type": "stream",
     "text": [
      "loading from C:\\Users\\ryanc\\Desktop\\Student Files\\VIP\\Alex-Repo\\bdqm-hyperparam-tuning\\data\\oc20_3k_train.lmdb: 100%|█|\n"
     ]
    },
    {
     "name": "stdout",
     "output_type": "stream",
     "text": [
      "Loading dataset: 3000 images\n",
      "Use Xavier initialization\n",
      "Loading model: 5671 parameters\n",
      "Loading skorch trainer\n"
     ]
    },
    {
     "name": "stderr",
     "output_type": "stream",
     "text": [
      "\u001b[32m[I 2022-10-09 13:00:10,085]\u001b[0m Trial 7 finished with value: 92.61545629260081 and parameters: {'num_layers': 6, 'num_nodes': 30, 'lr': 0.0019331588337764595}. Best is trial 7 with value: 92.6155.\u001b[0m\n",
      "loading from C:\\Users\\ryanc\\Desktop\\Student Files\\VIP\\Alex-Repo\\bdqm-hyperparam-tuning\\data\\oc20_3k_train.lmdb:   0%| |"
     ]
    },
    {
     "name": "stdout",
     "output_type": "stream",
     "text": [
      "Training completed in 167.13700127601624s\n",
      "Results saved to ./checkpoints\\2022-10-09-13-00-10-76aa15bd-b4b8-4c4d-ae7a-7446b822bc11\n"
     ]
    },
    {
     "name": "stderr",
     "output_type": "stream",
     "text": [
      "loading from C:\\Users\\ryanc\\Desktop\\Student Files\\VIP\\Alex-Repo\\bdqm-hyperparam-tuning\\data\\oc20_3k_train.lmdb: 100%|█|\n"
     ]
    },
    {
     "name": "stdout",
     "output_type": "stream",
     "text": [
      "Loading dataset: 3000 images\n",
      "Use Xavier initialization\n",
      "Loading model: 891 parameters\n",
      "Loading skorch trainer\n"
     ]
    },
    {
     "name": "stderr",
     "output_type": "stream",
     "text": [
      "\u001b[32m[I 2022-10-09 13:02:39,127]\u001b[0m Trial 8 finished with value: 149.29892644378629 and parameters: {'num_layers': 6, 'num_nodes': 10, 'lr': 1.1238501213405345e-05}. Best is trial 7 with value: 92.6155.\u001b[0m\n",
      "loading from C:\\Users\\ryanc\\Desktop\\Student Files\\VIP\\Alex-Repo\\bdqm-hyperparam-tuning\\data\\oc20_3k_train.lmdb:   0%| |"
     ]
    },
    {
     "name": "stdout",
     "output_type": "stream",
     "text": [
      "Training completed in 148.08372163772583s\n",
      "Results saved to ./checkpoints\\2022-10-09-13-02-39-e9960406-003e-4018-951a-422605d98fcf\n"
     ]
    },
    {
     "name": "stderr",
     "output_type": "stream",
     "text": [
      "loading from C:\\Users\\ryanc\\Desktop\\Student Files\\VIP\\Alex-Repo\\bdqm-hyperparam-tuning\\data\\oc20_3k_train.lmdb: 100%|█|\n"
     ]
    },
    {
     "name": "stdout",
     "output_type": "stream",
     "text": [
      "Loading dataset: 3000 images\n",
      "Use Xavier initialization\n",
      "Loading model: 3307 parameters\n",
      "Loading skorch trainer\n"
     ]
    },
    {
     "name": "stderr",
     "output_type": "stream",
     "text": [
      "\u001b[32m[I 2022-10-09 13:05:34,877]\u001b[0m Trial 9 finished with value: 798.5459732092851 and parameters: {'num_layers': 8, 'num_nodes': 19, 'lr': 0.02688948463684824}. Best is trial 7 with value: 92.6155.\u001b[0m\n",
      "loading from C:\\Users\\ryanc\\Desktop\\Student Files\\VIP\\Alex-Repo\\bdqm-hyperparam-tuning\\data\\oc20_3k_train.lmdb:   0%| |"
     ]
    },
    {
     "name": "stdout",
     "output_type": "stream",
     "text": [
      "Training completed in 174.96041679382324s\n",
      "Results saved to ./checkpoints\\2022-10-09-13-05-34-c352284d-cd84-4ef4-9947-3212ad59ae5b\n"
     ]
    },
    {
     "name": "stderr",
     "output_type": "stream",
     "text": [
      "loading from C:\\Users\\ryanc\\Desktop\\Student Files\\VIP\\Alex-Repo\\bdqm-hyperparam-tuning\\data\\oc20_3k_train.lmdb: 100%|█|\n"
     ]
    },
    {
     "name": "stdout",
     "output_type": "stream",
     "text": [
      "Loading dataset: 3000 images\n",
      "Use Xavier initialization\n",
      "Loading model: 2211 parameters\n",
      "Loading skorch trainer\n"
     ]
    },
    {
     "name": "stderr",
     "output_type": "stream",
     "text": [
      "\u001b[32m[I 2022-10-09 13:08:54,666]\u001b[0m Trial 10 finished with value: 131.27405480647707 and parameters: {'num_layers': 18, 'num_nodes': 10, 'lr': 2.6918848067130507e-05}. Best is trial 7 with value: 92.6155.\u001b[0m\n",
      "loading from C:\\Users\\ryanc\\Desktop\\Student Files\\VIP\\Alex-Repo\\bdqm-hyperparam-tuning\\data\\oc20_3k_train.lmdb:   0%| |"
     ]
    },
    {
     "name": "stdout",
     "output_type": "stream",
     "text": [
      "Training completed in 198.78376984596252s\n",
      "Results saved to ./checkpoints\\2022-10-09-13-08-54-ea186ddf-d8fa-427b-a0f7-af2308805992\n"
     ]
    },
    {
     "name": "stderr",
     "output_type": "stream",
     "text": [
      "loading from C:\\Users\\ryanc\\Desktop\\Student Files\\VIP\\Alex-Repo\\bdqm-hyperparam-tuning\\data\\oc20_3k_train.lmdb: 100%|█|\n"
     ]
    },
    {
     "name": "stdout",
     "output_type": "stream",
     "text": [
      "Loading dataset: 3000 images\n",
      "Use Xavier initialization\n",
      "Loading model: 6211 parameters\n",
      "Loading skorch trainer\n"
     ]
    },
    {
     "name": "stderr",
     "output_type": "stream",
     "text": [
      "\u001b[32m[I 2022-10-09 13:12:14,369]\u001b[0m Trial 11 finished with value: 109.55273109974954 and parameters: {'num_layers': 8, 'num_nodes': 27, 'lr': 0.012971435999129824}. Best is trial 7 with value: 92.6155.\u001b[0m\n",
      "loading from C:\\Users\\ryanc\\Desktop\\Student Files\\VIP\\Alex-Repo\\bdqm-hyperparam-tuning\\data\\oc20_3k_train.lmdb:   0%| |"
     ]
    },
    {
     "name": "stdout",
     "output_type": "stream",
     "text": [
      "Training completed in 198.8807361125946s\n",
      "Results saved to ./checkpoints\\2022-10-09-13-12-14-0f92f82d-70e2-407a-bf99-687be7f3dc5f\n"
     ]
    },
    {
     "name": "stderr",
     "output_type": "stream",
     "text": [
      "loading from C:\\Users\\ryanc\\Desktop\\Student Files\\VIP\\Alex-Repo\\bdqm-hyperparam-tuning\\data\\oc20_3k_train.lmdb: 100%|█|\n"
     ]
    },
    {
     "name": "stdout",
     "output_type": "stream",
     "text": [
      "Loading dataset: 3000 images\n",
      "Use Xavier initialization\n",
      "Loading model: 2665 parameters\n",
      "Loading skorch trainer\n"
     ]
    },
    {
     "name": "stderr",
     "output_type": "stream",
     "text": [
      "\u001b[32m[I 2022-10-09 13:14:56,541]\u001b[0m Trial 12 finished with value: 93.93280584711194 and parameters: {'num_layers': 7, 'num_nodes': 18, 'lr': 0.0011886519244613154}. Best is trial 7 with value: 92.6155.\u001b[0m\n",
      "loading from C:\\Users\\ryanc\\Desktop\\Student Files\\VIP\\Alex-Repo\\bdqm-hyperparam-tuning\\data\\oc20_3k_train.lmdb:  12%| |"
     ]
    },
    {
     "name": "stdout",
     "output_type": "stream",
     "text": [
      "Training completed in 161.2130148410797s\n",
      "Results saved to ./checkpoints\\2022-10-09-13-14-56-00a28d05-3c01-4f31-8f15-ca15bcd363a3\n"
     ]
    },
    {
     "name": "stderr",
     "output_type": "stream",
     "text": [
      "loading from C:\\Users\\ryanc\\Desktop\\Student Files\\VIP\\Alex-Repo\\bdqm-hyperparam-tuning\\data\\oc20_3k_train.lmdb: 100%|█|\n"
     ]
    },
    {
     "name": "stdout",
     "output_type": "stream",
     "text": [
      "Loading dataset: 3000 images\n",
      "Use Xavier initialization\n",
      "Loading model: 1695 parameters\n",
      "Loading skorch trainer\n"
     ]
    },
    {
     "name": "stderr",
     "output_type": "stream",
     "text": [
      "\u001b[32m[I 2022-10-09 13:17:15,422]\u001b[0m Trial 13 finished with value: 103.13367646467418 and parameters: {'num_layers': 11, 'num_nodes': 11, 'lr': 0.0006704918210128676}. Best is trial 7 with value: 92.6155.\u001b[0m\n",
      "loading from C:\\Users\\ryanc\\Desktop\\Student Files\\VIP\\Alex-Repo\\bdqm-hyperparam-tuning\\data\\oc20_3k_train.lmdb:  12%| |"
     ]
    },
    {
     "name": "stdout",
     "output_type": "stream",
     "text": [
      "Training completed in 138.03394532203674s\n",
      "Results saved to ./checkpoints\\2022-10-09-13-17-15-55838b04-3c0e-4da1-8686-8dd739bdb0c8\n"
     ]
    },
    {
     "name": "stderr",
     "output_type": "stream",
     "text": [
      "loading from C:\\Users\\ryanc\\Desktop\\Student Files\\VIP\\Alex-Repo\\bdqm-hyperparam-tuning\\data\\oc20_3k_train.lmdb: 100%|█|\n"
     ]
    },
    {
     "name": "stdout",
     "output_type": "stream",
     "text": [
      "Loading dataset: 3000 images\n",
      "Use Xavier initialization\n",
      "Loading model: 6085 parameters\n",
      "Loading skorch trainer\n"
     ]
    },
    {
     "name": "stderr",
     "output_type": "stream",
     "text": [
      "\u001b[32m[I 2022-10-09 13:21:56,280]\u001b[0m Trial 14 finished with value: 93.25020765893645 and parameters: {'num_layers': 17, 'num_nodes': 18, 'lr': 0.00429636022081604}. Best is trial 7 with value: 92.6155.\u001b[0m\n",
      "loading from C:\\Users\\ryanc\\Desktop\\Student Files\\VIP\\Alex-Repo\\bdqm-hyperparam-tuning\\data\\oc20_3k_train.lmdb:  12%| |"
     ]
    },
    {
     "name": "stdout",
     "output_type": "stream",
     "text": [
      "Training completed in 279.91384649276733s\n",
      "Results saved to ./checkpoints\\2022-10-09-13-21-56-354a9e3f-eea7-4f2d-9e6e-aa4b45cef855\n"
     ]
    },
    {
     "name": "stderr",
     "output_type": "stream",
     "text": [
      "loading from C:\\Users\\ryanc\\Desktop\\Student Files\\VIP\\Alex-Repo\\bdqm-hyperparam-tuning\\data\\oc20_3k_train.lmdb: 100%|█|\n"
     ]
    },
    {
     "name": "stdout",
     "output_type": "stream",
     "text": [
      "Loading dataset: 3000 images\n",
      "Use Xavier initialization\n",
      "Loading model: 2191 parameters\n",
      "Loading skorch trainer\n"
     ]
    },
    {
     "name": "stderr",
     "output_type": "stream",
     "text": [
      "\u001b[32m[I 2022-10-09 13:24:20,534]\u001b[0m Trial 15 finished with value: 94.22056530716114 and parameters: {'num_layers': 8, 'num_nodes': 15, 'lr': 0.004322084198835257}. Best is trial 7 with value: 92.6155.\u001b[0m\n",
      "loading from C:\\Users\\ryanc\\Desktop\\Student Files\\VIP\\Alex-Repo\\bdqm-hyperparam-tuning\\data\\oc20_3k_train.lmdb:   0%| |"
     ]
    },
    {
     "name": "stdout",
     "output_type": "stream",
     "text": [
      "Training completed in 143.39597177505493s\n",
      "Results saved to ./checkpoints\\2022-10-09-13-24-20-6436be6f-4be1-4c48-a618-8f4619705c28\n"
     ]
    },
    {
     "name": "stderr",
     "output_type": "stream",
     "text": [
      "loading from C:\\Users\\ryanc\\Desktop\\Student Files\\VIP\\Alex-Repo\\bdqm-hyperparam-tuning\\data\\oc20_3k_train.lmdb: 100%|█|\n"
     ]
    },
    {
     "name": "stdout",
     "output_type": "stream",
     "text": [
      "Loading dataset: 3000 images\n",
      "Use Xavier initialization\n",
      "Loading model: 6393 parameters\n",
      "Loading skorch trainer\n"
     ]
    },
    {
     "name": "stderr",
     "output_type": "stream",
     "text": [
      "\u001b[32m[I 2022-10-09 13:29:37,766]\u001b[0m Trial 16 finished with value: 1509.9575631970206 and parameters: {'num_layers': 20, 'num_nodes': 17, 'lr': 0.029159728476886488}. Best is trial 7 with value: 92.6155.\u001b[0m\n",
      "loading from C:\\Users\\ryanc\\Desktop\\Student Files\\VIP\\Alex-Repo\\bdqm-hyperparam-tuning\\data\\oc20_3k_train.lmdb:   0%| |"
     ]
    },
    {
     "name": "stdout",
     "output_type": "stream",
     "text": [
      "Training completed in 316.33299589157104s\n",
      "Results saved to ./checkpoints\\2022-10-09-13-29-37-a7c6d959-bfb5-4932-a01e-6501d56e5ac9\n"
     ]
    },
    {
     "name": "stderr",
     "output_type": "stream",
     "text": [
      "loading from C:\\Users\\ryanc\\Desktop\\Student Files\\VIP\\Alex-Repo\\bdqm-hyperparam-tuning\\data\\oc20_3k_train.lmdb: 100%|█|\n"
     ]
    },
    {
     "name": "stdout",
     "output_type": "stream",
     "text": [
      "Loading dataset: 3000 images\n",
      "Use Xavier initialization\n",
      "Loading model: 3809 parameters\n",
      "Loading skorch trainer\n"
     ]
    },
    {
     "name": "stderr",
     "output_type": "stream",
     "text": [
      "\u001b[32m[I 2022-10-09 13:32:46,424]\u001b[0m Trial 17 finished with value: 100.46224034727335 and parameters: {'num_layers': 13, 'num_nodes': 16, 'lr': 0.0003828895208351206}. Best is trial 7 with value: 92.6155.\u001b[0m\n",
      "loading from C:\\Users\\ryanc\\Desktop\\Student Files\\VIP\\Alex-Repo\\bdqm-hyperparam-tuning\\data\\oc20_3k_train.lmdb:   0%| |"
     ]
    },
    {
     "name": "stdout",
     "output_type": "stream",
     "text": [
      "Training completed in 187.7845275402069s\n",
      "Results saved to ./checkpoints\\2022-10-09-13-32-46-466b5f0a-df80-4740-aab5-3c1920c62e8f\n"
     ]
    },
    {
     "name": "stderr",
     "output_type": "stream",
     "text": [
      "loading from C:\\Users\\ryanc\\Desktop\\Student Files\\VIP\\Alex-Repo\\bdqm-hyperparam-tuning\\data\\oc20_3k_train.lmdb: 100%|█|\n"
     ]
    },
    {
     "name": "stdout",
     "output_type": "stream",
     "text": [
      "Loading dataset: 3000 images\n",
      "Use Xavier initialization\n",
      "Loading model: 17517 parameters\n",
      "Loading skorch trainer\n"
     ]
    },
    {
     "name": "stderr",
     "output_type": "stream",
     "text": [
      "\u001b[32m[I 2022-10-09 13:38:57,933]\u001b[0m Trial 18 finished with value: 100.00764438210837 and parameters: {'num_layers': 20, 'num_nodes': 29, 'lr': 0.0004909572557568604}. Best is trial 7 with value: 92.6155.\u001b[0m\n",
      "loading from C:\\Users\\ryanc\\Desktop\\Student Files\\VIP\\Alex-Repo\\bdqm-hyperparam-tuning\\data\\oc20_3k_train.lmdb:   0%| |"
     ]
    },
    {
     "name": "stdout",
     "output_type": "stream",
     "text": [
      "Training completed in 370.54721426963806s\n",
      "Results saved to ./checkpoints\\2022-10-09-13-38-57-0abda962-9d9c-47fa-a066-dd0c7cd203ac\n"
     ]
    },
    {
     "name": "stderr",
     "output_type": "stream",
     "text": [
      "loading from C:\\Users\\ryanc\\Desktop\\Student Files\\VIP\\Alex-Repo\\bdqm-hyperparam-tuning\\data\\oc20_3k_train.lmdb: 100%|█|\n"
     ]
    },
    {
     "name": "stdout",
     "output_type": "stream",
     "text": [
      "Loading dataset: 3000 images\n",
      "Use Xavier initialization\n",
      "Loading model: 2355 parameters\n",
      "Loading skorch trainer\n"
     ]
    },
    {
     "name": "stderr",
     "output_type": "stream",
     "text": [
      "\u001b[32m[I 2022-10-09 13:42:04,399]\u001b[0m Trial 19 finished with value: 105.23757127598405 and parameters: {'num_layers': 16, 'num_nodes': 11, 'lr': 0.008803603458663213}. Best is trial 7 with value: 92.6155.\u001b[0m\n",
      "\u001b[32m[I 2022-10-09 13:42:04,476]\u001b[0m Using an existing study with name 'random-oc20-3k' instead of creating a new one.\u001b[0m\n"
     ]
    },
    {
     "name": "stdout",
     "output_type": "stream",
     "text": [
      "Training completed in 185.52001333236694s\n",
      "Running hyperparam tuning with:\n",
      " - study_name: random-oc20-3k\n",
      " - dataset: ../data/oc20_3k_train.lmdb\n",
      " - n_trials: 20\n",
      " - sampler: Random\n",
      " - pruner: None\n",
      " - num epochs: 500\n",
      " - params:\n",
      "   - dropout_rate: 0.0\n",
      "   - gamma: 1.0\n",
      "RandomSampler\n",
      "<optuna.pruners._nop.NopPruner object at 0x000002BDB2FB9370>\n",
      "Results saved to ./checkpoints\\2022-10-09-13-42-04-fa5456d8-9598-4263-bbcf-125f7054269b\n"
     ]
    },
    {
     "name": "stderr",
     "output_type": "stream",
     "text": [
      "loading from C:\\Users\\ryanc\\Desktop\\Student Files\\VIP\\Alex-Repo\\bdqm-hyperparam-tuning\\data\\oc20_3k_train.lmdb: 100%|█|\n"
     ]
    },
    {
     "name": "stdout",
     "output_type": "stream",
     "text": [
      "Loading dataset: 3000 images\n",
      "Use Xavier initialization\n",
      "Loading model: 3355 parameters\n",
      "Loading skorch trainer\n"
     ]
    },
    {
     "name": "stderr",
     "output_type": "stream",
     "text": [
      "\u001b[32m[I 2022-10-09 13:45:10,789]\u001b[0m Trial 20 finished with value: 123.55194591966043 and parameters: {'num_layers': 17, 'num_nodes': 13, 'lr': 1.2533630500452802e-05}. Best is trial 7 with value: 92.6155.\u001b[0m\n",
      "loading from C:\\Users\\ryanc\\Desktop\\Student Files\\VIP\\Alex-Repo\\bdqm-hyperparam-tuning\\data\\oc20_3k_train.lmdb:   0%| |"
     ]
    },
    {
     "name": "stdout",
     "output_type": "stream",
     "text": [
      "Training completed in 185.43757843971252s\n",
      "Results saved to ./checkpoints\\2022-10-09-13-45-10-36bd64be-74c2-479d-b8c2-b1dd99fe26d2\n"
     ]
    },
    {
     "name": "stderr",
     "output_type": "stream",
     "text": [
      "loading from C:\\Users\\ryanc\\Desktop\\Student Files\\VIP\\Alex-Repo\\bdqm-hyperparam-tuning\\data\\oc20_3k_train.lmdb: 100%|█|\n"
     ]
    },
    {
     "name": "stdout",
     "output_type": "stream",
     "text": [
      "Loading dataset: 3000 images\n",
      "Use Xavier initialization\n",
      "Loading model: 4033 parameters\n",
      "Loading skorch trainer\n"
     ]
    },
    {
     "name": "stderr",
     "output_type": "stream",
     "text": [
      "\u001b[32m[I 2022-10-09 13:48:44,264]\u001b[0m Trial 21 finished with value: 91.95229699301147 and parameters: {'num_layers': 11, 'num_nodes': 18, 'lr': 0.010048613743052572}. Best is trial 21 with value: 91.9523.\u001b[0m\n",
      "loading from C:\\Users\\ryanc\\Desktop\\Student Files\\VIP\\Alex-Repo\\bdqm-hyperparam-tuning\\data\\oc20_3k_train.lmdb:   0%| |"
     ]
    },
    {
     "name": "stdout",
     "output_type": "stream",
     "text": [
      "Training completed in 212.59609508514404s\n",
      "Results saved to ./checkpoints\\2022-10-09-13-48-44-97e1673a-dda1-4f78-a6ce-186735cac12d\n"
     ]
    },
    {
     "name": "stderr",
     "output_type": "stream",
     "text": [
      "loading from C:\\Users\\ryanc\\Desktop\\Student Files\\VIP\\Alex-Repo\\bdqm-hyperparam-tuning\\data\\oc20_3k_train.lmdb: 100%|█|\n"
     ]
    },
    {
     "name": "stdout",
     "output_type": "stream",
     "text": [
      "Loading dataset: 3000 images\n",
      "Use Xavier initialization\n",
      "Loading model: 5825 parameters\n",
      "Loading skorch trainer\n"
     ]
    },
    {
     "name": "stderr",
     "output_type": "stream",
     "text": [
      "\u001b[32m[I 2022-10-09 13:51:48,933]\u001b[0m Trial 22 finished with value: 112.44068230976141 and parameters: {'num_layers': 7, 'num_nodes': 28, 'lr': 2.5236154738696656e-05}. Best is trial 21 with value: 91.9523.\u001b[0m\n",
      "loading from C:\\Users\\ryanc\\Desktop\\Student Files\\VIP\\Alex-Repo\\bdqm-hyperparam-tuning\\data\\oc20_3k_train.lmdb:   0%| |"
     ]
    },
    {
     "name": "stdout",
     "output_type": "stream",
     "text": [
      "Training completed in 183.7251386642456s\n",
      "Results saved to ./checkpoints\\2022-10-09-13-51-48-fcf54470-4aed-4f91-a41d-919d247b6fbd\n"
     ]
    },
    {
     "name": "stderr",
     "output_type": "stream",
     "text": [
      "loading from C:\\Users\\ryanc\\Desktop\\Student Files\\VIP\\Alex-Repo\\bdqm-hyperparam-tuning\\data\\oc20_3k_train.lmdb: 100%|█|\n"
     ]
    },
    {
     "name": "stdout",
     "output_type": "stream",
     "text": [
      "Loading dataset: 3000 images\n",
      "Use Xavier initialization\n",
      "Loading model: 10601 parameters\n",
      "Loading skorch trainer\n"
     ]
    },
    {
     "name": "stderr",
     "output_type": "stream",
     "text": [
      "\u001b[32m[I 2022-10-09 13:56:53,445]\u001b[0m Trial 23 finished with value: 101.83132049521794 and parameters: {'num_layers': 16, 'num_nodes': 25, 'lr': 0.0005268015702884647}. Best is trial 21 with value: 91.9523.\u001b[0m\n",
      "loading from C:\\Users\\ryanc\\Desktop\\Student Files\\VIP\\Alex-Repo\\bdqm-hyperparam-tuning\\data\\oc20_3k_train.lmdb:  11%| |"
     ]
    },
    {
     "name": "stdout",
     "output_type": "stream",
     "text": [
      "Training completed in 303.58491468429565s\n",
      "Results saved to ./checkpoints\\2022-10-09-13-56-53-49bb5131-74d8-4718-87cb-d1223c2aa58e\n"
     ]
    },
    {
     "name": "stderr",
     "output_type": "stream",
     "text": [
      "loading from C:\\Users\\ryanc\\Desktop\\Student Files\\VIP\\Alex-Repo\\bdqm-hyperparam-tuning\\data\\oc20_3k_train.lmdb: 100%|█|\n"
     ]
    },
    {
     "name": "stdout",
     "output_type": "stream",
     "text": [
      "Loading dataset: 3000 images\n",
      "Use Xavier initialization\n",
      "Loading model: 4625 parameters\n",
      "Loading skorch trainer\n"
     ]
    },
    {
     "name": "stderr",
     "output_type": "stream",
     "text": [
      "\u001b[32m[I 2022-10-09 14:00:22,141]\u001b[0m Trial 24 finished with value: 97.00486271720187 and parameters: {'num_layers': 16, 'num_nodes': 16, 'lr': 0.0005048696614301742}. Best is trial 21 with value: 91.9523.\u001b[0m\n",
      "loading from C:\\Users\\ryanc\\Desktop\\Student Files\\VIP\\Alex-Repo\\bdqm-hyperparam-tuning\\data\\oc20_3k_train.lmdb:   0%| |"
     ]
    },
    {
     "name": "stdout",
     "output_type": "stream",
     "text": [
      "Training completed in 207.71581315994263s\n",
      "Results saved to ./checkpoints\\2022-10-09-14-00-22-fda4ffb1-23a8-4455-8222-098dc5042878\n"
     ]
    },
    {
     "name": "stderr",
     "output_type": "stream",
     "text": [
      "loading from C:\\Users\\ryanc\\Desktop\\Student Files\\VIP\\Alex-Repo\\bdqm-hyperparam-tuning\\data\\oc20_3k_train.lmdb: 100%|█|\n"
     ]
    },
    {
     "name": "stdout",
     "output_type": "stream",
     "text": [
      "Loading dataset: 3000 images\n",
      "Use Xavier initialization\n",
      "Loading model: 1345 parameters\n",
      "Loading skorch trainer\n"
     ]
    },
    {
     "name": "stderr",
     "output_type": "stream",
     "text": [
      "\u001b[32m[I 2022-10-09 14:02:43,976]\u001b[0m Trial 25 finished with value: 102.8138380425732 and parameters: {'num_layers': 7, 'num_nodes': 12, 'lr': 0.0008812191973250616}. Best is trial 21 with value: 91.9523.\u001b[0m\n",
      "loading from C:\\Users\\ryanc\\Desktop\\Student Files\\VIP\\Alex-Repo\\bdqm-hyperparam-tuning\\data\\oc20_3k_train.lmdb:  12%| |"
     ]
    },
    {
     "name": "stdout",
     "output_type": "stream",
     "text": [
      "Training completed in 140.97496032714844s\n",
      "Results saved to ./checkpoints\\2022-10-09-14-02-44-3ce4229f-a3c6-4bd2-ae80-51fcd5000906\n"
     ]
    },
    {
     "name": "stderr",
     "output_type": "stream",
     "text": [
      "loading from C:\\Users\\ryanc\\Desktop\\Student Files\\VIP\\Alex-Repo\\bdqm-hyperparam-tuning\\data\\oc20_3k_train.lmdb: 100%|█|\n"
     ]
    },
    {
     "name": "stdout",
     "output_type": "stream",
     "text": [
      "Loading dataset: 3000 images\n",
      "Use Xavier initialization\n",
      "Loading model: 3949 parameters\n",
      "Loading skorch trainer\n"
     ]
    },
    {
     "name": "stderr",
     "output_type": "stream",
     "text": [
      "\u001b[32m[I 2022-10-09 14:05:47,718]\u001b[0m Trial 26 finished with value: 105.46121042987576 and parameters: {'num_layers': 8, 'num_nodes': 21, 'lr': 0.00036683672846586505}. Best is trial 21 with value: 91.9523.\u001b[0m\n",
      "loading from C:\\Users\\ryanc\\Desktop\\Student Files\\VIP\\Alex-Repo\\bdqm-hyperparam-tuning\\data\\oc20_3k_train.lmdb:   0%| |"
     ]
    },
    {
     "name": "stdout",
     "output_type": "stream",
     "text": [
      "Training completed in 182.78852248191833s\n",
      "Results saved to ./checkpoints\\2022-10-09-14-05-47-69ef48f2-c6ae-41b6-8a1b-3dce5f7d649d\n"
     ]
    },
    {
     "name": "stderr",
     "output_type": "stream",
     "text": [
      "loading from C:\\Users\\ryanc\\Desktop\\Student Files\\VIP\\Alex-Repo\\bdqm-hyperparam-tuning\\data\\oc20_3k_train.lmdb: 100%|█|\n"
     ]
    },
    {
     "name": "stdout",
     "output_type": "stream",
     "text": [
      "Loading dataset: 3000 images\n",
      "Use Xavier initialization\n",
      "Loading model: 8569 parameters\n",
      "Loading skorch trainer\n"
     ]
    },
    {
     "name": "stderr",
     "output_type": "stream",
     "text": [
      "\u001b[32m[I 2022-10-09 14:11:17,783]\u001b[0m Trial 27 finished with value: 123.83620821096228 and parameters: {'num_layers': 18, 'num_nodes': 21, 'lr': 2.2966973769950715e-05}. Best is trial 21 with value: 91.9523.\u001b[0m\n",
      "loading from C:\\Users\\ryanc\\Desktop\\Student Files\\VIP\\Alex-Repo\\bdqm-hyperparam-tuning\\data\\oc20_3k_train.lmdb:   0%| |"
     ]
    },
    {
     "name": "stdout",
     "output_type": "stream",
     "text": [
      "Training completed in 329.10422539711s\n",
      "Results saved to ./checkpoints\\2022-10-09-14-11-17-8deabc11-17c4-4a0f-9545-f5a08734657b\n"
     ]
    },
    {
     "name": "stderr",
     "output_type": "stream",
     "text": [
      "loading from C:\\Users\\ryanc\\Desktop\\Student Files\\VIP\\Alex-Repo\\bdqm-hyperparam-tuning\\data\\oc20_3k_train.lmdb: 100%|█|\n"
     ]
    },
    {
     "name": "stdout",
     "output_type": "stream",
     "text": [
      "Loading dataset: 3000 images\n",
      "Use Xavier initialization\n",
      "Loading model: 9687 parameters\n",
      "Loading skorch trainer\n"
     ]
    },
    {
     "name": "stderr",
     "output_type": "stream",
     "text": [
      "\u001b[32m[I 2022-10-09 14:15:54,584]\u001b[0m Trial 28 finished with value: 98.99187603447217 and parameters: {'num_layers': 11, 'num_nodes': 29, 'lr': 0.00018724634108806956}. Best is trial 21 with value: 91.9523.\u001b[0m\n",
      "loading from C:\\Users\\ryanc\\Desktop\\Student Files\\VIP\\Alex-Repo\\bdqm-hyperparam-tuning\\data\\oc20_3k_train.lmdb:   0%| |"
     ]
    },
    {
     "name": "stdout",
     "output_type": "stream",
     "text": [
      "Training completed in 275.6146514415741s\n",
      "Results saved to ./checkpoints\\2022-10-09-14-15-54-1701cfce-6638-42ed-a35b-6ec36f9dcf1b\n"
     ]
    },
    {
     "name": "stderr",
     "output_type": "stream",
     "text": [
      "loading from C:\\Users\\ryanc\\Desktop\\Student Files\\VIP\\Alex-Repo\\bdqm-hyperparam-tuning\\data\\oc20_3k_train.lmdb: 100%|█|\n"
     ]
    },
    {
     "name": "stdout",
     "output_type": "stream",
     "text": [
      "Loading dataset: 3000 images\n",
      "Use Xavier initialization\n",
      "Loading model: 2321 parameters\n",
      "Loading skorch trainer\n"
     ]
    },
    {
     "name": "stderr",
     "output_type": "stream",
     "text": [
      "\u001b[32m[I 2022-10-09 14:19:19,778]\u001b[0m Trial 29 finished with value: 104.41821800155427 and parameters: {'num_layers': 19, 'num_nodes': 10, 'lr': 0.013591056054738393}. Best is trial 21 with value: 91.9523.\u001b[0m\n",
      "loading from C:\\Users\\ryanc\\Desktop\\Student Files\\VIP\\Alex-Repo\\bdqm-hyperparam-tuning\\data\\oc20_3k_train.lmdb:   0%| |"
     ]
    },
    {
     "name": "stdout",
     "output_type": "stream",
     "text": [
      "Training completed in 204.2764766216278s\n",
      "Results saved to ./checkpoints\\2022-10-09-14-19-19-016963e8-566e-4025-8b9c-ff3ec2d40266\n"
     ]
    },
    {
     "name": "stderr",
     "output_type": "stream",
     "text": [
      "loading from C:\\Users\\ryanc\\Desktop\\Student Files\\VIP\\Alex-Repo\\bdqm-hyperparam-tuning\\data\\oc20_3k_train.lmdb: 100%|█|\n"
     ]
    },
    {
     "name": "stdout",
     "output_type": "stream",
     "text": [
      "Loading dataset: 3000 images\n",
      "Use Xavier initialization\n",
      "Loading model: 9857 parameters\n",
      "Loading skorch trainer\n"
     ]
    },
    {
     "name": "stderr",
     "output_type": "stream",
     "text": [
      "\u001b[32m[I 2022-10-09 14:25:01,147]\u001b[0m Trial 30 finished with value: 3007.588204803442 and parameters: {'num_layers': 19, 'num_nodes': 22, 'lr': 0.06800573564828574}. Best is trial 21 with value: 91.9523.\u001b[0m\n"
     ]
    },
    {
     "name": "stdout",
     "output_type": "stream",
     "text": [
      "Training completed in 340.3467879295349s\n"
     ]
    },
    {
     "name": "stderr",
     "output_type": "stream",
     "text": [
      "loading from C:\\Users\\ryanc\\Desktop\\Student Files\\VIP\\Alex-Repo\\bdqm-hyperparam-tuning\\data\\oc20_3k_train.lmdb:   6%| |"
     ]
    },
    {
     "name": "stdout",
     "output_type": "stream",
     "text": [
      "Results saved to ./checkpoints\\2022-10-09-14-25-01-e06655c3-9805-47d9-b75c-dab419b6e340\n"
     ]
    },
    {
     "name": "stderr",
     "output_type": "stream",
     "text": [
      "loading from C:\\Users\\ryanc\\Desktop\\Student Files\\VIP\\Alex-Repo\\bdqm-hyperparam-tuning\\data\\oc20_3k_train.lmdb: 100%|█|\n"
     ]
    },
    {
     "name": "stdout",
     "output_type": "stream",
     "text": [
      "Loading dataset: 3000 images\n",
      "Use Xavier initialization\n",
      "Loading model: 2445 parameters\n",
      "Loading skorch trainer\n"
     ]
    },
    {
     "name": "stderr",
     "output_type": "stream",
     "text": [
      "\u001b[32m[I 2022-10-09 14:28:01,628]\u001b[0m Trial 31 finished with value: 121.40880560919759 and parameters: {'num_layers': 12, 'num_nodes': 13, 'lr': 4.3514223063261666e-05}. Best is trial 21 with value: 91.9523.\u001b[0m\n",
      "loading from C:\\Users\\ryanc\\Desktop\\Student Files\\VIP\\Alex-Repo\\bdqm-hyperparam-tuning\\data\\oc20_3k_train.lmdb:   0%| |"
     ]
    },
    {
     "name": "stdout",
     "output_type": "stream",
     "text": [
      "Training completed in 179.16465091705322s\n",
      "Results saved to ./checkpoints\\2022-10-09-14-28-01-5f0dcf33-43c8-4b57-8aa6-d328595fe5cf\n"
     ]
    },
    {
     "name": "stderr",
     "output_type": "stream",
     "text": [
      "loading from C:\\Users\\ryanc\\Desktop\\Student Files\\VIP\\Alex-Repo\\bdqm-hyperparam-tuning\\data\\oc20_3k_train.lmdb: 100%|█|\n"
     ]
    },
    {
     "name": "stdout",
     "output_type": "stream",
     "text": [
      "Loading dataset: 3000 images\n",
      "Use Xavier initialization\n",
      "Loading model: 4897 parameters\n",
      "Loading skorch trainer\n"
     ]
    },
    {
     "name": "stderr",
     "output_type": "stream",
     "text": [
      "\u001b[32m[I 2022-10-09 14:32:04,177]\u001b[0m Trial 32 finished with value: 119.81255931392789 and parameters: {'num_layers': 17, 'num_nodes': 16, 'lr': 2.5279577220496945e-05}. Best is trial 21 with value: 91.9523.\u001b[0m\n",
      "loading from C:\\Users\\ryanc\\Desktop\\Student Files\\VIP\\Alex-Repo\\bdqm-hyperparam-tuning\\data\\oc20_3k_train.lmdb:   0%| |"
     ]
    },
    {
     "name": "stdout",
     "output_type": "stream",
     "text": [
      "Training completed in 241.6222083568573s\n",
      "Results saved to ./checkpoints\\2022-10-09-14-32-04-18878e3e-61f7-45a0-8234-110556d21c43\n"
     ]
    },
    {
     "name": "stderr",
     "output_type": "stream",
     "text": [
      "loading from C:\\Users\\ryanc\\Desktop\\Student Files\\VIP\\Alex-Repo\\bdqm-hyperparam-tuning\\data\\oc20_3k_train.lmdb: 100%|█|\n"
     ]
    },
    {
     "name": "stdout",
     "output_type": "stream",
     "text": [
      "Loading dataset: 3000 images\n",
      "Use Xavier initialization\n",
      "Loading model: 1035 parameters\n",
      "Loading skorch trainer\n"
     ]
    },
    {
     "name": "stderr",
     "output_type": "stream",
     "text": [
      "\u001b[32m[I 2022-10-09 14:34:11,176]\u001b[0m Trial 33 finished with value: 165.13862673054925 and parameters: {'num_layers': 6, 'num_nodes': 11, 'lr': 0.030881082211880705}. Best is trial 21 with value: 91.9523.\u001b[0m\n",
      "loading from C:\\Users\\ryanc\\Desktop\\Student Files\\VIP\\Alex-Repo\\bdqm-hyperparam-tuning\\data\\oc20_3k_train.lmdb:   0%| |"
     ]
    },
    {
     "name": "stdout",
     "output_type": "stream",
     "text": [
      "Training completed in 126.06052207946777s\n",
      "Results saved to ./checkpoints\\2022-10-09-14-34-11-4e55c47a-5e40-441f-902c-fafcf9a7e014\n"
     ]
    },
    {
     "name": "stderr",
     "output_type": "stream",
     "text": [
      "loading from C:\\Users\\ryanc\\Desktop\\Student Files\\VIP\\Alex-Repo\\bdqm-hyperparam-tuning\\data\\oc20_3k_train.lmdb: 100%|█|\n"
     ]
    },
    {
     "name": "stdout",
     "output_type": "stream",
     "text": [
      "Loading dataset: 3000 images\n",
      "Use Xavier initialization\n",
      "Loading model: 10417 parameters\n",
      "Loading skorch trainer\n"
     ]
    },
    {
     "name": "stderr",
     "output_type": "stream",
     "text": [
      "\u001b[32m[I 2022-10-09 14:39:04,550]\u001b[0m Trial 34 finished with value: 96.21713723923244 and parameters: {'num_layers': 17, 'num_nodes': 24, 'lr': 0.0007661517040895625}. Best is trial 21 with value: 91.9523.\u001b[0m\n",
      "loading from C:\\Users\\ryanc\\Desktop\\Student Files\\VIP\\Alex-Repo\\bdqm-hyperparam-tuning\\data\\oc20_3k_train.lmdb:   0%| |"
     ]
    },
    {
     "name": "stdout",
     "output_type": "stream",
     "text": [
      "Training completed in 292.5510530471802s\n",
      "Results saved to ./checkpoints\\2022-10-09-14-39-04-5b43c8e6-bba7-497d-a30c-63fc032397da\n"
     ]
    },
    {
     "name": "stderr",
     "output_type": "stream",
     "text": [
      "loading from C:\\Users\\ryanc\\Desktop\\Student Files\\VIP\\Alex-Repo\\bdqm-hyperparam-tuning\\data\\oc20_3k_train.lmdb: 100%|█|\n"
     ]
    },
    {
     "name": "stdout",
     "output_type": "stream",
     "text": [
      "Loading dataset: 3000 images\n",
      "Use Xavier initialization\n",
      "Loading model: 9951 parameters\n",
      "Loading skorch trainer\n"
     ]
    },
    {
     "name": "stderr",
     "output_type": "stream",
     "text": [
      "\u001b[32m[I 2022-10-09 14:44:30,219]\u001b[0m Trial 35 finished with value: 830.2247565904848 and parameters: {'num_layers': 15, 'num_nodes': 25, 'lr': 0.01851115177718162}. Best is trial 21 with value: 91.9523.\u001b[0m\n",
      "loading from C:\\Users\\ryanc\\Desktop\\Student Files\\VIP\\Alex-Repo\\bdqm-hyperparam-tuning\\data\\oc20_3k_train.lmdb:   0%| |"
     ]
    },
    {
     "name": "stdout",
     "output_type": "stream",
     "text": [
      "Training completed in 324.5920045375824s\n",
      "Results saved to ./checkpoints\\2022-10-09-14-44-30-6a2ea285-e8e8-4d22-98e0-dbbeccaa582c\n"
     ]
    },
    {
     "name": "stderr",
     "output_type": "stream",
     "text": [
      "loading from C:\\Users\\ryanc\\Desktop\\Student Files\\VIP\\Alex-Repo\\bdqm-hyperparam-tuning\\data\\oc20_3k_train.lmdb: 100%|█|\n"
     ]
    },
    {
     "name": "stdout",
     "output_type": "stream",
     "text": [
      "Loading dataset: 3000 images\n",
      "Use Xavier initialization\n",
      "Loading model: 1527 parameters\n",
      "Loading skorch trainer\n"
     ]
    },
    {
     "name": "stderr",
     "output_type": "stream",
     "text": [
      "\u001b[32m[I 2022-10-09 14:46:56,446]\u001b[0m Trial 36 finished with value: 148.32157492770432 and parameters: {'num_layers': 6, 'num_nodes': 14, 'lr': 0.030415224862114284}. Best is trial 21 with value: 91.9523.\u001b[0m\n",
      "loading from C:\\Users\\ryanc\\Desktop\\Student Files\\VIP\\Alex-Repo\\bdqm-hyperparam-tuning\\data\\oc20_3k_train.lmdb:   0%| |"
     ]
    },
    {
     "name": "stdout",
     "output_type": "stream",
     "text": [
      "Training completed in 145.2433123588562s\n",
      "Results saved to ./checkpoints\\2022-10-09-14-46-56-b3902201-3279-4195-ab5c-0d2e4b84babd\n"
     ]
    },
    {
     "name": "stderr",
     "output_type": "stream",
     "text": [
      "loading from C:\\Users\\ryanc\\Desktop\\Student Files\\VIP\\Alex-Repo\\bdqm-hyperparam-tuning\\data\\oc20_3k_train.lmdb: 100%|█|\n"
     ]
    },
    {
     "name": "stdout",
     "output_type": "stream",
     "text": [
      "Loading dataset: 3000 images\n",
      "Use Xavier initialization\n",
      "Loading model: 1881 parameters\n",
      "Loading skorch trainer\n"
     ]
    },
    {
     "name": "stderr",
     "output_type": "stream",
     "text": [
      "\u001b[32m[I 2022-10-09 14:50:29,537]\u001b[0m Trial 37 finished with value: 128.55524597170285 and parameters: {'num_layers': 15, 'num_nodes': 10, 'lr': 1.3423146493563907e-05}. Best is trial 21 with value: 91.9523.\u001b[0m\n",
      "loading from C:\\Users\\ryanc\\Desktop\\Student Files\\VIP\\Alex-Repo\\bdqm-hyperparam-tuning\\data\\oc20_3k_train.lmdb:   0%| |"
     ]
    },
    {
     "name": "stdout",
     "output_type": "stream",
     "text": [
      "Training completed in 212.0712616443634s\n",
      "Results saved to ./checkpoints\\2022-10-09-14-50-29-dabf6bf4-0c56-478c-9089-260fd9c96f36\n"
     ]
    },
    {
     "name": "stderr",
     "output_type": "stream",
     "text": [
      "loading from C:\\Users\\ryanc\\Desktop\\Student Files\\VIP\\Alex-Repo\\bdqm-hyperparam-tuning\\data\\oc20_3k_train.lmdb: 100%|█|\n"
     ]
    },
    {
     "name": "stdout",
     "output_type": "stream",
     "text": [
      "Loading dataset: 3000 images\n",
      "Use Xavier initialization\n",
      "Loading model: 7947 parameters\n",
      "Loading skorch trainer\n"
     ]
    },
    {
     "name": "stderr",
     "output_type": "stream",
     "text": [
      "\u001b[32m[I 2022-10-09 14:54:29,424]\u001b[0m Trial 38 finished with value: 94.97019773836017 and parameters: {'num_layers': 9, 'num_nodes': 29, 'lr': 0.0009454049931836823}. Best is trial 21 with value: 91.9523.\u001b[0m\n",
      "loading from C:\\Users\\ryanc\\Desktop\\Student Files\\VIP\\Alex-Repo\\bdqm-hyperparam-tuning\\data\\oc20_3k_train.lmdb:   0%| |"
     ]
    },
    {
     "name": "stdout",
     "output_type": "stream",
     "text": [
      "Training completed in 239.00124096870422s\n",
      "Results saved to ./checkpoints\\2022-10-09-14-54-29-2a2c19d8-c4d0-4cff-b079-f42e39a6fe2f\n"
     ]
    },
    {
     "name": "stderr",
     "output_type": "stream",
     "text": [
      "loading from C:\\Users\\ryanc\\Desktop\\Student Files\\VIP\\Alex-Repo\\bdqm-hyperparam-tuning\\data\\oc20_3k_train.lmdb: 100%|█|\n"
     ]
    },
    {
     "name": "stdout",
     "output_type": "stream",
     "text": [
      "Loading dataset: 3000 images\n",
      "Use Xavier initialization\n",
      "Loading model: 2665 parameters\n",
      "Loading skorch trainer\n"
     ]
    },
    {
     "name": "stderr",
     "output_type": "stream",
     "text": [
      "\u001b[32m[I 2022-10-09 14:57:37,537]\u001b[0m Trial 39 finished with value: 97.4478654312531 and parameters: {'num_layers': 7, 'num_nodes': 18, 'lr': 0.0005919712004920867}. Best is trial 21 with value: 91.9523.\u001b[0m\n",
      "\u001b[32m[I 2022-10-09 14:57:37,620]\u001b[0m Using an existing study with name 'random-oc20-3k' instead of creating a new one.\u001b[0m\n"
     ]
    },
    {
     "name": "stdout",
     "output_type": "stream",
     "text": [
      "Training completed in 187.0926055908203s\n",
      "Running hyperparam tuning with:\n",
      " - study_name: random-oc20-3k\n",
      " - dataset: ../data/oc20_3k_train.lmdb\n",
      " - n_trials: 20\n",
      " - sampler: Random\n",
      " - pruner: None\n",
      " - num epochs: 500\n",
      " - params:\n",
      "   - dropout_rate: 0.0\n",
      "   - gamma: 1.0\n",
      "RandomSampler\n",
      "<optuna.pruners._nop.NopPruner object at 0x000002BDB4160580>\n"
     ]
    },
    {
     "name": "stderr",
     "output_type": "stream",
     "text": [
      "loading from C:\\Users\\ryanc\\Desktop\\Student Files\\VIP\\Alex-Repo\\bdqm-hyperparam-tuning\\data\\oc20_3k_train.lmdb:  14%|▏|"
     ]
    },
    {
     "name": "stdout",
     "output_type": "stream",
     "text": [
      "Results saved to ./checkpoints\\2022-10-09-14-57-37-09b5c2ff-13a1-4bdd-b59a-52c6cf4ea09a\n"
     ]
    },
    {
     "name": "stderr",
     "output_type": "stream",
     "text": [
      "loading from C:\\Users\\ryanc\\Desktop\\Student Files\\VIP\\Alex-Repo\\bdqm-hyperparam-tuning\\data\\oc20_3k_train.lmdb: 100%|█|\n"
     ]
    },
    {
     "name": "stdout",
     "output_type": "stream",
     "text": [
      "Loading dataset: 3000 images\n",
      "Use Xavier initialization\n",
      "Loading model: 3391 parameters\n",
      "Loading skorch trainer\n",
      "Training completed in 240.40015625953674s\n"
     ]
    },
    {
     "name": "stderr",
     "output_type": "stream",
     "text": [
      "\u001b[32m[I 2022-10-09 15:01:39,234]\u001b[0m Trial 40 finished with value: 94.87936888077216 and parameters: {'num_layers': 13, 'num_nodes': 15, 'lr': 0.0022136453032913393}. Best is trial 21 with value: 91.9523.\u001b[0m\n",
      "loading from C:\\Users\\ryanc\\Desktop\\Student Files\\VIP\\Alex-Repo\\bdqm-hyperparam-tuning\\data\\oc20_3k_train.lmdb:   3%| |"
     ]
    },
    {
     "name": "stdout",
     "output_type": "stream",
     "text": [
      "Results saved to ./checkpoints\\2022-10-09-15-01-39-a9cb15b7-29ed-4618-8804-58ddb84e9e16\n"
     ]
    },
    {
     "name": "stderr",
     "output_type": "stream",
     "text": [
      "loading from C:\\Users\\ryanc\\Desktop\\Student Files\\VIP\\Alex-Repo\\bdqm-hyperparam-tuning\\data\\oc20_3k_train.lmdb: 100%|█|\n"
     ]
    },
    {
     "name": "stdout",
     "output_type": "stream",
     "text": [
      "Loading dataset: 3000 images\n",
      "Use Xavier initialization\n",
      "Loading model: 13133 parameters\n",
      "Loading skorch trainer\n"
     ]
    },
    {
     "name": "stderr",
     "output_type": "stream",
     "text": [
      "\u001b[32m[I 2022-10-09 15:09:15,658]\u001b[0m Trial 41 finished with value: 107.90637164351196 and parameters: {'num_layers': 16, 'num_nodes': 28, 'lr': 3.110157640648465e-05}. Best is trial 21 with value: 91.9523.\u001b[0m\n",
      "loading from C:\\Users\\ryanc\\Desktop\\Student Files\\VIP\\Alex-Repo\\bdqm-hyperparam-tuning\\data\\oc20_3k_train.lmdb:   0%| |"
     ]
    },
    {
     "name": "stdout",
     "output_type": "stream",
     "text": [
      "Training completed in 454.2543714046478s\n",
      "Results saved to ./checkpoints\\2022-10-09-15-09-15-c76bd727-16e3-4f96-960c-8dc454d3bf8b\n"
     ]
    },
    {
     "name": "stderr",
     "output_type": "stream",
     "text": [
      "loading from C:\\Users\\ryanc\\Desktop\\Student Files\\VIP\\Alex-Repo\\bdqm-hyperparam-tuning\\data\\oc20_3k_train.lmdb: 100%|█|\n"
     ]
    },
    {
     "name": "stdout",
     "output_type": "stream",
     "text": [
      "Loading dataset: 3000 images\n",
      "Use Xavier initialization\n",
      "Loading model: 7905 parameters\n",
      "Loading skorch trainer\n"
     ]
    },
    {
     "name": "stderr",
     "output_type": "stream",
     "text": [
      "\u001b[32m[I 2022-10-09 15:14:32,699]\u001b[0m Trial 42 finished with value: 111.48811133036659 and parameters: {'num_layers': 11, 'num_nodes': 26, 'lr': 5.8657055907848986e-05}. Best is trial 21 with value: 91.9523.\u001b[0m\n",
      "loading from C:\\Users\\ryanc\\Desktop\\Student Files\\VIP\\Alex-Repo\\bdqm-hyperparam-tuning\\data\\oc20_3k_train.lmdb:   0%| |"
     ]
    },
    {
     "name": "stdout",
     "output_type": "stream",
     "text": [
      "Training completed in 315.57536792755127s\n",
      "Results saved to ./checkpoints\\2022-10-09-15-14-32-67956539-16df-4e7a-920e-1c169288e564\n"
     ]
    },
    {
     "name": "stderr",
     "output_type": "stream",
     "text": [
      "loading from C:\\Users\\ryanc\\Desktop\\Student Files\\VIP\\Alex-Repo\\bdqm-hyperparam-tuning\\data\\oc20_3k_train.lmdb: 100%|█|\n"
     ]
    },
    {
     "name": "stdout",
     "output_type": "stream",
     "text": [
      "Loading dataset: 3000 images\n",
      "Use Xavier initialization\n",
      "Loading model: 1717 parameters\n",
      "Loading skorch trainer\n"
     ]
    },
    {
     "name": "stderr",
     "output_type": "stream",
     "text": [
      "\u001b[32m[I 2022-10-09 15:17:33,283]\u001b[0m Trial 43 finished with value: 96.72842302417898 and parameters: {'num_layers': 8, 'num_nodes': 13, 'lr': 0.019972710377282644}. Best is trial 21 with value: 91.9523.\u001b[0m\n",
      "loading from C:\\Users\\ryanc\\Desktop\\Student Files\\VIP\\Alex-Repo\\bdqm-hyperparam-tuning\\data\\oc20_3k_train.lmdb:   0%| |"
     ]
    },
    {
     "name": "stdout",
     "output_type": "stream",
     "text": [
      "Training completed in 179.55924129486084s\n",
      "Results saved to ./checkpoints\\2022-10-09-15-17-33-8ed0462b-991b-4e4f-9079-bcfe008ea100\n"
     ]
    },
    {
     "name": "stderr",
     "output_type": "stream",
     "text": [
      "loading from C:\\Users\\ryanc\\Desktop\\Student Files\\VIP\\Alex-Repo\\bdqm-hyperparam-tuning\\data\\oc20_3k_train.lmdb: 100%|█|\n"
     ]
    },
    {
     "name": "stdout",
     "output_type": "stream",
     "text": [
      "Loading dataset: 3000 images\n",
      "Use Xavier initialization\n",
      "Loading model: 5475 parameters\n",
      "Loading skorch trainer\n"
     ]
    },
    {
     "name": "stderr",
     "output_type": "stream",
     "text": [
      "\u001b[32m[I 2022-10-09 15:23:37,254]\u001b[0m Trial 44 finished with value: 134.94193642410806 and parameters: {'num_layers': 17, 'num_nodes': 17, 'lr': 0.011731063085354926}. Best is trial 21 with value: 91.9523.\u001b[0m\n",
      "loading from C:\\Users\\ryanc\\Desktop\\Student Files\\VIP\\Alex-Repo\\bdqm-hyperparam-tuning\\data\\oc20_3k_train.lmdb:   0%| |"
     ]
    },
    {
     "name": "stdout",
     "output_type": "stream",
     "text": [
      "Training completed in 362.82603001594543s\n",
      "Results saved to ./checkpoints\\2022-10-09-15-23-37-c86e74d4-d3df-407f-b016-cf0d9c6b5d5b\n"
     ]
    },
    {
     "name": "stderr",
     "output_type": "stream",
     "text": [
      "loading from C:\\Users\\ryanc\\Desktop\\Student Files\\VIP\\Alex-Repo\\bdqm-hyperparam-tuning\\data\\oc20_3k_train.lmdb: 100%|█|\n"
     ]
    },
    {
     "name": "stdout",
     "output_type": "stream",
     "text": [
      "Loading dataset: 3000 images\n",
      "Use Xavier initialization\n",
      "Loading model: 6087 parameters\n",
      "Loading skorch trainer\n"
     ]
    },
    {
     "name": "stderr",
     "output_type": "stream",
     "text": [
      "\u001b[32m[I 2022-10-09 15:30:09,937]\u001b[0m Trial 45 finished with value: 98.63761901777956 and parameters: {'num_layers': 19, 'num_nodes': 17, 'lr': 0.0018671243938324009}. Best is trial 21 with value: 91.9523.\u001b[0m\n"
     ]
    },
    {
     "name": "stdout",
     "output_type": "stream",
     "text": [
      "Training completed in 391.47241735458374s\n",
      "Results saved to ./checkpoints\\2022-10-09-15-30-10-2f6f5579-bfee-4d45-a27d-efbde12d8d3a\n"
     ]
    },
    {
     "name": "stderr",
     "output_type": "stream",
     "text": [
      "loading from C:\\Users\\ryanc\\Desktop\\Student Files\\VIP\\Alex-Repo\\bdqm-hyperparam-tuning\\data\\oc20_3k_train.lmdb: 100%|█|\n"
     ]
    },
    {
     "name": "stdout",
     "output_type": "stream",
     "text": [
      "Loading dataset: 3000 images\n",
      "Use Xavier initialization\n",
      "Loading model: 13167 parameters\n",
      "Loading skorch trainer\n"
     ]
    },
    {
     "name": "stderr",
     "output_type": "stream",
     "text": [
      "\u001b[32m[I 2022-10-09 15:36:40,786]\u001b[0m Trial 46 finished with value: 119.2812663290782 and parameters: {'num_layers': 15, 'num_nodes': 29, 'lr': 1.5386974399770575e-05}. Best is trial 21 with value: 91.9523.\u001b[0m\n",
      "loading from C:\\Users\\ryanc\\Desktop\\Student Files\\VIP\\Alex-Repo\\bdqm-hyperparam-tuning\\data\\oc20_3k_train.lmdb:   0%| |"
     ]
    },
    {
     "name": "stdout",
     "output_type": "stream",
     "text": [
      "Training completed in 389.3254961967468s\n",
      "Results saved to ./checkpoints\\2022-10-09-15-36-40-f2ea6218-460b-4cd7-9f7f-537e874590ee\n"
     ]
    },
    {
     "name": "stderr",
     "output_type": "stream",
     "text": [
      "loading from C:\\Users\\ryanc\\Desktop\\Student Files\\VIP\\Alex-Repo\\bdqm-hyperparam-tuning\\data\\oc20_3k_train.lmdb: 100%|█|\n"
     ]
    },
    {
     "name": "stdout",
     "output_type": "stream",
     "text": [
      "Loading dataset: 3000 images\n",
      "Use Xavier initialization\n",
      "Loading model: 3201 parameters\n",
      "Loading skorch trainer\n"
     ]
    },
    {
     "name": "stderr",
     "output_type": "stream",
     "text": [
      "\u001b[32m[I 2022-10-09 15:40:38,404]\u001b[0m Trial 47 finished with value: 117.9448135662399 and parameters: {'num_layers': 7, 'num_nodes': 20, 'lr': 7.752087505212858e-05}. Best is trial 21 with value: 91.9523.\u001b[0m\n",
      "loading from C:\\Users\\ryanc\\Desktop\\Student Files\\VIP\\Alex-Repo\\bdqm-hyperparam-tuning\\data\\oc20_3k_train.lmdb:   0%| |"
     ]
    },
    {
     "name": "stdout",
     "output_type": "stream",
     "text": [
      "Training completed in 236.27683806419373s\n",
      "Results saved to ./checkpoints\\2022-10-09-15-40-38-ef8ff18a-b0b1-48aa-b375-cf83b4462fe3\n"
     ]
    },
    {
     "name": "stderr",
     "output_type": "stream",
     "text": [
      "loading from C:\\Users\\ryanc\\Desktop\\Student Files\\VIP\\Alex-Repo\\bdqm-hyperparam-tuning\\data\\oc20_3k_train.lmdb: 100%|█|\n"
     ]
    },
    {
     "name": "stdout",
     "output_type": "stream",
     "text": [
      "Loading dataset: 3000 images\n",
      "Use Xavier initialization\n",
      "Loading model: 1661 parameters\n",
      "Loading skorch trainer\n"
     ]
    },
    {
     "name": "stderr",
     "output_type": "stream",
     "text": [
      "\u001b[32m[I 2022-10-09 15:45:40,524]\u001b[0m Trial 48 finished with value: 106.92896444304087 and parameters: {'num_layers': 13, 'num_nodes': 10, 'lr': 0.00029434813477279166}. Best is trial 21 with value: 91.9523.\u001b[0m\n"
     ]
    },
    {
     "name": "stdout",
     "output_type": "stream",
     "text": [
      "Training completed in 300.8835277557373s\n",
      "Results saved to ./checkpoints\\2022-10-09-15-45-40-5a43835b-4558-4d28-ab2f-2a4b7e1aea48\n"
     ]
    },
    {
     "name": "stderr",
     "output_type": "stream",
     "text": [
      "loading from C:\\Users\\ryanc\\Desktop\\Student Files\\VIP\\Alex-Repo\\bdqm-hyperparam-tuning\\data\\oc20_3k_train.lmdb: 100%|█|\n"
     ]
    },
    {
     "name": "stdout",
     "output_type": "stream",
     "text": [
      "Loading dataset: 3000 images\n",
      "Use Xavier initialization\n",
      "Loading model: 1905 parameters\n",
      "Loading skorch trainer\n"
     ]
    },
    {
     "name": "stderr",
     "output_type": "stream",
     "text": [
      "\u001b[32m[I 2022-10-09 15:49:01,648]\u001b[0m Trial 49 finished with value: 101.25959029500228 and parameters: {'num_layers': 6, 'num_nodes': 16, 'lr': 0.0064649389106704765}. Best is trial 21 with value: 91.9523.\u001b[0m\n",
      "loading from C:\\Users\\ryanc\\Desktop\\Student Files\\VIP\\Alex-Repo\\bdqm-hyperparam-tuning\\data\\oc20_3k_train.lmdb:   0%| |"
     ]
    },
    {
     "name": "stdout",
     "output_type": "stream",
     "text": [
      "Training completed in 199.85700726509094s\n",
      "Results saved to ./checkpoints\\2022-10-09-15-49-01-5469aa56-8ce4-4a45-8621-98677f03d81a\n"
     ]
    },
    {
     "name": "stderr",
     "output_type": "stream",
     "text": [
      "loading from C:\\Users\\ryanc\\Desktop\\Student Files\\VIP\\Alex-Repo\\bdqm-hyperparam-tuning\\data\\oc20_3k_train.lmdb: 100%|█|\n"
     ]
    },
    {
     "name": "stdout",
     "output_type": "stream",
     "text": [
      "Loading dataset: 3000 images\n",
      "Use Xavier initialization\n",
      "Loading model: 12551 parameters\n",
      "Loading skorch trainer\n"
     ]
    },
    {
     "name": "stderr",
     "output_type": "stream",
     "text": [
      "\u001b[32m[I 2022-10-09 15:56:48,249]\u001b[0m Trial 50 finished with value: 105.74257500129619 and parameters: {'num_layers': 19, 'num_nodes': 25, 'lr': 0.00010082855443113183}. Best is trial 21 with value: 91.9523.\u001b[0m\n",
      "loading from C:\\Users\\ryanc\\Desktop\\Student Files\\VIP\\Alex-Repo\\bdqm-hyperparam-tuning\\data\\oc20_3k_train.lmdb:   0%| |"
     ]
    },
    {
     "name": "stdout",
     "output_type": "stream",
     "text": [
      "Training completed in 465.0622088909149s\n",
      "Results saved to ./checkpoints\\2022-10-09-15-56-48-7c14103e-b09d-4196-973b-79ad56af1073\n"
     ]
    },
    {
     "name": "stderr",
     "output_type": "stream",
     "text": [
      "loading from C:\\Users\\ryanc\\Desktop\\Student Files\\VIP\\Alex-Repo\\bdqm-hyperparam-tuning\\data\\oc20_3k_train.lmdb: 100%|█|\n"
     ]
    },
    {
     "name": "stdout",
     "output_type": "stream",
     "text": [
      "Loading dataset: 3000 images\n",
      "Use Xavier initialization\n",
      "Loading model: 7449 parameters\n",
      "Loading skorch trainer\n"
     ]
    },
    {
     "name": "stderr",
     "output_type": "stream",
     "text": [
      "\u001b[32m[I 2022-10-09 16:01:32,290]\u001b[0m Trial 51 finished with value: 331.8714578892202 and parameters: {'num_layers': 9, 'num_nodes': 28, 'lr': 0.05605681097120262}. Best is trial 21 with value: 91.9523.\u001b[0m\n"
     ]
    },
    {
     "name": "stdout",
     "output_type": "stream",
     "text": [
      "Training completed in 282.7956519126892s\n"
     ]
    },
    {
     "name": "stderr",
     "output_type": "stream",
     "text": [
      "loading from C:\\Users\\ryanc\\Desktop\\Student Files\\VIP\\Alex-Repo\\bdqm-hyperparam-tuning\\data\\oc20_3k_train.lmdb:   6%| |"
     ]
    },
    {
     "name": "stdout",
     "output_type": "stream",
     "text": [
      "Results saved to ./checkpoints\\2022-10-09-16-01-32-3cc0c11f-2608-473a-b708-0435e054aade\n"
     ]
    },
    {
     "name": "stderr",
     "output_type": "stream",
     "text": [
      "loading from C:\\Users\\ryanc\\Desktop\\Student Files\\VIP\\Alex-Repo\\bdqm-hyperparam-tuning\\data\\oc20_3k_train.lmdb: 100%|█|\n"
     ]
    },
    {
     "name": "stdout",
     "output_type": "stream",
     "text": [
      "Loading dataset: 3000 images\n",
      "Use Xavier initialization\n",
      "Loading model: 5441 parameters\n",
      "Loading skorch trainer\n"
     ]
    },
    {
     "name": "stderr",
     "output_type": "stream",
     "text": [
      "\u001b[32m[I 2022-10-09 16:07:02,018]\u001b[0m Trial 52 finished with value: 95.24046621954666 and parameters: {'num_layers': 19, 'num_nodes': 16, 'lr': 0.0007822074151257276}. Best is trial 21 with value: 91.9523.\u001b[0m\n",
      "loading from C:\\Users\\ryanc\\Desktop\\Student Files\\VIP\\Alex-Repo\\bdqm-hyperparam-tuning\\data\\oc20_3k_train.lmdb:   0%| |"
     ]
    },
    {
     "name": "stdout",
     "output_type": "stream",
     "text": [
      "Training completed in 327.43869519233704s\n",
      "Results saved to ./checkpoints\\2022-10-09-16-07-02-7cac0ad2-4e8c-4b5c-9e7e-76dd64c602a1\n"
     ]
    },
    {
     "name": "stderr",
     "output_type": "stream",
     "text": [
      "loading from C:\\Users\\ryanc\\Desktop\\Student Files\\VIP\\Alex-Repo\\bdqm-hyperparam-tuning\\data\\oc20_3k_train.lmdb: 100%|█|\n"
     ]
    },
    {
     "name": "stdout",
     "output_type": "stream",
     "text": [
      "Loading dataset: 3000 images\n",
      "Use Xavier initialization\n",
      "Loading model: 1695 parameters\n",
      "Loading skorch trainer\n"
     ]
    },
    {
     "name": "stderr",
     "output_type": "stream",
     "text": [
      "\u001b[32m[I 2022-10-09 16:10:58,264]\u001b[0m Trial 53 finished with value: 103.05218810080801 and parameters: {'num_layers': 11, 'num_nodes': 11, 'lr': 0.0012521918201562278}. Best is trial 21 with value: 91.9523.\u001b[0m\n",
      "loading from C:\\Users\\ryanc\\Desktop\\Student Files\\VIP\\Alex-Repo\\bdqm-hyperparam-tuning\\data\\oc20_3k_train.lmdb:   0%| |"
     ]
    },
    {
     "name": "stdout",
     "output_type": "stream",
     "text": [
      "Training completed in 234.9204978942871s\n",
      "Results saved to ./checkpoints\\2022-10-09-16-10-58-e8302621-debd-4e99-8455-0af196f05d65\n"
     ]
    },
    {
     "name": "stderr",
     "output_type": "stream",
     "text": [
      "loading from C:\\Users\\ryanc\\Desktop\\Student Files\\VIP\\Alex-Repo\\bdqm-hyperparam-tuning\\data\\oc20_3k_train.lmdb: 100%|█|\n"
     ]
    },
    {
     "name": "stdout",
     "output_type": "stream",
     "text": [
      "Loading dataset: 3000 images\n",
      "Use Xavier initialization\n",
      "Loading model: 14907 parameters\n",
      "Loading skorch trainer\n"
     ]
    },
    {
     "name": "stderr",
     "output_type": "stream",
     "text": [
      "\u001b[32m[I 2022-10-09 16:17:45,268]\u001b[0m Trial 54 finished with value: 116.22701445442954 and parameters: {'num_layers': 17, 'num_nodes': 29, 'lr': 3.277779137496729e-05}. Best is trial 21 with value: 91.9523.\u001b[0m\n"
     ]
    },
    {
     "name": "stdout",
     "output_type": "stream",
     "text": [
      "Training completed in 405.86668586730957s\n",
      "Results saved to ./checkpoints\\2022-10-09-16-17-45-fc26de4c-3336-40fd-be62-28fe83dc0781\n"
     ]
    },
    {
     "name": "stderr",
     "output_type": "stream",
     "text": [
      "loading from C:\\Users\\ryanc\\Desktop\\Student Files\\VIP\\Alex-Repo\\bdqm-hyperparam-tuning\\data\\oc20_3k_train.lmdb: 100%|█|\n"
     ]
    },
    {
     "name": "stdout",
     "output_type": "stream",
     "text": [
      "Loading dataset: 3000 images\n",
      "Use Xavier initialization\n",
      "Loading model: 5337 parameters\n",
      "Loading skorch trainer\n"
     ]
    },
    {
     "name": "stderr",
     "output_type": "stream",
     "text": [
      "\u001b[32m[I 2022-10-09 16:21:47,253]\u001b[0m Trial 55 finished with value: 10540.343398955549 and parameters: {'num_layers': 6, 'num_nodes': 29, 'lr': 0.09294746773838453}. Best is trial 21 with value: 91.9523.\u001b[0m\n",
      "loading from C:\\Users\\ryanc\\Desktop\\Student Files\\VIP\\Alex-Repo\\bdqm-hyperparam-tuning\\data\\oc20_3k_train.lmdb:   0%| |"
     ]
    },
    {
     "name": "stdout",
     "output_type": "stream",
     "text": [
      "Training completed in 240.44613933563232s\n",
      "Results saved to ./checkpoints\\2022-10-09-16-21-47-c7891d06-aa41-4992-990a-8bda0111fbd8\n"
     ]
    },
    {
     "name": "stderr",
     "output_type": "stream",
     "text": [
      "loading from C:\\Users\\ryanc\\Desktop\\Student Files\\VIP\\Alex-Repo\\bdqm-hyperparam-tuning\\data\\oc20_3k_train.lmdb: 100%|█|\n"
     ]
    },
    {
     "name": "stdout",
     "output_type": "stream",
     "text": [
      "Loading dataset: 3000 images\n",
      "Use Xavier initialization\n",
      "Loading model: 2081 parameters\n",
      "Loading skorch trainer\n"
     ]
    },
    {
     "name": "stderr",
     "output_type": "stream",
     "text": [
      "\u001b[32m[I 2022-10-09 16:25:20,126]\u001b[0m Trial 56 finished with value: 106.00951222317354 and parameters: {'num_layers': 10, 'num_nodes': 13, 'lr': 0.011125429984897113}. Best is trial 21 with value: 91.9523.\u001b[0m\n",
      "loading from C:\\Users\\ryanc\\Desktop\\Student Files\\VIP\\Alex-Repo\\bdqm-hyperparam-tuning\\data\\oc20_3k_train.lmdb:   0%| |"
     ]
    },
    {
     "name": "stdout",
     "output_type": "stream",
     "text": [
      "Training completed in 211.56378054618835s\n",
      "Results saved to ./checkpoints\\2022-10-09-16-25-20-b5e514be-1e8b-4d1e-adb5-9d5f90248060\n"
     ]
    },
    {
     "name": "stderr",
     "output_type": "stream",
     "text": [
      "loading from C:\\Users\\ryanc\\Desktop\\Student Files\\VIP\\Alex-Repo\\bdqm-hyperparam-tuning\\data\\oc20_3k_train.lmdb: 100%|█|\n"
     ]
    },
    {
     "name": "stdout",
     "output_type": "stream",
     "text": [
      "Loading dataset: 3000 images\n",
      "Use Xavier initialization\n",
      "Loading model: 6561 parameters\n",
      "Loading skorch trainer\n"
     ]
    },
    {
     "name": "stderr",
     "output_type": "stream",
     "text": [
      "\u001b[32m[I 2022-10-09 16:30:48,435]\u001b[0m Trial 57 finished with value: 119.27277752459015 and parameters: {'num_layers': 15, 'num_nodes': 20, 'lr': 5.543621479499917e-05}. Best is trial 21 with value: 91.9523.\u001b[0m\n",
      "loading from C:\\Users\\ryanc\\Desktop\\Student Files\\VIP\\Alex-Repo\\bdqm-hyperparam-tuning\\data\\oc20_3k_train.lmdb:   0%| |"
     ]
    },
    {
     "name": "stdout",
     "output_type": "stream",
     "text": [
      "Training completed in 327.1689329147339s\n",
      "Results saved to ./checkpoints\\2022-10-09-16-30-48-6278fc02-d027-4596-a7cf-48f1eeae1a22\n"
     ]
    },
    {
     "name": "stderr",
     "output_type": "stream",
     "text": [
      "loading from C:\\Users\\ryanc\\Desktop\\Student Files\\VIP\\Alex-Repo\\bdqm-hyperparam-tuning\\data\\oc20_3k_train.lmdb: 100%|█|\n"
     ]
    },
    {
     "name": "stdout",
     "output_type": "stream",
     "text": [
      "Loading dataset: 3000 images\n",
      "Use Xavier initialization\n",
      "Loading model: 14037 parameters\n",
      "Loading skorch trainer\n"
     ]
    },
    {
     "name": "stderr",
     "output_type": "stream",
     "text": [
      "\u001b[32m[I 2022-10-09 16:39:20,141]\u001b[0m Trial 58 finished with value: 98.51457999052954 and parameters: {'num_layers': 16, 'num_nodes': 29, 'lr': 0.00015308336162077148}. Best is trial 21 with value: 91.9523.\u001b[0m\n"
     ]
    },
    {
     "name": "stdout",
     "output_type": "stream",
     "text": [
      "Training completed in 510.46534633636475s\n",
      "Results saved to ./checkpoints\\2022-10-09-16-39-20-ee341dd6-dc51-4d13-85ec-0fc300271a8e\n"
     ]
    },
    {
     "name": "stderr",
     "output_type": "stream",
     "text": [
      "loading from C:\\Users\\ryanc\\Desktop\\Student Files\\VIP\\Alex-Repo\\bdqm-hyperparam-tuning\\data\\oc20_3k_train.lmdb: 100%|█|\n"
     ]
    },
    {
     "name": "stdout",
     "output_type": "stream",
     "text": [
      "Loading dataset: 3000 images\n",
      "Use Xavier initialization\n",
      "Loading model: 8001 parameters\n",
      "Loading skorch trainer\n"
     ]
    },
    {
     "name": "stderr",
     "output_type": "stream",
     "text": [
      "\u001b[32m[I 2022-10-09 16:44:19,128]\u001b[0m Trial 59 finished with value: 102.49551091368143 and parameters: {'num_layers': 12, 'num_nodes': 25, 'lr': 0.00041790905214475363}. Best is trial 21 with value: 91.9523.\u001b[0m\n"
     ]
    },
    {
     "name": "stdout",
     "output_type": "stream",
     "text": [
      "Training completed in 297.09912872314453s\n"
     ]
    }
   ],
   "source": [
    "# comparing samplers\n",
    "\n",
    "for sampler in [\"CmaEs\", \"TPE\", \"Random\"]:\n",
    "    for _ in range(3):\n",
    "        ampopt.tune(\n",
    "            study=f\"{sampler.lower()}-oc20-3k\",\n",
    "            trials=20,\n",
    "            epochs=500,\n",
    "            sampler=sampler,\n",
    "            pruner=\"None\",\n",
    "            params=format_params(\n",
    "                dropout_rate=0.0,\n",
    "                gamma=1.,\n",
    "                # lr=1e-3,\n",
    "            ),\n",
    "            data=\"../data/oc20_3k_train.lmdb\",\n",
    "        )"
   ]
  },
  {
   "cell_type": "code",
   "execution_count": 36,
   "id": "ab89ae58-d5c4-4b51-8004-89993f070706",
   "metadata": {},
   "outputs": [
    {
     "data": {
      "image/png": "[encoded data removed]",
      "text/plain": [
       "<Figure size 432x432 with 1 Axes>"
      ]
     },
     "metadata": {},
     "output_type": "display_data"
    }
   ],
   "source": [
    "trials = get_study(\"50K-alex-with-lr-and-gamma\").trials_dataframe()\n",
    "\n",
    "fig,ax = plt.subplots(figsize=(6, 6))\n",
    "\n",
    "trial_durations = pd.Series({\n",
    "    \"Pruned\": trials[trials.state == \"PRUNED\"].duration.dt.seconds.mean(),\n",
    "    \"Not Pruned\": trials[trials.state != 'PRUNED'].duration.dt.seconds.mean(),\n",
    "})\n",
    "\n",
    "trial_durations.plot(kind='bar', ax=ax)\n",
    "plt.title(\"Avg. Duration of Pruned vs. Non-Pruned Trials\")\n",
    "plt.ylabel(\"Duration (s)\")\n",
    "\n",
    "# plt.fig.figsize((5, 5))\n",
    "plt.savefig(\"pruning-duration.png\")"
   ]
  },
  {
   "cell_type": "code",
   "execution_count": 25,
   "id": "9d5b00e7-b424-436e-ac1b-1f565288af6b",
   "metadata": {},
   "outputs": [],
   "source": [
    "def plot_param_values(study, name):\n",
    "    df = study.trials_dataframe()\n",
    "    fig,ax = plt.subplots()\n",
    "    for param in ['num_layers', 'num_nodes']:\n",
    "        ax.plot(df.number, df[f'params_{param}'], label=param)\n",
    "    plt.title(f\"Parameter Values during Optimization, {name}\")\n",
    "\n",
    "    ax2 = ax.twinx()\n",
    "    ax2.set_yscale(\"log\")\n",
    "    ax2.plot(df.number, df[\"params_lr\"], label=\"lr\", color=\"green\")\n",
    "\n",
    "    ax.legend(loc=(.85, .85))\n",
    "    ax2.legend(loc=(.9, .8))\n",
    "    \n",
    "    name_slug = name.lower().replace(\" \", \"-\")\n",
    "    filename = f\"param-values-{name_slug}.png\"\n",
    "    plt.savefig(filename)\n",
    "    print(\"Saved to\", filename)"
   ]
  },
  {
   "cell_type": "code",
   "execution_count": 30,
   "id": "32fd402d-ce93-49bb-aad5-7207602692d6",
   "metadata": {},
   "outputs": [
    {
     "data": {
      "application/vnd.plotly.v1+json": {
       "config": {
        "plotlyServerURL": "https://plot.ly"
       },
       "data": [
        {
         "mode": "markers",
         "name": "Objective Value",
         "type": "scatter",
         "x": [
          0,
          1,
          2,
          3,
          4,
          5,
          6,
          7,
          8,
          9,
          10,
          11,
          12,
          13,
          14,
          15,
          16,
          17,
          18,
          19,
          20,
          21,
          22,
          23,
          24,
          25,
          26,
          27,
          28,
          29,
          30,
          31,
          32,
          33,
          34,
          35,
          36,
          37,
          38,
          39,
          40,
          41,
          42,
          43,
          44,
          45,
          46,
          47,
          48,
          49,
          50,
          51,
          52,
          53,
          54,
          55,
          56,
          57,
          58,
          59
         ],
         "y": [
          95.9154,
          105.03,
          98.5947,
          99.2636,
          11687.1,
          457.704,
          111.421,
          125.719,
          422.684,
          99.9933,
          100.174,
          92.0892,
          100.682,
          162.349,
          90.6193,
          196.223,
          99.2613,
          95.5584,
          163.684,
          110.495,
          102.239,
          96.9047,
          102.327,
          88.47,
          117.72,
          97.6462,
          182.737,
          1756.95,
          102.477,
          113.582,
          92.6943,
          111.324,
          101.705,
          100.383,
          88.4008,
          94.2916,
          94.2717,
          96.4657,
          102.49,
          98.6318,
          99.1768,
          88.8875,
          96.9684,
          96.8466,
          95.2791,
          97.9091,
          90.0844,
          91.5598,
          96.4832,
          173.867,
          99.5159,
          96.0693,
          97.4402,
          90.059,
          104.459,
          107.4,
          92.9216,
          98.648,
          90.3224,
          92.0131
         ]
        },
        {
         "name": "Best Value",
         "type": "scatter",
         "x": [
          0,
          1,
          2,
          3,
          4,
          5,
          6,
          7,
          8,
          9,
          10,
          11,
          12,
          13,
          14,
          15,
          16,
          17,
          18,
          19,
          20,
          21,
          22,
          23,
          24,
          25,
          26,
          27,
          28,
          29,
          30,
          31,
          32,
          33,
          34,
          35,
          36,
          37,
          38,
          39,
          40,
          41,
          42,
          43,
          44,
          45,
          46,
          47,
          48,
          49,
          50,
          51,
          52,
          53,
          54,
          55,
          56,
          57,
          58,
          59
         ],
         "y": [
          95.9154,
          95.9154,
          95.9154,
          95.9154,
          95.9154,
          95.9154,
          95.9154,
          95.9154,
          95.9154,
          95.9154,
          95.9154,
          92.0892,
          92.0892,
          92.0892,
          90.6193,
          90.6193,
          90.6193,
          90.6193,
          90.6193,
          90.6193,
          90.6193,
          90.6193,
          90.6193,
          88.47,
          88.47,
          88.47,
          88.47,
          88.47,
          88.47,
          88.47,
          88.47,
          88.47,
          88.47,
          88.47,
          88.4008,
          88.4008,
          88.4008,
          88.4008,
          88.4008,
          88.4008,
          88.4008,
          88.4008,
          88.4008,
          88.4008,
          88.4008,
          88.4008,
          88.4008,
          88.4008,
          88.4008,
          88.4008,
          88.4008,
          88.4008,
          88.4008,
          88.4008,
          88.4008,
          88.4008,
          88.4008,
          88.4008,
          88.4008,
          88.4008
         ]
        }
       ],
       "layout": {
        "template": {
         "data": {
          "bar": [
           {
            "error_x": {
             "color": "#2a3f5f"
            },
            "error_y": {
             "color": "#2a3f5f"
            },
            "marker": {
             "line": {
              "color": "#E5ECF6",
              "width": 0.5
             },
             "pattern": {
              "fillmode": "overlay",
              "size": 10,
              "solidity": 0.2
             }
            },
            "type": "bar"
           }
          ],
          "barpolar": [
           {
            "marker": {
             "line": {
              "color": "#E5ECF6",
              "width": 0.5
             },
             "pattern": {
              "fillmode": "overlay",
              "size": 10,
              "solidity": 0.2
             }
            },
            "type": "barpolar"
           }
          ],
          "carpet": [
           {
            "aaxis": {
             "endlinecolor": "#2a3f5f",
             "gridcolor": "white",
             "linecolor": "white",
             "minorgridcolor": "white",
             "startlinecolor": "#2a3f5f"
            },
            "baxis": {
             "endlinecolor": "#2a3f5f",
             "gridcolor": "white",
             "linecolor": "white",
             "minorgridcolor": "white",
             "startlinecolor": "#2a3f5f"
            },
            "type": "carpet"
           }
          ],
          "choropleth": [
           {
            "colorbar": {
             "outlinewidth": 0,
             "ticks": ""
            },
            "type": "choropleth"
           }
          ],
          "contour": [
           {
            "colorbar": {
             "outlinewidth": 0,
             "ticks": ""
            },
            "colorscale": [
             [
              0,
              "#0d0887"
             ],
             [
              0.1111111111111111,
              "#46039f"
             ],
             [
              0.2222222222222222,
              "#7201a8"
             ],
             [
              0.3333333333333333,
              "#9c179e"
             ],
             [
              0.4444444444444444,
              "#bd3786"
             ],
             [
              0.5555555555555556,
              "#d8576b"
             ],
             [
              0.6666666666666666,
              "#ed7953"
             ],
             [
              0.7777777777777778,
              "#fb9f3a"
             ],
             [
              0.8888888888888888,
              "#fdca26"
             ],
             [
              1,
              "#f0f921"
             ]
            ],
            "type": "contour"
           }
          ],
          "contourcarpet": [
           {
            "colorbar": {
             "outlinewidth": 0,
             "ticks": ""
            },
            "type": "contourcarpet"
           }
          ],
          "heatmap": [
           {
            "colorbar": {
             "outlinewidth": 0,
             "ticks": ""
            },
            "colorscale": [
             [
              0,
              "#0d0887"
             ],
             [
              0.1111111111111111,
              "#46039f"
             ],
             [
              0.2222222222222222,
              "#7201a8"
             ],
             [
              0.3333333333333333,
              "#9c179e"
             ],
             [
              0.4444444444444444,
              "#bd3786"
             ],
             [
              0.5555555555555556,
              "#d8576b"
             ],
             [
              0.6666666666666666,
              "#ed7953"
             ],
             [
              0.7777777777777778,
              "#fb9f3a"
             ],
             [
              0.8888888888888888,
              "#fdca26"
             ],
             [
              1,
              "#f0f921"
             ]
            ],
            "type": "heatmap"
           }
          ],
          "heatmapgl": [
           {
            "colorbar": {
             "outlinewidth": 0,
             "ticks": ""
            },
            "colorscale": [
             [
              0,
              "#0d0887"
             ],
             [
              0.1111111111111111,
              "#46039f"
             ],
             [
              0.2222222222222222,
              "#7201a8"
             ],
             [
              0.3333333333333333,
              "#9c179e"
             ],
             [
              0.4444444444444444,
              "#bd3786"
             ],
             [
              0.5555555555555556,
              "#d8576b"
             ],
             [
              0.6666666666666666,
              "#ed7953"
             ],
             [
              0.7777777777777778,
              "#fb9f3a"
             ],
             [
              0.8888888888888888,
              "#fdca26"
             ],
             [
              1,
              "#f0f921"
             ]
            ],
            "type": "heatmapgl"
           }
          ],
          "histogram": [
           {
            "marker": {
             "pattern": {
              "fillmode": "overlay",
              "size": 10,
              "solidity": 0.2
             }
            },
            "type": "histogram"
           }
          ],
          "histogram2d": [
           {
            "colorbar": {
             "outlinewidth": 0,
             "ticks": ""
            },
            "colorscale": [
             [
              0,
              "#0d0887"
             ],
             [
              0.1111111111111111,
              "#46039f"
             ],
             [
              0.2222222222222222,
              "#7201a8"
             ],
             [
              0.3333333333333333,
              "#9c179e"
             ],
             [
              0.4444444444444444,
              "#bd3786"
             ],
             [
              0.5555555555555556,
              "#d8576b"
             ],
             [
              0.6666666666666666,
              "#ed7953"
             ],
             [
              0.7777777777777778,
              "#fb9f3a"
             ],
             [
              0.8888888888888888,
              "#fdca26"
             ],
             [
              1,
              "#f0f921"
             ]
            ],
            "type": "histogram2d"
           }
          ],
          "histogram2dcontour": [
           {
            "colorbar": {
             "outlinewidth": 0,
             "ticks": ""
            },
            "colorscale": [
             [
              0,
              "#0d0887"
             ],
             [
              0.1111111111111111,
              "#46039f"
             ],
             [
              0.2222222222222222,
              "#7201a8"
             ],
             [
              0.3333333333333333,
              "#9c179e"
             ],
             [
              0.4444444444444444,
              "#bd3786"
             ],
             [
              0.5555555555555556,
              "#d8576b"
             ],
             [
              0.6666666666666666,
              "#ed7953"
             ],
             [
              0.7777777777777778,
              "#fb9f3a"
             ],
             [
              0.8888888888888888,
              "#fdca26"
             ],
             [
              1,
              "#f0f921"
             ]
            ],
            "type": "histogram2dcontour"
           }
          ],
          "mesh3d": [
           {
            "colorbar": {
             "outlinewidth": 0,
             "ticks": ""
            },
            "type": "mesh3d"
           }
          ],
          "parcoords": [
           {
            "line": {
             "colorbar": {
              "outlinewidth": 0,
              "ticks": ""
             }
            },
            "type": "parcoords"
           }
          ],
          "pie": [
           {
            "automargin": true,
            "type": "pie"
           }
          ],
          "scatter": [
           {
            "marker": {
             "colorbar": {
              "outlinewidth": 0,
              "ticks": ""
             }
            },
            "type": "scatter"
           }
          ],
          "scatter3d": [
           {
            "line": {
             "colorbar": {
              "outlinewidth": 0,
              "ticks": ""
             }
            },
            "marker": {
             "colorbar": {
              "outlinewidth": 0,
              "ticks": ""
             }
            },
            "type": "scatter3d"
           }
          ],
          "scattercarpet": [
           {
            "marker": {
             "colorbar": {
              "outlinewidth": 0,
              "ticks": ""
             }
            },
            "type": "scattercarpet"
           }
          ],
          "scattergeo": [
           {
            "marker": {
             "colorbar": {
              "outlinewidth": 0,
              "ticks": ""
             }
            },
            "type": "scattergeo"
           }
          ],
          "scattergl": [
           {
            "marker": {
             "colorbar": {
              "outlinewidth": 0,
              "ticks": ""
             }
            },
            "type": "scattergl"
           }
          ],
          "scattermapbox": [
           {
            "marker": {
             "colorbar": {
              "outlinewidth": 0,
              "ticks": ""
             }
            },
            "type": "scattermapbox"
           }
          ],
          "scatterpolar": [
           {
            "marker": {
             "colorbar": {
              "outlinewidth": 0,
              "ticks": ""
             }
            },
            "type": "scatterpolar"
           }
          ],
          "scatterpolargl": [
           {
            "marker": {
             "colorbar": {
              "outlinewidth": 0,
              "ticks": ""
             }
            },
            "type": "scatterpolargl"
           }
          ],
          "scatterternary": [
           {
            "marker": {
             "colorbar": {
              "outlinewidth": 0,
              "ticks": ""
             }
            },
            "type": "scatterternary"
           }
          ],
          "surface": [
           {
            "colorbar": {
             "outlinewidth": 0,
             "ticks": ""
            },
            "colorscale": [
             [
              0,
              "#0d0887"
             ],
             [
              0.1111111111111111,
              "#46039f"
             ],
             [
              0.2222222222222222,
              "#7201a8"
             ],
             [
              0.3333333333333333,
              "#9c179e"
             ],
             [
              0.4444444444444444,
              "#bd3786"
             ],
             [
              0.5555555555555556,
              "#d8576b"
             ],
             [
              0.6666666666666666,
              "#ed7953"
             ],
             [
              0.7777777777777778,
              "#fb9f3a"
             ],
             [
              0.8888888888888888,
              "#fdca26"
             ],
             [
              1,
              "#f0f921"
             ]
            ],
            "type": "surface"
           }
          ],
          "table": [
           {
            "cells": {
             "fill": {
              "color": "#EBF0F8"
             },
             "line": {
              "color": "white"
             }
            },
            "header": {
             "fill": {
              "color": "#C8D4E3"
             },
             "line": {
              "color": "white"
             }
            },
            "type": "table"
           }
          ]
         },
         "layout": {
          "annotationdefaults": {
           "arrowcolor": "#2a3f5f",
           "arrowhead": 0,
           "arrowwidth": 1
          },
          "autotypenumbers": "strict",
          "coloraxis": {
           "colorbar": {
            "outlinewidth": 0,
            "ticks": ""
           }
          },
          "colorscale": {
           "diverging": [
            [
             0,
             "#8e0152"
            ],
            [
             0.1,
             "#c51b7d"
            ],
            [
             0.2,
             "#de77ae"
            ],
            [
             0.3,
             "#f1b6da"
            ],
            [
             0.4,
             "#fde0ef"
            ],
            [
             0.5,
             "#f7f7f7"
            ],
            [
             0.6,
             "#e6f5d0"
            ],
            [
             0.7,
             "#b8e186"
            ],
            [
             0.8,
             "#7fbc41"
            ],
            [
             0.9,
             "#4d9221"
            ],
            [
             1,
             "#276419"
            ]
           ],
           "sequential": [
            [
             0,
             "#0d0887"
            ],
            [
             0.1111111111111111,
             "#46039f"
            ],
            [
             0.2222222222222222,
             "#7201a8"
            ],
            [
             0.3333333333333333,
             "#9c179e"
            ],
            [
             0.4444444444444444,
             "#bd3786"
            ],
            [
             0.5555555555555556,
             "#d8576b"
            ],
            [
             0.6666666666666666,
             "#ed7953"
            ],
            [
             0.7777777777777778,
             "#fb9f3a"
            ],
            [
             0.8888888888888888,
             "#fdca26"
            ],
            [
             1,
             "#f0f921"
            ]
           ],
           "sequentialminus": [
            [
             0,
             "#0d0887"
            ],
            [
             0.1111111111111111,
             "#46039f"
            ],
            [
             0.2222222222222222,
             "#7201a8"
            ],
            [
             0.3333333333333333,
             "#9c179e"
            ],
            [
             0.4444444444444444,
             "#bd3786"
            ],
            [
             0.5555555555555556,
             "#d8576b"
            ],
            [
             0.6666666666666666,
             "#ed7953"
            ],
            [
             0.7777777777777778,
             "#fb9f3a"
            ],
            [
             0.8888888888888888,
             "#fdca26"
            ],
            [
             1,
             "#f0f921"
            ]
           ]
          },
          "colorway": [
           "#636efa",
           "#EF553B",
           "#00cc96",
           "#ab63fa",
           "#FFA15A",
           "#19d3f3",
           "#FF6692",
           "#B6E880",
           "#FF97FF",
           "#FECB52"
          ],
          "font": {
           "color": "#2a3f5f"
          },
          "geo": {
           "bgcolor": "white",
           "lakecolor": "white",
           "landcolor": "#E5ECF6",
           "showlakes": true,
           "showland": true,
           "subunitcolor": "white"
          },
          "hoverlabel": {
           "align": "left"
          },
          "hovermode": "closest",
          "mapbox": {
           "style": "light"
          },
          "paper_bgcolor": "white",
          "plot_bgcolor": "#E5ECF6",
          "polar": {
           "angularaxis": {
            "gridcolor": "white",
            "linecolor": "white",
            "ticks": ""
           },
           "bgcolor": "#E5ECF6",
           "radialaxis": {
            "gridcolor": "white",
            "linecolor": "white",
            "ticks": ""
           }
          },
          "scene": {
           "xaxis": {
            "backgroundcolor": "#E5ECF6",
            "gridcolor": "white",
            "gridwidth": 2,
            "linecolor": "white",
            "showbackground": true,
            "ticks": "",
            "zerolinecolor": "white"
           },
           "yaxis": {
            "backgroundcolor": "#E5ECF6",
            "gridcolor": "white",
            "gridwidth": 2,
            "linecolor": "white",
            "showbackground": true,
            "ticks": "",
            "zerolinecolor": "white"
           },
           "zaxis": {
            "backgroundcolor": "#E5ECF6",
            "gridcolor": "white",
            "gridwidth": 2,
            "linecolor": "white",
            "showbackground": true,
            "ticks": "",
            "zerolinecolor": "white"
           }
          },
          "shapedefaults": {
           "line": {
            "color": "#2a3f5f"
           }
          },
          "ternary": {
           "aaxis": {
            "gridcolor": "white",
            "linecolor": "white",
            "ticks": ""
           },
           "baxis": {
            "gridcolor": "white",
            "linecolor": "white",
            "ticks": ""
           },
           "bgcolor": "#E5ECF6",
           "caxis": {
            "gridcolor": "white",
            "linecolor": "white",
            "ticks": ""
           }
          },
          "title": {
           "x": 0.05
          },
          "xaxis": {
           "automargin": true,
           "gridcolor": "white",
           "linecolor": "white",
           "ticks": "",
           "title": {
            "standoff": 15
           },
           "zerolinecolor": "white",
           "zerolinewidth": 2
          },
          "yaxis": {
           "automargin": true,
           "gridcolor": "white",
           "linecolor": "white",
           "ticks": "",
           "title": {
            "standoff": 15
           },
           "zerolinecolor": "white",
           "zerolinewidth": 2
          }
         }
        },
        "title": {
         "text": "Optimization History Plot"
        },
        "xaxis": {
         "title": {
          "text": "#Trials"
         }
        },
        "yaxis": {
         "title": {
          "text": "Objective Value"
         }
        }
       }
      },
      "text/html": [
       "<div>                            <div id=\"a672113b-cb28-4e98-9f5e-501e220e59ea\" class=\"plotly-graph-div\" style=\"height:525px; width:100%;\"></div>            <script type=\"text/javascript\">                require([\"plotly\"], function(Plotly) {                    window.PLOTLYENV=window.PLOTLYENV || {};                                    if (document.getElementById(\"a672113b-cb28-4e98-9f5e-501e220e59ea\")) {                    Plotly.newPlot(                        \"a672113b-cb28-4e98-9f5e-501e220e59ea\",                        [{\"mode\":\"markers\",\"name\":\"Objective Value\",\"x\":[0,1,2,3,4,5,6,7,8,9,10,11,12,13,14,15,16,17,18,19,20,21,22,23,24,25,26,27,28,29,30,31,32,33,34,35,36,37,38,39,40,41,42,43,44,45,46,47,48,49,50,51,52,53,54,55,56,57,58,59],\"y\":[95.9154,105.03,98.5947,99.2636,11687.1,457.704,111.421,125.719,422.684,99.9933,100.174,92.0892,100.682,162.349,90.6193,196.223,99.2613,95.5584,163.684,110.495,102.239,96.9047,102.327,88.47,117.72,97.6462,182.737,1756.95,102.477,113.582,92.6943,111.324,101.705,100.383,88.4008,94.2916,94.2717,96.4657,102.49,98.6318,99.1768,88.8875,96.9684,96.8466,95.2791,97.9091,90.0844,91.5598,96.4832,173.867,99.5159,96.0693,97.4402,90.059,104.459,107.4,92.9216,98.648,90.3224,92.0131],\"type\":\"scatter\"},{\"name\":\"Best Value\",\"x\":[0,1,2,3,4,5,6,7,8,9,10,11,12,13,14,15,16,17,18,19,20,21,22,23,24,25,26,27,28,29,30,31,32,33,34,35,36,37,38,39,40,41,42,43,44,45,46,47,48,49,50,51,52,53,54,55,56,57,58,59],\"y\":[95.9154,95.9154,95.9154,95.9154,95.9154,95.9154,95.9154,95.9154,95.9154,95.9154,95.9154,92.0892,92.0892,92.0892,90.6193,90.6193,90.6193,90.6193,90.6193,90.6193,90.6193,90.6193,90.6193,88.47,88.47,88.47,88.47,88.47,88.47,88.47,88.47,88.47,88.47,88.47,88.4008,88.4008,88.4008,88.4008,88.4008,88.4008,88.4008,88.4008,88.4008,88.4008,88.4008,88.4008,88.4008,88.4008,88.4008,88.4008,88.4008,88.4008,88.4008,88.4008,88.4008,88.4008,88.4008,88.4008,88.4008,88.4008],\"type\":\"scatter\"}],                        {\"title\":{\"text\":\"Optimization History Plot\"},\"xaxis\":{\"title\":{\"text\":\"#Trials\"}},\"yaxis\":{\"title\":{\"text\":\"Objective Value\"}},\"template\":{\"data\":{\"bar\":[{\"error_x\":{\"color\":\"#2a3f5f\"},\"error_y\":{\"color\":\"#2a3f5f\"},\"marker\":{\"line\":{\"color\":\"#E5ECF6\",\"width\":0.5},\"pattern\":{\"fillmode\":\"overlay\",\"size\":10,\"solidity\":0.2}},\"type\":\"bar\"}],\"barpolar\":[{\"marker\":{\"line\":{\"color\":\"#E5ECF6\",\"width\":0.5},\"pattern\":{\"fillmode\":\"overlay\",\"size\":10,\"solidity\":0.2}},\"type\":\"barpolar\"}],\"carpet\":[{\"aaxis\":{\"endlinecolor\":\"#2a3f5f\",\"gridcolor\":\"white\",\"linecolor\":\"white\",\"minorgridcolor\":\"white\",\"startlinecolor\":\"#2a3f5f\"},\"baxis\":{\"endlinecolor\":\"#2a3f5f\",\"gridcolor\":\"white\",\"linecolor\":\"white\",\"minorgridcolor\":\"white\",\"startlinecolor\":\"#2a3f5f\"},\"type\":\"carpet\"}],\"choropleth\":[{\"colorbar\":{\"outlinewidth\":0,\"ticks\":\"\"},\"type\":\"choropleth\"}],\"contour\":[{\"colorbar\":{\"outlinewidth\":0,\"ticks\":\"\"},\"colorscale\":[[0.0,\"#0d0887\"],[0.1111111111111111,\"#46039f\"],[0.2222222222222222,\"#7201a8\"],[0.3333333333333333,\"#9c179e\"],[0.4444444444444444,\"#bd3786\"],[0.5555555555555556,\"#d8576b\"],[0.6666666666666666,\"#ed7953\"],[0.7777777777777778,\"#fb9f3a\"],[0.8888888888888888,\"#fdca26\"],[1.0,\"#f0f921\"]],\"type\":\"contour\"}],\"contourcarpet\":[{\"colorbar\":{\"outlinewidth\":0,\"ticks\":\"\"},\"type\":\"contourcarpet\"}],\"heatmap\":[{\"colorbar\":{\"outlinewidth\":0,\"ticks\":\"\"},\"colorscale\":[[0.0,\"#0d0887\"],[0.1111111111111111,\"#46039f\"],[0.2222222222222222,\"#7201a8\"],[0.3333333333333333,\"#9c179e\"],[0.4444444444444444,\"#bd3786\"],[0.5555555555555556,\"#d8576b\"],[0.6666666666666666,\"#ed7953\"],[0.7777777777777778,\"#fb9f3a\"],[0.8888888888888888,\"#fdca26\"],[1.0,\"#f0f921\"]],\"type\":\"heatmap\"}],\"heatmapgl\":[{\"colorbar\":{\"outlinewidth\":0,\"ticks\":\"\"},\"colorscale\":[[0.0,\"#0d0887\"],[0.1111111111111111,\"#46039f\"],[0.2222222222222222,\"#7201a8\"],[0.3333333333333333,\"#9c179e\"],[0.4444444444444444,\"#bd3786\"],[0.5555555555555556,\"#d8576b\"],[0.6666666666666666,\"#ed7953\"],[0.7777777777777778,\"#fb9f3a\"],[0.8888888888888888,\"#fdca26\"],[1.0,\"#f0f921\"]],\"type\":\"heatmapgl\"}],\"histogram\":[{\"marker\":{\"pattern\":{\"fillmode\":\"overlay\",\"size\":10,\"solidity\":0.2}},\"type\":\"histogram\"}],\"histogram2d\":[{\"colorbar\":{\"outlinewidth\":0,\"ticks\":\"\"},\"colorscale\":[[0.0,\"#0d0887\"],[0.1111111111111111,\"#46039f\"],[0.2222222222222222,\"#7201a8\"],[0.3333333333333333,\"#9c179e\"],[0.4444444444444444,\"#bd3786\"],[0.5555555555555556,\"#d8576b\"],[0.6666666666666666,\"#ed7953\"],[0.7777777777777778,\"#fb9f3a\"],[0.8888888888888888,\"#fdca26\"],[1.0,\"#f0f921\"]],\"type\":\"histogram2d\"}],\"histogram2dcontour\":[{\"colorbar\":{\"outlinewidth\":0,\"ticks\":\"\"},\"colorscale\":[[0.0,\"#0d0887\"],[0.1111111111111111,\"#46039f\"],[0.2222222222222222,\"#7201a8\"],[0.3333333333333333,\"#9c179e\"],[0.4444444444444444,\"#bd3786\"],[0.5555555555555556,\"#d8576b\"],[0.6666666666666666,\"#ed7953\"],[0.7777777777777778,\"#fb9f3a\"],[0.8888888888888888,\"#fdca26\"],[1.0,\"#f0f921\"]],\"type\":\"histogram2dcontour\"}],\"mesh3d\":[{\"colorbar\":{\"outlinewidth\":0,\"ticks\":\"\"},\"type\":\"mesh3d\"}],\"parcoords\":[{\"line\":{\"colorbar\":{\"outlinewidth\":0,\"ticks\":\"\"}},\"type\":\"parcoords\"}],\"pie\":[{\"automargin\":true,\"type\":\"pie\"}],\"scatter\":[{\"marker\":{\"colorbar\":{\"outlinewidth\":0,\"ticks\":\"\"}},\"type\":\"scatter\"}],\"scatter3d\":[{\"line\":{\"colorbar\":{\"outlinewidth\":0,\"ticks\":\"\"}},\"marker\":{\"colorbar\":{\"outlinewidth\":0,\"ticks\":\"\"}},\"type\":\"scatter3d\"}],\"scattercarpet\":[{\"marker\":{\"colorbar\":{\"outlinewidth\":0,\"ticks\":\"\"}},\"type\":\"scattercarpet\"}],\"scattergeo\":[{\"marker\":{\"colorbar\":{\"outlinewidth\":0,\"ticks\":\"\"}},\"type\":\"scattergeo\"}],\"scattergl\":[{\"marker\":{\"colorbar\":{\"outlinewidth\":0,\"ticks\":\"\"}},\"type\":\"scattergl\"}],\"scattermapbox\":[{\"marker\":{\"colorbar\":{\"outlinewidth\":0,\"ticks\":\"\"}},\"type\":\"scattermapbox\"}],\"scatterpolar\":[{\"marker\":{\"colorbar\":{\"outlinewidth\":0,\"ticks\":\"\"}},\"type\":\"scatterpolar\"}],\"scatterpolargl\":[{\"marker\":{\"colorbar\":{\"outlinewidth\":0,\"ticks\":\"\"}},\"type\":\"scatterpolargl\"}],\"scatterternary\":[{\"marker\":{\"colorbar\":{\"outlinewidth\":0,\"ticks\":\"\"}},\"type\":\"scatterternary\"}],\"surface\":[{\"colorbar\":{\"outlinewidth\":0,\"ticks\":\"\"},\"colorscale\":[[0.0,\"#0d0887\"],[0.1111111111111111,\"#46039f\"],[0.2222222222222222,\"#7201a8\"],[0.3333333333333333,\"#9c179e\"],[0.4444444444444444,\"#bd3786\"],[0.5555555555555556,\"#d8576b\"],[0.6666666666666666,\"#ed7953\"],[0.7777777777777778,\"#fb9f3a\"],[0.8888888888888888,\"#fdca26\"],[1.0,\"#f0f921\"]],\"type\":\"surface\"}],\"table\":[{\"cells\":{\"fill\":{\"color\":\"#EBF0F8\"},\"line\":{\"color\":\"white\"}},\"header\":{\"fill\":{\"color\":\"#C8D4E3\"},\"line\":{\"color\":\"white\"}},\"type\":\"table\"}]},\"layout\":{\"annotationdefaults\":{\"arrowcolor\":\"#2a3f5f\",\"arrowhead\":0,\"arrowwidth\":1},\"autotypenumbers\":\"strict\",\"coloraxis\":{\"colorbar\":{\"outlinewidth\":0,\"ticks\":\"\"}},\"colorscale\":{\"diverging\":[[0,\"#8e0152\"],[0.1,\"#c51b7d\"],[0.2,\"#de77ae\"],[0.3,\"#f1b6da\"],[0.4,\"#fde0ef\"],[0.5,\"#f7f7f7\"],[0.6,\"#e6f5d0\"],[0.7,\"#b8e186\"],[0.8,\"#7fbc41\"],[0.9,\"#4d9221\"],[1,\"#276419\"]],\"sequential\":[[0.0,\"#0d0887\"],[0.1111111111111111,\"#46039f\"],[0.2222222222222222,\"#7201a8\"],[0.3333333333333333,\"#9c179e\"],[0.4444444444444444,\"#bd3786\"],[0.5555555555555556,\"#d8576b\"],[0.6666666666666666,\"#ed7953\"],[0.7777777777777778,\"#fb9f3a\"],[0.8888888888888888,\"#fdca26\"],[1.0,\"#f0f921\"]],\"sequentialminus\":[[0.0,\"#0d0887\"],[0.1111111111111111,\"#46039f\"],[0.2222222222222222,\"#7201a8\"],[0.3333333333333333,\"#9c179e\"],[0.4444444444444444,\"#bd3786\"],[0.5555555555555556,\"#d8576b\"],[0.6666666666666666,\"#ed7953\"],[0.7777777777777778,\"#fb9f3a\"],[0.8888888888888888,\"#fdca26\"],[1.0,\"#f0f921\"]]},\"colorway\":[\"#636efa\",\"#EF553B\",\"#00cc96\",\"#ab63fa\",\"#FFA15A\",\"#19d3f3\",\"#FF6692\",\"#B6E880\",\"#FF97FF\",\"#FECB52\"],\"font\":{\"color\":\"#2a3f5f\"},\"geo\":{\"bgcolor\":\"white\",\"lakecolor\":\"white\",\"landcolor\":\"#E5ECF6\",\"showlakes\":true,\"showland\":true,\"subunitcolor\":\"white\"},\"hoverlabel\":{\"align\":\"left\"},\"hovermode\":\"closest\",\"mapbox\":{\"style\":\"light\"},\"paper_bgcolor\":\"white\",\"plot_bgcolor\":\"#E5ECF6\",\"polar\":{\"angularaxis\":{\"gridcolor\":\"white\",\"linecolor\":\"white\",\"ticks\":\"\"},\"bgcolor\":\"#E5ECF6\",\"radialaxis\":{\"gridcolor\":\"white\",\"linecolor\":\"white\",\"ticks\":\"\"}},\"scene\":{\"xaxis\":{\"backgroundcolor\":\"#E5ECF6\",\"gridcolor\":\"white\",\"gridwidth\":2,\"linecolor\":\"white\",\"showbackground\":true,\"ticks\":\"\",\"zerolinecolor\":\"white\"},\"yaxis\":{\"backgroundcolor\":\"#E5ECF6\",\"gridcolor\":\"white\",\"gridwidth\":2,\"linecolor\":\"white\",\"showbackground\":true,\"ticks\":\"\",\"zerolinecolor\":\"white\"},\"zaxis\":{\"backgroundcolor\":\"#E5ECF6\",\"gridcolor\":\"white\",\"gridwidth\":2,\"linecolor\":\"white\",\"showbackground\":true,\"ticks\":\"\",\"zerolinecolor\":\"white\"}},\"shapedefaults\":{\"line\":{\"color\":\"#2a3f5f\"}},\"ternary\":{\"aaxis\":{\"gridcolor\":\"white\",\"linecolor\":\"white\",\"ticks\":\"\"},\"baxis\":{\"gridcolor\":\"white\",\"linecolor\":\"white\",\"ticks\":\"\"},\"bgcolor\":\"#E5ECF6\",\"caxis\":{\"gridcolor\":\"white\",\"linecolor\":\"white\",\"ticks\":\"\"}},\"title\":{\"x\":0.05},\"xaxis\":{\"automargin\":true,\"gridcolor\":\"white\",\"linecolor\":\"white\",\"ticks\":\"\",\"title\":{\"standoff\":15},\"zerolinecolor\":\"white\",\"zerolinewidth\":2},\"yaxis\":{\"automargin\":true,\"gridcolor\":\"white\",\"linecolor\":\"white\",\"ticks\":\"\",\"title\":{\"standoff\":15},\"zerolinecolor\":\"white\",\"zerolinewidth\":2}}}},                        {\"responsive\": true}                    ).then(function(){\n",
       "                            \n",
       "var gd = document.getElementById('a672113b-cb28-4e98-9f5e-501e220e59ea');\n",
       "var x = new MutationObserver(function (mutations, observer) {{\n",
       "        var display = window.getComputedStyle(gd).display;\n",
       "        if (!display || display === 'none') {{\n",
       "            console.log([gd, 'removed!']);\n",
       "            Plotly.purge(gd);\n",
       "            observer.disconnect();\n",
       "        }}\n",
       "}});\n",
       "\n",
       "// Listen for the removal of the full notebook cells\n",
       "var notebookContainer = gd.closest('#notebook-container');\n",
       "if (notebookContainer) {{\n",
       "    x.observe(notebookContainer, {childList: true});\n",
       "}}\n",
       "\n",
       "// Listen for the clearing of the current output cell\n",
       "var outputEl = gd.closest('.output');\n",
       "if (outputEl) {{\n",
       "    x.observe(outputEl, {childList: true});\n",
       "}}\n",
       "\n",
       "                        })                };                });            </script>        </div>"
      ]
     },
     "metadata": {},
     "output_type": "display_data"
    },
    {
     "data": {
      "image/png": "[encoded data removed]",
      "text/plain": [
       "<Figure size 640x480 with 1 Axes>"
      ]
     },
     "metadata": {},
     "output_type": "display_data"
    }
   ],
   "source": [
    "cmaes_study = get_study(\"cmaes-oc20-3k\")\n",
    "viz.plot_optimization_history(cmaes_study)"
   ]
  },
  {
   "cell_type": "code",
   "execution_count": 24,
   "id": "c8104f61-7281-47c8-88da-35d68c4c679a",
   "metadata": {},
   "outputs": [
    {
     "name": "stdout",
     "output_type": "stream",
     "text": [
      "Saved to param-values-cma-es.png\n"
     ]
    },
    {
     "data": {
      "image/png": "[encoded data removed]",
      "text/plain": [
       "<Figure size 640x480 with 2 Axes>"
      ]
     },
     "metadata": {},
     "output_type": "display_data"
    }
   ],
   "source": [
    "plot_param_values(cmaes_study, \"Cma-Es\")"
   ]
  },
  {
   "cell_type": "code",
   "execution_count": 27,
   "id": "a94f6478-d5cb-4062-b887-1080b30056f0",
   "metadata": {},
   "outputs": [
    {
     "data": {
      "application/vnd.plotly.v1+json": {
       "config": {
        "plotlyServerURL": "https://plot.ly"
       },
       "data": [
        {
         "mode": "markers",
         "name": "Objective Value",
         "type": "scatter",
         "x": [
          0,
          1,
          2,
          3,
          4,
          5,
          6,
          7,
          8,
          9,
          10,
          11,
          12,
          13,
          14,
          15,
          16,
          17,
          18,
          19,
          20,
          21,
          22,
          23,
          24,
          25,
          26,
          27,
          28,
          29,
          30,
          31,
          32,
          33,
          34,
          35,
          36,
          37,
          38,
          39,
          40,
          41,
          42,
          43,
          44,
          45,
          46,
          47,
          48,
          49,
          50,
          51,
          52,
          53,
          54,
          55,
          56,
          57,
          58,
          59
         ],
         "y": [
          3876.27,
          94.6983,
          126.406,
          123.031,
          499.056,
          95.9208,
          97.0411,
          115.949,
          92.6815,
          98.4047,
          204.782,
          101.668,
          96.3799,
          339.508,
          3791.88,
          107.836,
          98.2167,
          109.833,
          147.379,
          105.249,
          122.578,
          104.214,
          101.689,
          587.617,
          807.137,
          2003.86,
          99.9868,
          110.356,
          116.435,
          96.305,
          114.322,
          104.632,
          108.067,
          102.271,
          168.467,
          101.448,
          204.583,
          93.6392,
          107.467,
          107.357,
          99.931,
          104.987,
          110.016,
          98.5731,
          95.1972,
          98.1565,
          112.213,
          614.489,
          96.8047,
          96.1505,
          94.36,
          95.1292,
          90.2924,
          98.5366,
          94.2204,
          97.552,
          99.8519,
          96.0645,
          102.42,
          92.6316
         ]
        },
        {
         "name": "Best Value",
         "type": "scatter",
         "x": [
          0,
          1,
          2,
          3,
          4,
          5,
          6,
          7,
          8,
          9,
          10,
          11,
          12,
          13,
          14,
          15,
          16,
          17,
          18,
          19,
          20,
          21,
          22,
          23,
          24,
          25,
          26,
          27,
          28,
          29,
          30,
          31,
          32,
          33,
          34,
          35,
          36,
          37,
          38,
          39,
          40,
          41,
          42,
          43,
          44,
          45,
          46,
          47,
          48,
          49,
          50,
          51,
          52,
          53,
          54,
          55,
          56,
          57,
          58,
          59
         ],
         "y": [
          3876.27,
          94.6983,
          94.6983,
          94.6983,
          94.6983,
          94.6983,
          94.6983,
          94.6983,
          92.6815,
          92.6815,
          92.6815,
          92.6815,
          92.6815,
          92.6815,
          92.6815,
          92.6815,
          92.6815,
          92.6815,
          92.6815,
          92.6815,
          92.6815,
          92.6815,
          92.6815,
          92.6815,
          92.6815,
          92.6815,
          92.6815,
          92.6815,
          92.6815,
          92.6815,
          92.6815,
          92.6815,
          92.6815,
          92.6815,
          92.6815,
          92.6815,
          92.6815,
          92.6815,
          92.6815,
          92.6815,
          92.6815,
          92.6815,
          92.6815,
          92.6815,
          92.6815,
          92.6815,
          92.6815,
          92.6815,
          92.6815,
          92.6815,
          92.6815,
          92.6815,
          90.2924,
          90.2924,
          90.2924,
          90.2924,
          90.2924,
          90.2924,
          90.2924,
          90.2924
         ]
        }
       ],
       "layout": {
        "template": {
         "data": {
          "bar": [
           {
            "error_x": {
             "color": "#2a3f5f"
            },
            "error_y": {
             "color": "#2a3f5f"
            },
            "marker": {
             "line": {
              "color": "#E5ECF6",
              "width": 0.5
             },
             "pattern": {
              "fillmode": "overlay",
              "size": 10,
              "solidity": 0.2
             }
            },
            "type": "bar"
           }
          ],
          "barpolar": [
           {
            "marker": {
             "line": {
              "color": "#E5ECF6",
              "width": 0.5
             },
             "pattern": {
              "fillmode": "overlay",
              "size": 10,
              "solidity": 0.2
             }
            },
            "type": "barpolar"
           }
          ],
          "carpet": [
           {
            "aaxis": {
             "endlinecolor": "#2a3f5f",
             "gridcolor": "white",
             "linecolor": "white",
             "minorgridcolor": "white",
             "startlinecolor": "#2a3f5f"
            },
            "baxis": {
             "endlinecolor": "#2a3f5f",
             "gridcolor": "white",
             "linecolor": "white",
             "minorgridcolor": "white",
             "startlinecolor": "#2a3f5f"
            },
            "type": "carpet"
           }
          ],
          "choropleth": [
           {
            "colorbar": {
             "outlinewidth": 0,
             "ticks": ""
            },
            "type": "choropleth"
           }
          ],
          "contour": [
           {
            "colorbar": {
             "outlinewidth": 0,
             "ticks": ""
            },
            "colorscale": [
             [
              0,
              "#0d0887"
             ],
             [
              0.1111111111111111,
              "#46039f"
             ],
             [
              0.2222222222222222,
              "#7201a8"
             ],
             [
              0.3333333333333333,
              "#9c179e"
             ],
             [
              0.4444444444444444,
              "#bd3786"
             ],
             [
              0.5555555555555556,
              "#d8576b"
             ],
             [
              0.6666666666666666,
              "#ed7953"
             ],
             [
              0.7777777777777778,
              "#fb9f3a"
             ],
             [
              0.8888888888888888,
              "#fdca26"
             ],
             [
              1,
              "#f0f921"
             ]
            ],
            "type": "contour"
           }
          ],
          "contourcarpet": [
           {
            "colorbar": {
             "outlinewidth": 0,
             "ticks": ""
            },
            "type": "contourcarpet"
           }
          ],
          "heatmap": [
           {
            "colorbar": {
             "outlinewidth": 0,
             "ticks": ""
            },
            "colorscale": [
             [
              0,
              "#0d0887"
             ],
             [
              0.1111111111111111,
              "#46039f"
             ],
             [
              0.2222222222222222,
              "#7201a8"
             ],
             [
              0.3333333333333333,
              "#9c179e"
             ],
             [
              0.4444444444444444,
              "#bd3786"
             ],
             [
              0.5555555555555556,
              "#d8576b"
             ],
             [
              0.6666666666666666,
              "#ed7953"
             ],
             [
              0.7777777777777778,
              "#fb9f3a"
             ],
             [
              0.8888888888888888,
              "#fdca26"
             ],
             [
              1,
              "#f0f921"
             ]
            ],
            "type": "heatmap"
           }
          ],
          "heatmapgl": [
           {
            "colorbar": {
             "outlinewidth": 0,
             "ticks": ""
            },
            "colorscale": [
             [
              0,
              "#0d0887"
             ],
             [
              0.1111111111111111,
              "#46039f"
             ],
             [
              0.2222222222222222,
              "#7201a8"
             ],
             [
              0.3333333333333333,
              "#9c179e"
             ],
             [
              0.4444444444444444,
              "#bd3786"
             ],
             [
              0.5555555555555556,
              "#d8576b"
             ],
             [
              0.6666666666666666,
              "#ed7953"
             ],
             [
              0.7777777777777778,
              "#fb9f3a"
             ],
             [
              0.8888888888888888,
              "#fdca26"
             ],
             [
              1,
              "#f0f921"
             ]
            ],
            "type": "heatmapgl"
           }
          ],
          "histogram": [
           {
            "marker": {
             "pattern": {
              "fillmode": "overlay",
              "size": 10,
              "solidity": 0.2
             }
            },
            "type": "histogram"
           }
          ],
          "histogram2d": [
           {
            "colorbar": {
             "outlinewidth": 0,
             "ticks": ""
            },
            "colorscale": [
             [
              0,
              "#0d0887"
             ],
             [
              0.1111111111111111,
              "#46039f"
             ],
             [
              0.2222222222222222,
              "#7201a8"
             ],
             [
              0.3333333333333333,
              "#9c179e"
             ],
             [
              0.4444444444444444,
              "#bd3786"
             ],
             [
              0.5555555555555556,
              "#d8576b"
             ],
             [
              0.6666666666666666,
              "#ed7953"
             ],
             [
              0.7777777777777778,
              "#fb9f3a"
             ],
             [
              0.8888888888888888,
              "#fdca26"
             ],
             [
              1,
              "#f0f921"
             ]
            ],
            "type": "histogram2d"
           }
          ],
          "histogram2dcontour": [
           {
            "colorbar": {
             "outlinewidth": 0,
             "ticks": ""
            },
            "colorscale": [
             [
              0,
              "#0d0887"
             ],
             [
              0.1111111111111111,
              "#46039f"
             ],
             [
              0.2222222222222222,
              "#7201a8"
             ],
             [
              0.3333333333333333,
              "#9c179e"
             ],
             [
              0.4444444444444444,
              "#bd3786"
             ],
             [
              0.5555555555555556,
              "#d8576b"
             ],
             [
              0.6666666666666666,
              "#ed7953"
             ],
             [
              0.7777777777777778,
              "#fb9f3a"
             ],
             [
              0.8888888888888888,
              "#fdca26"
             ],
             [
              1,
              "#f0f921"
             ]
            ],
            "type": "histogram2dcontour"
           }
          ],
          "mesh3d": [
           {
            "colorbar": {
             "outlinewidth": 0,
             "ticks": ""
            },
            "type": "mesh3d"
           }
          ],
          "parcoords": [
           {
            "line": {
             "colorbar": {
              "outlinewidth": 0,
              "ticks": ""
             }
            },
            "type": "parcoords"
           }
          ],
          "pie": [
           {
            "automargin": true,
            "type": "pie"
           }
          ],
          "scatter": [
           {
            "marker": {
             "colorbar": {
              "outlinewidth": 0,
              "ticks": ""
             }
            },
            "type": "scatter"
           }
          ],
          "scatter3d": [
           {
            "line": {
             "colorbar": {
              "outlinewidth": 0,
              "ticks": ""
             }
            },
            "marker": {
             "colorbar": {
              "outlinewidth": 0,
              "ticks": ""
             }
            },
            "type": "scatter3d"
           }
          ],
          "scattercarpet": [
           {
            "marker": {
             "colorbar": {
              "outlinewidth": 0,
              "ticks": ""
             }
            },
            "type": "scattercarpet"
           }
          ],
          "scattergeo": [
           {
            "marker": {
             "colorbar": {
              "outlinewidth": 0,
              "ticks": ""
             }
            },
            "type": "scattergeo"
           }
          ],
          "scattergl": [
           {
            "marker": {
             "colorbar": {
              "outlinewidth": 0,
              "ticks": ""
             }
            },
            "type": "scattergl"
           }
          ],
          "scattermapbox": [
           {
            "marker": {
             "colorbar": {
              "outlinewidth": 0,
              "ticks": ""
             }
            },
            "type": "scattermapbox"
           }
          ],
          "scatterpolar": [
           {
            "marker": {
             "colorbar": {
              "outlinewidth": 0,
              "ticks": ""
             }
            },
            "type": "scatterpolar"
           }
          ],
          "scatterpolargl": [
           {
            "marker": {
             "colorbar": {
              "outlinewidth": 0,
              "ticks": ""
             }
            },
            "type": "scatterpolargl"
           }
          ],
          "scatterternary": [
           {
            "marker": {
             "colorbar": {
              "outlinewidth": 0,
              "ticks": ""
             }
            },
            "type": "scatterternary"
           }
          ],
          "surface": [
           {
            "colorbar": {
             "outlinewidth": 0,
             "ticks": ""
            },
            "colorscale": [
             [
              0,
              "#0d0887"
             ],
             [
              0.1111111111111111,
              "#46039f"
             ],
             [
              0.2222222222222222,
              "#7201a8"
             ],
             [
              0.3333333333333333,
              "#9c179e"
             ],
             [
              0.4444444444444444,
              "#bd3786"
             ],
             [
              0.5555555555555556,
              "#d8576b"
             ],
             [
              0.6666666666666666,
              "#ed7953"
             ],
             [
              0.7777777777777778,
              "#fb9f3a"
             ],
             [
              0.8888888888888888,
              "#fdca26"
             ],
             [
              1,
              "#f0f921"
             ]
            ],
            "type": "surface"
           }
          ],
          "table": [
           {
            "cells": {
             "fill": {
              "color": "#EBF0F8"
             },
             "line": {
              "color": "white"
             }
            },
            "header": {
             "fill": {
              "color": "#C8D4E3"
             },
             "line": {
              "color": "white"
             }
            },
            "type": "table"
           }
          ]
         },
         "layout": {
          "annotationdefaults": {
           "arrowcolor": "#2a3f5f",
           "arrowhead": 0,
           "arrowwidth": 1
          },
          "autotypenumbers": "strict",
          "coloraxis": {
           "colorbar": {
            "outlinewidth": 0,
            "ticks": ""
           }
          },
          "colorscale": {
           "diverging": [
            [
             0,
             "#8e0152"
            ],
            [
             0.1,
             "#c51b7d"
            ],
            [
             0.2,
             "#de77ae"
            ],
            [
             0.3,
             "#f1b6da"
            ],
            [
             0.4,
             "#fde0ef"
            ],
            [
             0.5,
             "#f7f7f7"
            ],
            [
             0.6,
             "#e6f5d0"
            ],
            [
             0.7,
             "#b8e186"
            ],
            [
             0.8,
             "#7fbc41"
            ],
            [
             0.9,
             "#4d9221"
            ],
            [
             1,
             "#276419"
            ]
           ],
           "sequential": [
            [
             0,
             "#0d0887"
            ],
            [
             0.1111111111111111,
             "#46039f"
            ],
            [
             0.2222222222222222,
             "#7201a8"
            ],
            [
             0.3333333333333333,
             "#9c179e"
            ],
            [
             0.4444444444444444,
             "#bd3786"
            ],
            [
             0.5555555555555556,
             "#d8576b"
            ],
            [
             0.6666666666666666,
             "#ed7953"
            ],
            [
             0.7777777777777778,
             "#fb9f3a"
            ],
            [
             0.8888888888888888,
             "#fdca26"
            ],
            [
             1,
             "#f0f921"
            ]
           ],
           "sequentialminus": [
            [
             0,
             "#0d0887"
            ],
            [
             0.1111111111111111,
             "#46039f"
            ],
            [
             0.2222222222222222,
             "#7201a8"
            ],
            [
             0.3333333333333333,
             "#9c179e"
            ],
            [
             0.4444444444444444,
             "#bd3786"
            ],
            [
             0.5555555555555556,
             "#d8576b"
            ],
            [
             0.6666666666666666,
             "#ed7953"
            ],
            [
             0.7777777777777778,
             "#fb9f3a"
            ],
            [
             0.8888888888888888,
             "#fdca26"
            ],
            [
             1,
             "#f0f921"
            ]
           ]
          },
          "colorway": [
           "#636efa",
           "#EF553B",
           "#00cc96",
           "#ab63fa",
           "#FFA15A",
           "#19d3f3",
           "#FF6692",
           "#B6E880",
           "#FF97FF",
           "#FECB52"
          ],
          "font": {
           "color": "#2a3f5f"
          },
          "geo": {
           "bgcolor": "white",
           "lakecolor": "white",
           "landcolor": "#E5ECF6",
           "showlakes": true,
           "showland": true,
           "subunitcolor": "white"
          },
          "hoverlabel": {
           "align": "left"
          },
          "hovermode": "closest",
          "mapbox": {
           "style": "light"
          },
          "paper_bgcolor": "white",
          "plot_bgcolor": "#E5ECF6",
          "polar": {
           "angularaxis": {
            "gridcolor": "white",
            "linecolor": "white",
            "ticks": ""
           },
           "bgcolor": "#E5ECF6",
           "radialaxis": {
            "gridcolor": "white",
            "linecolor": "white",
            "ticks": ""
           }
          },
          "scene": {
           "xaxis": {
            "backgroundcolor": "#E5ECF6",
            "gridcolor": "white",
            "gridwidth": 2,
            "linecolor": "white",
            "showbackground": true,
            "ticks": "",
            "zerolinecolor": "white"
           },
           "yaxis": {
            "backgroundcolor": "#E5ECF6",
            "gridcolor": "white",
            "gridwidth": 2,
            "linecolor": "white",
            "showbackground": true,
            "ticks": "",
            "zerolinecolor": "white"
           },
           "zaxis": {
            "backgroundcolor": "#E5ECF6",
            "gridcolor": "white",
            "gridwidth": 2,
            "linecolor": "white",
            "showbackground": true,
            "ticks": "",
            "zerolinecolor": "white"
           }
          },
          "shapedefaults": {
           "line": {
            "color": "#2a3f5f"
           }
          },
          "ternary": {
           "aaxis": {
            "gridcolor": "white",
            "linecolor": "white",
            "ticks": ""
           },
           "baxis": {
            "gridcolor": "white",
            "linecolor": "white",
            "ticks": ""
           },
           "bgcolor": "#E5ECF6",
           "caxis": {
            "gridcolor": "white",
            "linecolor": "white",
            "ticks": ""
           }
          },
          "title": {
           "x": 0.05
          },
          "xaxis": {
           "automargin": true,
           "gridcolor": "white",
           "linecolor": "white",
           "ticks": "",
           "title": {
            "standoff": 15
           },
           "zerolinecolor": "white",
           "zerolinewidth": 2
          },
          "yaxis": {
           "automargin": true,
           "gridcolor": "white",
           "linecolor": "white",
           "ticks": "",
           "title": {
            "standoff": 15
           },
           "zerolinecolor": "white",
           "zerolinewidth": 2
          }
         }
        },
        "title": {
         "text": "Optimization History Plot"
        },
        "xaxis": {
         "title": {
          "text": "#Trials"
         }
        },
        "yaxis": {
         "title": {
          "text": "Objective Value"
         }
        }
       }
      },
      "text/html": [
       "<div>                            <div id=\"2205b9b7-a495-488d-aaaf-8a4d39b3694b\" class=\"plotly-graph-div\" style=\"height:525px; width:100%;\"></div>            <script type=\"text/javascript\">                require([\"plotly\"], function(Plotly) {                    window.PLOTLYENV=window.PLOTLYENV || {};                                    if (document.getElementById(\"2205b9b7-a495-488d-aaaf-8a4d39b3694b\")) {                    Plotly.newPlot(                        \"2205b9b7-a495-488d-aaaf-8a4d39b3694b\",                        [{\"mode\":\"markers\",\"name\":\"Objective Value\",\"x\":[0,1,2,3,4,5,6,7,8,9,10,11,12,13,14,15,16,17,18,19,20,21,22,23,24,25,26,27,28,29,30,31,32,33,34,35,36,37,38,39,40,41,42,43,44,45,46,47,48,49,50,51,52,53,54,55,56,57,58,59],\"y\":[3876.27,94.6983,126.406,123.031,499.056,95.9208,97.0411,115.949,92.6815,98.4047,204.782,101.668,96.3799,339.508,3791.88,107.836,98.2167,109.833,147.379,105.249,122.578,104.214,101.689,587.617,807.137,2003.86,99.9868,110.356,116.435,96.305,114.322,104.632,108.067,102.271,168.467,101.448,204.583,93.6392,107.467,107.357,99.931,104.987,110.016,98.5731,95.1972,98.1565,112.213,614.489,96.8047,96.1505,94.36,95.1292,90.2924,98.5366,94.2204,97.552,99.8519,96.0645,102.42,92.6316],\"type\":\"scatter\"},{\"name\":\"Best Value\",\"x\":[0,1,2,3,4,5,6,7,8,9,10,11,12,13,14,15,16,17,18,19,20,21,22,23,24,25,26,27,28,29,30,31,32,33,34,35,36,37,38,39,40,41,42,43,44,45,46,47,48,49,50,51,52,53,54,55,56,57,58,59],\"y\":[3876.27,94.6983,94.6983,94.6983,94.6983,94.6983,94.6983,94.6983,92.6815,92.6815,92.6815,92.6815,92.6815,92.6815,92.6815,92.6815,92.6815,92.6815,92.6815,92.6815,92.6815,92.6815,92.6815,92.6815,92.6815,92.6815,92.6815,92.6815,92.6815,92.6815,92.6815,92.6815,92.6815,92.6815,92.6815,92.6815,92.6815,92.6815,92.6815,92.6815,92.6815,92.6815,92.6815,92.6815,92.6815,92.6815,92.6815,92.6815,92.6815,92.6815,92.6815,92.6815,90.2924,90.2924,90.2924,90.2924,90.2924,90.2924,90.2924,90.2924],\"type\":\"scatter\"}],                        {\"title\":{\"text\":\"Optimization History Plot\"},\"xaxis\":{\"title\":{\"text\":\"#Trials\"}},\"yaxis\":{\"title\":{\"text\":\"Objective Value\"}},\"template\":{\"data\":{\"bar\":[{\"error_x\":{\"color\":\"#2a3f5f\"},\"error_y\":{\"color\":\"#2a3f5f\"},\"marker\":{\"line\":{\"color\":\"#E5ECF6\",\"width\":0.5},\"pattern\":{\"fillmode\":\"overlay\",\"size\":10,\"solidity\":0.2}},\"type\":\"bar\"}],\"barpolar\":[{\"marker\":{\"line\":{\"color\":\"#E5ECF6\",\"width\":0.5},\"pattern\":{\"fillmode\":\"overlay\",\"size\":10,\"solidity\":0.2}},\"type\":\"barpolar\"}],\"carpet\":[{\"aaxis\":{\"endlinecolor\":\"#2a3f5f\",\"gridcolor\":\"white\",\"linecolor\":\"white\",\"minorgridcolor\":\"white\",\"startlinecolor\":\"#2a3f5f\"},\"baxis\":{\"endlinecolor\":\"#2a3f5f\",\"gridcolor\":\"white\",\"linecolor\":\"white\",\"minorgridcolor\":\"white\",\"startlinecolor\":\"#2a3f5f\"},\"type\":\"carpet\"}],\"choropleth\":[{\"colorbar\":{\"outlinewidth\":0,\"ticks\":\"\"},\"type\":\"choropleth\"}],\"contour\":[{\"colorbar\":{\"outlinewidth\":0,\"ticks\":\"\"},\"colorscale\":[[0.0,\"#0d0887\"],[0.1111111111111111,\"#46039f\"],[0.2222222222222222,\"#7201a8\"],[0.3333333333333333,\"#9c179e\"],[0.4444444444444444,\"#bd3786\"],[0.5555555555555556,\"#d8576b\"],[0.6666666666666666,\"#ed7953\"],[0.7777777777777778,\"#fb9f3a\"],[0.8888888888888888,\"#fdca26\"],[1.0,\"#f0f921\"]],\"type\":\"contour\"}],\"contourcarpet\":[{\"colorbar\":{\"outlinewidth\":0,\"ticks\":\"\"},\"type\":\"contourcarpet\"}],\"heatmap\":[{\"colorbar\":{\"outlinewidth\":0,\"ticks\":\"\"},\"colorscale\":[[0.0,\"#0d0887\"],[0.1111111111111111,\"#46039f\"],[0.2222222222222222,\"#7201a8\"],[0.3333333333333333,\"#9c179e\"],[0.4444444444444444,\"#bd3786\"],[0.5555555555555556,\"#d8576b\"],[0.6666666666666666,\"#ed7953\"],[0.7777777777777778,\"#fb9f3a\"],[0.8888888888888888,\"#fdca26\"],[1.0,\"#f0f921\"]],\"type\":\"heatmap\"}],\"heatmapgl\":[{\"colorbar\":{\"outlinewidth\":0,\"ticks\":\"\"},\"colorscale\":[[0.0,\"#0d0887\"],[0.1111111111111111,\"#46039f\"],[0.2222222222222222,\"#7201a8\"],[0.3333333333333333,\"#9c179e\"],[0.4444444444444444,\"#bd3786\"],[0.5555555555555556,\"#d8576b\"],[0.6666666666666666,\"#ed7953\"],[0.7777777777777778,\"#fb9f3a\"],[0.8888888888888888,\"#fdca26\"],[1.0,\"#f0f921\"]],\"type\":\"heatmapgl\"}],\"histogram\":[{\"marker\":{\"pattern\":{\"fillmode\":\"overlay\",\"size\":10,\"solidity\":0.2}},\"type\":\"histogram\"}],\"histogram2d\":[{\"colorbar\":{\"outlinewidth\":0,\"ticks\":\"\"},\"colorscale\":[[0.0,\"#0d0887\"],[0.1111111111111111,\"#46039f\"],[0.2222222222222222,\"#7201a8\"],[0.3333333333333333,\"#9c179e\"],[0.4444444444444444,\"#bd3786\"],[0.5555555555555556,\"#d8576b\"],[0.6666666666666666,\"#ed7953\"],[0.7777777777777778,\"#fb9f3a\"],[0.8888888888888888,\"#fdca26\"],[1.0,\"#f0f921\"]],\"type\":\"histogram2d\"}],\"histogram2dcontour\":[{\"colorbar\":{\"outlinewidth\":0,\"ticks\":\"\"},\"colorscale\":[[0.0,\"#0d0887\"],[0.1111111111111111,\"#46039f\"],[0.2222222222222222,\"#7201a8\"],[0.3333333333333333,\"#9c179e\"],[0.4444444444444444,\"#bd3786\"],[0.5555555555555556,\"#d8576b\"],[0.6666666666666666,\"#ed7953\"],[0.7777777777777778,\"#fb9f3a\"],[0.8888888888888888,\"#fdca26\"],[1.0,\"#f0f921\"]],\"type\":\"histogram2dcontour\"}],\"mesh3d\":[{\"colorbar\":{\"outlinewidth\":0,\"ticks\":\"\"},\"type\":\"mesh3d\"}],\"parcoords\":[{\"line\":{\"colorbar\":{\"outlinewidth\":0,\"ticks\":\"\"}},\"type\":\"parcoords\"}],\"pie\":[{\"automargin\":true,\"type\":\"pie\"}],\"scatter\":[{\"marker\":{\"colorbar\":{\"outlinewidth\":0,\"ticks\":\"\"}},\"type\":\"scatter\"}],\"scatter3d\":[{\"line\":{\"colorbar\":{\"outlinewidth\":0,\"ticks\":\"\"}},\"marker\":{\"colorbar\":{\"outlinewidth\":0,\"ticks\":\"\"}},\"type\":\"scatter3d\"}],\"scattercarpet\":[{\"marker\":{\"colorbar\":{\"outlinewidth\":0,\"ticks\":\"\"}},\"type\":\"scattercarpet\"}],\"scattergeo\":[{\"marker\":{\"colorbar\":{\"outlinewidth\":0,\"ticks\":\"\"}},\"type\":\"scattergeo\"}],\"scattergl\":[{\"marker\":{\"colorbar\":{\"outlinewidth\":0,\"ticks\":\"\"}},\"type\":\"scattergl\"}],\"scattermapbox\":[{\"marker\":{\"colorbar\":{\"outlinewidth\":0,\"ticks\":\"\"}},\"type\":\"scattermapbox\"}],\"scatterpolar\":[{\"marker\":{\"colorbar\":{\"outlinewidth\":0,\"ticks\":\"\"}},\"type\":\"scatterpolar\"}],\"scatterpolargl\":[{\"marker\":{\"colorbar\":{\"outlinewidth\":0,\"ticks\":\"\"}},\"type\":\"scatterpolargl\"}],\"scatterternary\":[{\"marker\":{\"colorbar\":{\"outlinewidth\":0,\"ticks\":\"\"}},\"type\":\"scatterternary\"}],\"surface\":[{\"colorbar\":{\"outlinewidth\":0,\"ticks\":\"\"},\"colorscale\":[[0.0,\"#0d0887\"],[0.1111111111111111,\"#46039f\"],[0.2222222222222222,\"#7201a8\"],[0.3333333333333333,\"#9c179e\"],[0.4444444444444444,\"#bd3786\"],[0.5555555555555556,\"#d8576b\"],[0.6666666666666666,\"#ed7953\"],[0.7777777777777778,\"#fb9f3a\"],[0.8888888888888888,\"#fdca26\"],[1.0,\"#f0f921\"]],\"type\":\"surface\"}],\"table\":[{\"cells\":{\"fill\":{\"color\":\"#EBF0F8\"},\"line\":{\"color\":\"white\"}},\"header\":{\"fill\":{\"color\":\"#C8D4E3\"},\"line\":{\"color\":\"white\"}},\"type\":\"table\"}]},\"layout\":{\"annotationdefaults\":{\"arrowcolor\":\"#2a3f5f\",\"arrowhead\":0,\"arrowwidth\":1},\"autotypenumbers\":\"strict\",\"coloraxis\":{\"colorbar\":{\"outlinewidth\":0,\"ticks\":\"\"}},\"colorscale\":{\"diverging\":[[0,\"#8e0152\"],[0.1,\"#c51b7d\"],[0.2,\"#de77ae\"],[0.3,\"#f1b6da\"],[0.4,\"#fde0ef\"],[0.5,\"#f7f7f7\"],[0.6,\"#e6f5d0\"],[0.7,\"#b8e186\"],[0.8,\"#7fbc41\"],[0.9,\"#4d9221\"],[1,\"#276419\"]],\"sequential\":[[0.0,\"#0d0887\"],[0.1111111111111111,\"#46039f\"],[0.2222222222222222,\"#7201a8\"],[0.3333333333333333,\"#9c179e\"],[0.4444444444444444,\"#bd3786\"],[0.5555555555555556,\"#d8576b\"],[0.6666666666666666,\"#ed7953\"],[0.7777777777777778,\"#fb9f3a\"],[0.8888888888888888,\"#fdca26\"],[1.0,\"#f0f921\"]],\"sequentialminus\":[[0.0,\"#0d0887\"],[0.1111111111111111,\"#46039f\"],[0.2222222222222222,\"#7201a8\"],[0.3333333333333333,\"#9c179e\"],[0.4444444444444444,\"#bd3786\"],[0.5555555555555556,\"#d8576b\"],[0.6666666666666666,\"#ed7953\"],[0.7777777777777778,\"#fb9f3a\"],[0.8888888888888888,\"#fdca26\"],[1.0,\"#f0f921\"]]},\"colorway\":[\"#636efa\",\"#EF553B\",\"#00cc96\",\"#ab63fa\",\"#FFA15A\",\"#19d3f3\",\"#FF6692\",\"#B6E880\",\"#FF97FF\",\"#FECB52\"],\"font\":{\"color\":\"#2a3f5f\"},\"geo\":{\"bgcolor\":\"white\",\"lakecolor\":\"white\",\"landcolor\":\"#E5ECF6\",\"showlakes\":true,\"showland\":true,\"subunitcolor\":\"white\"},\"hoverlabel\":{\"align\":\"left\"},\"hovermode\":\"closest\",\"mapbox\":{\"style\":\"light\"},\"paper_bgcolor\":\"white\",\"plot_bgcolor\":\"#E5ECF6\",\"polar\":{\"angularaxis\":{\"gridcolor\":\"white\",\"linecolor\":\"white\",\"ticks\":\"\"},\"bgcolor\":\"#E5ECF6\",\"radialaxis\":{\"gridcolor\":\"white\",\"linecolor\":\"white\",\"ticks\":\"\"}},\"scene\":{\"xaxis\":{\"backgroundcolor\":\"#E5ECF6\",\"gridcolor\":\"white\",\"gridwidth\":2,\"linecolor\":\"white\",\"showbackground\":true,\"ticks\":\"\",\"zerolinecolor\":\"white\"},\"yaxis\":{\"backgroundcolor\":\"#E5ECF6\",\"gridcolor\":\"white\",\"gridwidth\":2,\"linecolor\":\"white\",\"showbackground\":true,\"ticks\":\"\",\"zerolinecolor\":\"white\"},\"zaxis\":{\"backgroundcolor\":\"#E5ECF6\",\"gridcolor\":\"white\",\"gridwidth\":2,\"linecolor\":\"white\",\"showbackground\":true,\"ticks\":\"\",\"zerolinecolor\":\"white\"}},\"shapedefaults\":{\"line\":{\"color\":\"#2a3f5f\"}},\"ternary\":{\"aaxis\":{\"gridcolor\":\"white\",\"linecolor\":\"white\",\"ticks\":\"\"},\"baxis\":{\"gridcolor\":\"white\",\"linecolor\":\"white\",\"ticks\":\"\"},\"bgcolor\":\"#E5ECF6\",\"caxis\":{\"gridcolor\":\"white\",\"linecolor\":\"white\",\"ticks\":\"\"}},\"title\":{\"x\":0.05},\"xaxis\":{\"automargin\":true,\"gridcolor\":\"white\",\"linecolor\":\"white\",\"ticks\":\"\",\"title\":{\"standoff\":15},\"zerolinecolor\":\"white\",\"zerolinewidth\":2},\"yaxis\":{\"automargin\":true,\"gridcolor\":\"white\",\"linecolor\":\"white\",\"ticks\":\"\",\"title\":{\"standoff\":15},\"zerolinecolor\":\"white\",\"zerolinewidth\":2}}}},                        {\"responsive\": true}                    ).then(function(){\n",
       "                            \n",
       "var gd = document.getElementById('2205b9b7-a495-488d-aaaf-8a4d39b3694b');\n",
       "var x = new MutationObserver(function (mutations, observer) {{\n",
       "        var display = window.getComputedStyle(gd).display;\n",
       "        if (!display || display === 'none') {{\n",
       "            console.log([gd, 'removed!']);\n",
       "            Plotly.purge(gd);\n",
       "            observer.disconnect();\n",
       "        }}\n",
       "}});\n",
       "\n",
       "// Listen for the removal of the full notebook cells\n",
       "var notebookContainer = gd.closest('#notebook-container');\n",
       "if (notebookContainer) {{\n",
       "    x.observe(notebookContainer, {childList: true});\n",
       "}}\n",
       "\n",
       "// Listen for the clearing of the current output cell\n",
       "var outputEl = gd.closest('.output');\n",
       "if (outputEl) {{\n",
       "    x.observe(outputEl, {childList: true});\n",
       "}}\n",
       "\n",
       "                        })                };                });            </script>        </div>"
      ]
     },
     "metadata": {},
     "output_type": "display_data"
    }
   ],
   "source": [
    "tpe_study = get_study(\"tpe-oc20-3k\")\n",
    "viz.plot_optimization_history(tpe_study)"
   ]
  },
  {
   "cell_type": "code",
   "execution_count": 16,
   "id": "8550fe4b-9d83-45c6-add6-c5f49713ee93",
   "metadata": {},
   "outputs": [
    {
     "name": "stdout",
     "output_type": "stream",
     "text": [
      "Saved to param-values-tpe.png\n"
     ]
    },
    {
     "data": {
      "image/png": "[encoded data removed]",
      "text/plain": [
       "<Figure size 640x480 with 2 Axes>"
      ]
     },
     "metadata": {},
     "output_type": "display_data"
    }
   ],
   "source": [
    "plot_param_values(tpe_study, \"TPE\")"
   ]
  },
  {
   "cell_type": "code",
   "execution_count": 14,
   "id": "5903b2ea-0c02-4424-84af-5a37ed6af65d",
   "metadata": {},
   "outputs": [
    {
     "data": {
      "text/plain": [
       "(0.0, 500.0)"
      ]
     },
     "execution_count": 14,
     "metadata": {},
     "output_type": "execute_result"
    },
    {
     "data": {
      "image/png": "[encoded data removed]",
      "text/plain": [
       "<Figure size 1080x360 with 1 Axes>"
      ]
     },
     "metadata": {},
     "output_type": "display_data"
    }
   ],
   "source": [
    "rand_study = get_study(\"random-oc20-3k\")\n",
    "viz.plot_optimization_history(rand_study)\n",
    "plt.ylim(0, 500)"
   ]
  },
  {
   "cell_type": "code",
   "execution_count": 29,
   "id": "8dab374b-13d3-49ab-9bee-a143b43c1663",
   "metadata": {},
   "outputs": [
    {
     "name": "stdout",
     "output_type": "stream",
     "text": [
      "Saved to param-values-random.png\n"
     ]
    },
    {
     "data": {
      "image/png": "[encoded data removed]",
      "text/plain": [
       "<Figure size 1080x360 with 2 Axes>"
      ]
     },
     "metadata": {},
     "output_type": "display_data"
    }
   ],
   "source": [
    "plot_param_values(rand_study, \"Random\")"
   ]
  },
  {
   "cell_type": "markdown",
   "id": "9c58f064-1bef-47dd-a770-d54c89cf6c00",
   "metadata": {},
   "source": [
    "## Big Hyperparameter Search"
   ]
  },
  {
   "cell_type": "code",
   "execution_count": 8,
   "id": "c84e6138-715d-4b16-a544-701eb22c6ae5",
   "metadata": {},
   "outputs": [
    {
     "name": "stdout",
     "output_type": "stream",
     "text": [
      "mysql running, job ID: 115629\n",
      "115651.sched-pace-ice.pace.gatech.edu\n",
      "mysql running, job ID: 115629\n",
      "115652.sched-pace-ice.pace.gatech.edu\n",
      "mysql running, job ID: 115629\n",
      "115653.sched-pace-ice.pace.gatech.edu\n",
      "mysql running, job ID: 115629\n",
      "115654.sched-pace-ice.pace.gatech.edu\n",
      "mysql running, job ID: 115629\n",
      "115655.sched-pace-ice.pace.gatech.edu\n"
     ]
    }
   ],
   "source": [
    "for _ in range(5):\n",
    "    ampopt.run_pace_tuning_job(\n",
    "        study=\"50K-alex-with-lr-and-gamma\",\n",
    "        data=\"../data/oc20_50k_alex.lmdb\",\n",
    "        trials=30,\n",
    "        epochs=250,\n",
    "        params=format_params(\n",
    "            dropout_rate=0.0,\n",
    "        ),\n",
    "        pruner=\"None\",\n",
    "    )"
   ]
  },
  {
   "cell_type": "code",
   "execution_count": 10,
   "id": "13b7f874-3988-4616-95e3-f4333b557d9b",
   "metadata": {},
   "outputs": [
    {
     "name": "stdout",
     "output_type": "stream",
     "text": [
      "{'gamma': 0.999565, 'lr': 0.000866342, 'num_layers': 11, 'num_nodes': 23}\n"
     ]
    }
   ],
   "source": [
    "best_trial = get_study(\"50k-alex-with-lr-and-gamma\").best_trial\n",
    "print(best_trial.params)"
   ]
  },
  {
   "cell_type": "code",
   "execution_count": null,
   "id": "5d9c739d-4921-4be1-af38-efb3c9292bbd",
   "metadata": {},
   "outputs": [],
   "source": [
    "ampopt.eval_score(\n",
    "    epochs=1_000,\n",
    "    train_fname=\"../data/oc20_50k_alex.lmdb\",\n",
    "    valid_fname=\"../data/oc20_3k_train.traj\",\n",
    "    dropout_rate=0.0,\n",
    "    **best_trial.params,\n",
    ")"
   ]
  },
  {
   "cell_type": "markdown",
   "id": "32be234f-d1fc-4cc5-875d-62afeb471426",
   "metadata": {},
   "source": [
    "result: 62.59552522676968"
   ]
  }
 ],
 "metadata": {
  "kernelspec": {
   "display_name": "Python 3 (ipykernel)",
   "language": "python",
   "name": "python3"
  },
  "language_info": {
   "codemirror_mode": {
    "name": "ipython",
    "version": 3
   },
   "file_extension": ".py",
   "mimetype": "text/x-python",
   "name": "python",
   "nbconvert_exporter": "python",
   "pygments_lexer": "ipython3",
   "version": "3.8.13"
  }
 },
 "nbformat": 4,
 "nbformat_minor": 5
}
