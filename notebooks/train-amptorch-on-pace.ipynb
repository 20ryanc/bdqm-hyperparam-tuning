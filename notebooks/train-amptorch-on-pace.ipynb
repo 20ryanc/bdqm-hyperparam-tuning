{
 "cells": [
  {
   "cell_type": "code",
   "execution_count": 2,
   "metadata": {},
   "outputs": [],
   "source": [
    "import torch\n",
    "import ase.io\n",
    "from amptorch.trainer import AtomsTrainer\n",
    "import amptorch\n",
    "\n",
    "from pathlib import Path"
   ]
  },
  {
   "cell_type": "code",
   "execution_count": 14,
   "metadata": {},
   "outputs": [],
   "source": [
    "amptorch_path = Path(\"../../amptorch\")\n",
    "train_data_path = Path(\"../oc20_3k_train.traj\")"
   ]
  },
  {
   "cell_type": "code",
   "execution_count": 15,
   "metadata": {},
   "outputs": [],
   "source": [
    "train_data = ase.io.read(train_data_path)\n",
    "\n",
    "elements = list(set(atom.symbol for atom in train_data))\n",
    "\n",
    "def get_path_to_gaussian(element):\n",
    "    gaussians_path = amptorch_path / \"examples/GMP/valence_gaussians\"\n",
    "    return next(p for p in gaussians_path.iterdir() if p.name.startswith(element + \"_\"))\n",
    "\n",
    "atom_gaussians = {element: get_path_to_gaussian(element) for element in elements}\n",
    "\n",
    "sigmas = [0.2, 0.69, 1.1, 1.66, 2.66]\n",
    "\n",
    "MCSHs = {\n",
    "    \"MCSHs\": {\n",
    "        \"0\": {\"groups\": [1], \"sigmas\": sigmas},\n",
    "        \"1\": {\"groups\": [1], \"sigmas\": sigmas},\n",
    "        \"2\": {\"groups\": [1, 2], \"sigmas\": sigmas},\n",
    "    },\n",
    "    \"atom_gaussians\": atom_gaussians,\n",
    "    \"cutoff\": 8,\n",
    "}\n"
   ]
  },
  {
   "cell_type": "code",
   "execution_count": 16,
   "metadata": {},
   "outputs": [],
   "source": [
    "dataset_config = {\n",
    "    \"raw_data\": train_data_path,\n",
    "    \"fp_scheme\": \"gmp\",\n",
    "    \"fp_params\": MCSHs,\n",
    "    \"elements\": elements,\n",
    "    \"save_fps\": True,\n",
    "    \"scaling\": {\"type\": \"normalize\", \"range\": (0, 1)},\n",
    "    \"val_split\": 0.1,\n",
    "}\n",
    "\n",
    "cmd_config = "
   ]
  },
  {
   "cell_type": "code",
   "execution_count": 19,
   "metadata": {},
   "outputs": [],
   "source": [
    "def calc_loss(**params):\n",
    "    model_params = [\"get_forces\", \"num_layers\", \"num_nodes\", \"batchnorm\"]\n",
    "    optim_params = [\"force_coefficient\", \"lr\", \"batch_size\", \"epochs\", \"loss\", \"metric\"]\n",
    "    \n",
    "    config = {\n",
    "        \"model\": {\"name\": \"singlenn\"},\n",
    "        \"optim\": {},\n",
    "        \"dataset\": {\n",
    "            \"raw_data\": str(train_data_path),\n",
    "            \"fp_scheme\": \"gmp\",\n",
    "            \"fp_params\": MCSHs,\n",
    "            \"elements\": elements,\n",
    "            \"save_fps\": True,\n",
    "            \"scaling\": {\"type\": \"normalize\", \"range\": (0, 1)},\n",
    "            \"val_split\": 0.1,\n",
    "        },\n",
    "        \"cmd\": {\n",
    "            \"debug\": False,\n",
    "            \"run_dir\": \"./\",\n",
    "            \"seed\": 1,\n",
    "            \"identifier\": \"test\",\n",
    "            \"verbose\": True,\n",
    "            \"logger\": False,\n",
    "        },\n",
    "    }\n",
    "    \n",
    "    for k in model_params:\n",
    "        config[\"model\"][k] = params[k]\n",
    "    for k in optim_params:\n",
    "        config[\"optim\"][k] = params[k]\n",
    "        \n",
    "    trainer = AtomsTrainer(config)\n",
    "    trainer.train()"
   ]
  },
  {
   "cell_type": "code",
   "execution_count": 20,
   "metadata": {},
   "outputs": [
    {
     "name": "stdout",
     "output_type": "stream",
     "text": [
      "Results saved to ./checkpoints/2022-02-14-12-58-31-test\n"
     ]
    },
    {
     "data": {
      "application/vnd.jupyter.widget-view+json": {
       "model_id": "06fa4a9e379245708284f152ee170fa8",
       "version_major": 2,
       "version_minor": 0
      },
      "text/plain": [
       "HBox(children=(FloatProgress(value=0.0, description='converting ASE atoms collection to Data objects', max=300…"
      ]
     },
     "metadata": {},
     "output_type": "display_data"
    },
    {
     "name": "stdout",
     "output_type": "stream",
     "text": [
      "\n"
     ]
    },
    {
     "data": {
      "application/vnd.jupyter.widget-view+json": {
       "model_id": "2c35c9287d4f484b9fe258d1f7fabf3f",
       "version_major": 2,
       "version_minor": 0
      },
      "text/plain": [
       "HBox(children=(FloatProgress(value=0.0, description='Scaling Feature data (normalize)', max=3000.0, style=Prog…"
      ]
     },
     "metadata": {},
     "output_type": "display_data"
    },
    {
     "name": "stdout",
     "output_type": "stream",
     "text": [
      "\n"
     ]
    },
    {
     "data": {
      "application/vnd.jupyter.widget-view+json": {
       "model_id": "901fd4f8f2a54c4dbc9108aa749e162f",
       "version_major": 2,
       "version_minor": 0
      },
      "text/plain": [
       "HBox(children=(FloatProgress(value=0.0, description='Scaling Target data', max=3000.0, style=ProgressStyle(des…"
      ]
     },
     "metadata": {},
     "output_type": "display_data"
    },
    {
     "name": "stdout",
     "output_type": "stream",
     "text": [
      "\n",
      "Loading dataset: 3000 images\n",
      "Use Xavier initialization\n",
      "Loading model: 501 parameters\n",
      "Loading skorch trainer\n",
      "  epoch    train_energy_mae    train_forces_mae    train_loss    val_energy_mae    val_forces_mae    valid_loss    cp     dur\n",
      "-------  ------------------  ------------------  ------------  ----------------  ----------------  ------------  ----  ------\n",
      "      1           \u001b[36m1066.3795\u001b[0m             \u001b[32m55.6408\u001b[0m       \u001b[35m33.2362\u001b[0m          \u001b[31m501.5571\u001b[0m           \u001b[94m34.6613\u001b[0m        \u001b[36m7.4407\u001b[0m     +  6.4808\n"
     ]
    },
    {
     "name": "stderr",
     "output_type": "stream",
     "text": [
      "<string>:6: VisibleDeprecationWarning: Creating an ndarray from ragged nested sequences (which is a list-or-tuple of lists-or-tuples-or ndarrays with different lengths or shapes) is deprecated. If you meant to do this, you must specify 'dtype=object' when creating the ndarray.\n"
     ]
    },
    {
     "name": "stdout",
     "output_type": "stream",
     "text": [
      "      2            \u001b[36m441.6300\u001b[0m             \u001b[32m32.3773\u001b[0m        \u001b[35m4.8012\u001b[0m          \u001b[31m327.7580\u001b[0m           \u001b[94m26.6124\u001b[0m        \u001b[36m2.3287\u001b[0m     +  6.4146\n",
      "      3            \u001b[36m338.0735\u001b[0m             \u001b[32m22.7018\u001b[0m        \u001b[35m2.5142\u001b[0m          438.6731           \u001b[94m20.8129\u001b[0m        3.1687        6.4898\n",
      "      4            \u001b[36m295.9209\u001b[0m             \u001b[32m16.5670\u001b[0m        \u001b[35m1.9177\u001b[0m          \u001b[31m279.4230\u001b[0m           \u001b[94m17.1901\u001b[0m        \u001b[36m1.4291\u001b[0m     +  6.4499\n",
      "      5            \u001b[36m253.7717\u001b[0m             \u001b[32m13.4289\u001b[0m        \u001b[35m1.3217\u001b[0m          398.5257           \u001b[94m15.6561\u001b[0m        2.3555        7.1460\n",
      "      6            \u001b[36m248.9843\u001b[0m             \u001b[32m11.5695\u001b[0m        \u001b[35m1.1249\u001b[0m          \u001b[31m239.2520\u001b[0m           \u001b[94m12.3963\u001b[0m        \u001b[36m1.0510\u001b[0m     +  6.5255\n",
      "      7            \u001b[36m233.0127\u001b[0m              \u001b[32m9.5620\u001b[0m        \u001b[35m0.9323\u001b[0m          \u001b[31m238.6214\u001b[0m           \u001b[94m10.7500\u001b[0m        1.1394     +  6.4103\n",
      "      8            \u001b[36m215.1974\u001b[0m              \u001b[32m8.2029\u001b[0m        \u001b[35m0.7460\u001b[0m          \u001b[31m215.6015\u001b[0m           \u001b[94m10.0887\u001b[0m        \u001b[36m0.9749\u001b[0m     +  6.5280\n",
      "      9            \u001b[36m215.0403\u001b[0m              \u001b[32m7.8546\u001b[0m        0.8876          \u001b[31m202.5410\u001b[0m            \u001b[94m9.1267\u001b[0m        \u001b[36m0.6670\u001b[0m     +  6.5039\n",
      "     10            \u001b[36m203.8642\u001b[0m              \u001b[32m6.7814\u001b[0m        \u001b[35m0.6767\u001b[0m          234.5945            \u001b[94m8.0997\u001b[0m        1.0639        6.5091\n",
      "Training completed in 65.93976068496704s\n"
     ]
    }
   ],
   "source": [
    "calc_loss(\n",
    "    get_forces=True,\n",
    "    num_layers=3,\n",
    "    num_nodes=10,\n",
    "    batchnorm=True,\n",
    "    force_coefficient=0,\n",
    "    lr=1e-3,\n",
    "    batch_size=16,\n",
    "    epochs=10,\n",
    "    loss=\"mse\",\n",
    "    metric=\"mae\",\n",
    ")"
   ]
  },
  {
   "cell_type": "code",
   "execution_count": null,
   "metadata": {},
   "outputs": [],
   "source": []
  }
 ],
 "metadata": {
  "kernelspec": {
   "display_name": "Python [conda env:bdqm-hpopt]",
   "language": "python",
   "name": "conda-env-bdqm-hpopt-py"
  },
  "language_info": {
   "codemirror_mode": {
    "name": "ipython",
    "version": 3
   },
   "file_extension": ".py",
   "mimetype": "text/x-python",
   "name": "python",
   "nbconvert_exporter": "python",
   "pygments_lexer": "ipython3",
   "version": "3.7.12"
  }
 },
 "nbformat": 4,
 "nbformat_minor": 4
}
