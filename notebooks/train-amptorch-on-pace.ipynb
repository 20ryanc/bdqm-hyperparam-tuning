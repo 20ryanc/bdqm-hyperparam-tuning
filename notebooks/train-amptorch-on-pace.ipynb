{
 "cells": [
  {
   "cell_type": "code",
   "execution_count": null,
   "metadata": {},
   "outputs": [],
   "source": [
    "import torch\n",
    "import ase.io\n",
    "from amptorch.trainer import AtomsTrainer\n",
    "import amptorch\n",
    "\n",
    "from pathlib import Path"
   ]
  },
  {
   "cell_type": "code",
   "execution_count": null,
   "metadata": {},
   "outputs": [],
   "source": [
    "amptorch_path = Path(\"../../amptorch\")\n",
    "train_data_path = Path(\"../data/oc20_3k_train.traj\")"
   ]
  },
  {
   "cell_type": "code",
   "execution_count": null,
   "metadata": {},
   "outputs": [],
   "source": [
    "train_data = ase.io.read(train_data_path)\n",
    "\n",
    "elements = list(set(atom.symbol for atom in train_data))\n",
    "\n",
    "def get_path_to_gaussian(element):\n",
    "    gaussians_path = amptorch_path / \"examples/GMP/valence_gaussians\"\n",
    "    return next(p for p in gaussians_path.iterdir() if p.name.startswith(element + \"_\"))\n",
    "\n",
    "atom_gaussians = {element: get_path_to_gaussian(element) for element in elements}\n",
    "\n",
    "sigmas = [0.2, 0.69, 1.1, 1.66, 2.66]\n",
    "\n",
    "MCSHs = {\n",
    "    \"MCSHs\": {\n",
    "        \"0\": {\"groups\": [1], \"sigmas\": sigmas},\n",
    "        \"1\": {\"groups\": [1], \"sigmas\": sigmas},\n",
    "        \"2\": {\"groups\": [1, 2], \"sigmas\": sigmas},\n",
    "    },\n",
    "    \"atom_gaussians\": atom_gaussians,\n",
    "    \"cutoff\": 8,\n",
    "}\n"
   ]
  },
  {
   "cell_type": "code",
   "execution_count": null,
   "metadata": {},
   "outputs": [],
   "source": [
    "def calc_loss(**params):\n",
    "    model_params = [\"get_forces\", \"num_layers\", \"num_nodes\", \"batchnorm\"]\n",
    "    optim_params = [\"force_coefficient\", \"lr\", \"batch_size\", \"epochs\", \"loss\", \"metric\"]\n",
    "    \n",
    "    config = {\n",
    "        \"model\": {\"name\": \"singlenn\"},\n",
    "        \"optim\": {},\n",
    "        \"dataset\": {\n",
    "            \"raw_data\": str(train_data_path),\n",
    "            \"fp_scheme\": \"gmp\",\n",
    "            \"fp_params\": MCSHs,\n",
    "            \"elements\": elements,\n",
    "            \"save_fps\": True,\n",
    "            \"scaling\": {\"type\": \"normalize\", \"range\": (0, 1)},\n",
    "            \"val_split\": 0.1,\n",
    "        },\n",
    "        \"cmd\": {\n",
    "            \"debug\": False,\n",
    "            \"run_dir\": \"./\",\n",
    "            \"seed\": 1,\n",
    "            \"identifier\": \"test\",\n",
    "            \"verbose\": True,\n",
    "            \"logger\": False,\n",
    "        },\n",
    "    }\n",
    "    \n",
    "    for k in model_params:\n",
    "        config[\"model\"][k] = params[k]\n",
    "    for k in optim_params:\n",
    "        config[\"optim\"][k] = params[k]\n",
    "        \n",
    "    trainer = AtomsTrainer(config)\n",
    "    trainer.train()"
   ]
  },
  {
   "cell_type": "code",
   "execution_count": null,
   "metadata": {},
   "outputs": [],
   "source": [
    "calc_loss(\n",
    "    get_forces=True,\n",
    "    num_layers=3,\n",
    "    num_nodes=10,\n",
    "    batchnorm=True,\n",
    "    force_coefficient=0,\n",
    "    lr=1e-3,\n",
    "    batch_size=16,\n",
    "    epochs=10,\n",
    "    loss=\"mse\",\n",
    "    metric=\"mae\",\n",
    ")"
   ]
  },
  {
   "cell_type": "code",
   "execution_count": null,
   "metadata": {},
   "outputs": [],
   "source": []
  }
 ],
 "metadata": {
  "kernelspec": {
   "display_name": "Python [conda env:bdqm-hpopt]",
   "language": "python",
   "name": "conda-env-bdqm-hpopt-py"
  },
  "language_info": {
   "codemirror_mode": {
    "name": "ipython",
    "version": 3
   },
   "file_extension": ".py",
   "mimetype": "text/x-python",
   "name": "python",
   "nbconvert_exporter": "python",
   "pygments_lexer": "ipython3",
   "version": "3.7.12"
  }
 },
 "nbformat": 4,
 "nbformat_minor": 4
}
